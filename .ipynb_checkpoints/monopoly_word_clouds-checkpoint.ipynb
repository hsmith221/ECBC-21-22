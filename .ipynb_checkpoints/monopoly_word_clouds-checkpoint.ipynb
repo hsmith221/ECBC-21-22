{
 "cells": [
  {
   "cell_type": "markdown",
   "id": "6092fd0b",
   "metadata": {},
   "source": [
    "# Monopoly Topic Modeling: Word Clouds"
   ]
  },
  {
   "cell_type": "markdown",
   "id": "f8e10101",
   "metadata": {},
   "source": [
    "In our period of focus, the Restoration Period of Europe, *monopolies* become an important concept. But what is discussed when the term \"monopoly\" is used? To begin to figure this out, we will create word clouds for the common terms/words that appear in texts wherein \"monopoly\" or one of its other spellings are found to serve as a basis for finding other relvant research directions. Using pandas and the Python wordcloud package, the below code was created."
   ]
  },
  {
   "cell_type": "markdown",
   "id": "8ee2dc5f",
   "metadata": {},
   "source": [
    "*Code adapted from work by the 2021 Data+ Team: Rubenstein Library's Card Catalogue*: https://github.com/hsmith221/Data--Rubenstein-Library-Card-Catalog/blob/main/word_cloud.ipynb"
   ]
  },
  {
   "cell_type": "code",
   "execution_count": null,
   "id": "50976ebb",
   "metadata": {},
   "outputs": [],
   "source": [
    "# Install relevant packages, skip if already downloaded\n",
    "!pip install wordcloud"
   ]
  },
  {
   "cell_type": "code",
   "execution_count": 6,
   "id": "67371c09",
   "metadata": {},
   "outputs": [],
   "source": [
    "# Import needed packages\n",
    "import pandas as pd\n",
    "import wordcloud\n",
    "\n",
    "from nltk.corpus import stopwords\n",
    "from nltk.tokenize import word_tokenize\n",
    "\n",
    "from collections import Counter"
   ]
  },
  {
   "cell_type": "code",
   "execution_count": null,
   "id": "d0126bfe",
   "metadata": {},
   "outputs": [],
   "source": [
    "# Select dataframe\n",
    "df = pd.read_csv(...)"
   ]
  },
  {
   "cell_type": "code",
   "execution_count": null,
   "id": "d3a33c05",
   "metadata": {},
   "outputs": [],
   "source": [
    "# Preprocess texts\n",
    "\n",
    "stop_words = stopwords.words('english')\n",
    "\n",
    "# Combine full texts of all relevant rows\n",
    "# CHANGE TEXT TO COLUMN NAME\n",
    "full_text = \" \".join([str(row) for row in df.Text])\n",
    "\n",
    "# Tokenize\n",
    "tokenized_text = word_tokenize(full_text)\n",
    "\n",
    "# Remove unwanted values (eg 2 letter words, stopwords)\n",
    "filtered_text = [word for word in tokenized_text if word not in stop_words and len(word) > 2]\n",
    "\n",
    "final_text = (\" \").join(filtered_text)"
   ]
  },
  {
   "cell_type": "code",
   "execution_count": null,
   "id": "903c092b",
   "metadata": {},
   "outputs": [],
   "source": [
    "# Count most common words\n",
    "word_counts = Counter(final_text)\n",
    "print(word_counts.most_common(50))"
   ]
  },
  {
   "cell_type": "code",
   "execution_count": null,
   "id": "28f6281e",
   "metadata": {},
   "outputs": [],
   "source": [
    "# General word cloud for all texts containing some form of \"monopoly\" in the Restoration Period\n",
    "# TODO: tweak details of wc\n",
    "word_cloud = WordCloud(stopwords=stop_words, background_color = \"white\", width=3000, height=2000, max_words=500, collocations=True).generate_from_frequencies(word_counts)\n",
    "plt.figure(figsize=(20,10))\n",
    "plt.imshow(word_cloud)\n",
    "plt.axis(\"off\")\n",
    "plt.show()"
   ]
  }
 ],
 "metadata": {
  "kernelspec": {
   "display_name": "Python 3",
   "language": "python",
   "name": "python3"
  },
  "language_info": {
   "codemirror_mode": {
    "name": "ipython",
    "version": 3
   },
   "file_extension": ".py",
   "mimetype": "text/x-python",
   "name": "python",
   "nbconvert_exporter": "python",
   "pygments_lexer": "ipython3",
   "version": "3.8.8"
  }
 },
 "nbformat": 4,
 "nbformat_minor": 5
}
