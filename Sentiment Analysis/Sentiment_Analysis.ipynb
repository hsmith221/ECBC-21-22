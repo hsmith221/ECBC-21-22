{
 "cells": [
  {
   "cell_type": "markdown",
   "metadata": {},
   "source": [
    "This code experiments with sentiment analysis on a small dataset. \n",
    "\n",
    "References: \n",
    "\n",
    "https://github.com/ABeeShake/Ethical-Consumption-Before-Capitalism/blob/main/Sentiment%20Analysis/SATM_full_aws.py\n",
    "\n",
    "https://www.geeksforgeeks.org/python-sentiment-analysis-using-vader/"
   ]
  },
  {
   "cell_type": "code",
   "execution_count": null,
   "metadata": {},
   "outputs": [],
   "source": [
    "import pandas as pd\n",
    "import os \n",
    "import re\n",
    "from vaderSentiment.vaderSentiment import SentimentIntensityAnalyzer"
   ]
  },
  {
   "cell_type": "code",
   "execution_count": null,
   "metadata": {},
   "outputs": [],
   "source": [
    "def wordsearch(keyword, n, text):\n",
    "    words = text.split()\n",
    "    fullwords = \"\"\n",
    "    # iterate through all the words\n",
    "    for index, word in enumerate(words):\n",
    "        # check if search keyword matches\n",
    "        if word == keyword:\n",
    "            left_side = words[index - n: index]\n",
    "            right_side = words[index: index + n + 1]  # put index+1 if you want to avoid keyword\n",
    "            str1 = \" \"\n",
    "            left = str1.join(left_side)\n",
    "            right = str1.join(right_side)\n",
    "            fullwords = fullwords + left + \" \" + right + \" \"\n",
    "    return fullwords\n",
    "\n",
    "\n",
    "def make_text_window(check,keywords, inFile, i, text):\n",
    "    words = keywords.split(\"|\")\n",
    "    pd.set_option('display.max_colwidth', None)\n",
    "    if (re.search(check, text) != None):\n",
    "        newFile = inFile + '_' + str(i) + ('.txt')\n",
    "        fullName =  folder + \"/\" + newFile\n",
    "        outtextfile = open(fullName, \"w\")\n",
    "\n",
    "        for k in range(len(words)):\n",
    "            surrounding = wordsearch(str(words[k]), 10, text)\n",
    "            if (surrounding != None):\n",
    "                moretext = surrounding\n",
    "                outtextfile.writelines(moretext)\n",
    "        \n",
    "        outtextfile.close()\n",
    "\n",
    "def sentiment_scores(scores, text):\n",
    "\n",
    "\tsid_obj = SentimentIntensityAnalyzer()\n",
    "\n",
    "\tsentiment_dict = sid_obj.polarity_scores(text)\n",
    "\n",
    "\tif sentiment_dict['compound'] >= 0.05 :\n",
    "\t\tscores[\"Positive\"] += 1\n",
    "\n",
    "\telif sentiment_dict['compound'] <= - 0.05 :\n",
    "\t\tscores[\"Negative\"] += 1\n",
    "\n",
    "\telse :\n",
    "\t\tscores[\"Neutral\"] += 1"
   ]
  },
  {
   "cell_type": "code",
   "execution_count": null,
   "metadata": {},
   "outputs": [],
   "source": [
    "def sentiment(folder,file,term):\n",
    "    check = re.compile(term)\n",
    "    readFile = pd.read_csv(file) \n",
    "\n",
    "    #read the entries of each row (each row is its own text)\n",
    "    for i in range(len(readFile.index)):\n",
    "        row = readFile[i:(i+1)]\n",
    "        text = row.iloc[0].text\n",
    "        make_text_window(check,monopoly,\"file\",i,text)\n",
    "\n",
    "    scores = {\"Positive\":0,\"Negative\":0,\"Neutral\":0}\n",
    "    for file in os.listdir(folder):\n",
    "        if (file.endswith(\".txt\")):\n",
    "            with open(folder+\"/\"+file,'r') as f:\n",
    "                data1 = f.read()\n",
    "                sentiment_scores(scores,data1)\n",
    "    print(scores)"
   ]
  },
  {
   "cell_type": "code",
   "execution_count": null,
   "metadata": {},
   "outputs": [],
   "source": [
    "directory = '/home/rapiduser/Materials'\n",
    "file = directory + '/Texts/post-restoration.csv'\n",
    "folder = directory+'/sentiment_analysis'\n",
    "monopoly = 'monopoly|monopolization|monopolies|monopolium|monopolion|monopolie|monopolist|monopolizer|monopolizers|monopolize|monopolizes|monopolye|monopolyes'\n",
    "term = 'bribery|bribes'"
   ]
  },
  {
   "cell_type": "code",
   "execution_count": null,
   "metadata": {},
   "outputs": [],
   "source": [
    "sentiment(folder,file,term)"
   ]
  }
 ],
 "metadata": {
  "interpreter": {
   "hash": "be7d123d6a100e15fe271c56b00bab6f98d545ddf914de083c6a510a36bb25cd"
  },
  "kernelspec": {
   "display_name": "Python 3.8.8 64-bit ('base': conda)",
   "language": "python",
   "name": "python3"
  },
  "language_info": {
   "codemirror_mode": {
    "name": "ipython",
    "version": 3
   },
   "file_extension": ".py",
   "mimetype": "text/x-python",
   "name": "python",
   "nbconvert_exporter": "python",
   "pygments_lexer": "ipython3",
   "version": "3.8.10"
  },
  "orig_nbformat": 4
 },
 "nbformat": 4,
 "nbformat_minor": 2
}
