{
 "cells": [
  {
   "cell_type": "markdown",
   "id": "8a537d17",
   "metadata": {},
   "source": [
    "# Filtering Function\n",
    "\n",
    "This file filters all of the cleaned EEBO texts for a desired search term\n",
    "\n",
    "Author: Heidi Smith"
   ]
  },
  {
   "cell_type": "code",
   "execution_count": 2,
   "id": "41c33ec2",
   "metadata": {},
   "outputs": [],
   "source": [
    "import os\n",
    "import re\n",
    "import pandas as pd\n",
    "import string\n",
    "import sys\n",
    "import glob"
   ]
  },
  {
   "cell_type": "code",
   "execution_count": 60,
   "id": "4df4f306",
   "metadata": {},
   "outputs": [],
   "source": [
    "def filter_containing(words, filename):\n",
    "    path = '/Users/heidismith/Desktop/ECBC-21-22/cleaned_csvs'\n",
    "    files = glob.glob(os.path.join(path, \"*.csv\"))\n",
    "    \n",
    "    output = pd.DataFrame()\n",
    "    \n",
    "    for f in files:\n",
    "        # Read each file, then check for the words we want\n",
    "        df = pd.read_csv(f)\n",
    "        \n",
    "        # Check the text of each row\n",
    "        for index, row in df.iterrows():\n",
    "\n",
    "            # If it contains the word we want, add to new dataframe\n",
    "            if (re.search(re.compile(words), row['text']) != None):\n",
    "                output = output.append(row)\n",
    "    \n",
    "    # Save filtered csv locally\n",
    "    output.to_csv(filename)\n",
    "    print('complete')"
   ]
  },
  {
   "cell_type": "code",
   "execution_count": 61,
   "id": "fcd29588",
   "metadata": {},
   "outputs": [
    {
     "name": "stdout",
     "output_type": "stream",
     "text": [
      "complete\n"
     ]
    }
   ],
   "source": [
    "# Filter EIC texts\n",
    "filter_containing(\"east india company|east-india company|east-india-company\", 'filtered_EIC.csv')"
   ]
  },
  {
   "cell_type": "code",
   "execution_count": 62,
   "id": "e56c4aff",
   "metadata": {},
   "outputs": [
    {
     "name": "stdout",
     "output_type": "stream",
     "text": [
      "complete\n"
     ]
    }
   ],
   "source": [
    "# Texts containing price\n",
    "filter_containing(\"price\", 'filtered_price.csv')"
   ]
  },
  {
   "cell_type": "code",
   "execution_count": 63,
   "id": "c63312ef",
   "metadata": {},
   "outputs": [
    {
     "name": "stdout",
     "output_type": "stream",
     "text": [
      "complete\n"
     ]
    }
   ],
   "source": [
    "# Texts containing bound\n",
    "filter_containing(\"bound\", 'filtered_bound.csv')"
   ]
  },
  {
   "cell_type": "code",
   "execution_count": 64,
   "id": "423677db",
   "metadata": {},
   "outputs": [
    {
     "name": "stdout",
     "output_type": "stream",
     "text": [
      "complete\n"
     ]
    }
   ],
   "source": [
    "# Texts containing circulation\n",
    "filter_containing(\"circulation\", 'filtered_circulation.csv')"
   ]
  },
  {
   "cell_type": "code",
   "execution_count": null,
   "id": "4fb5c027",
   "metadata": {},
   "outputs": [],
   "source": [
    "# Texts containing may\n",
    "filter_containing(\"may\", 'filtered_may.csv')"
   ]
  },
  {
   "cell_type": "code",
   "execution_count": null,
   "id": "71e2222a",
   "metadata": {},
   "outputs": [],
   "source": [
    "# Texts containing trade\n",
    "filter_containing(\"trade\", 'filtered_trade.csv')"
   ]
  },
  {
   "cell_type": "code",
   "execution_count": null,
   "id": "647340f7",
   "metadata": {},
   "outputs": [],
   "source": [
    "# Texts containing consume/consumption\n",
    "filter_containing(\"consume|consumption\", 'filtered_consume.csv')"
   ]
  }
 ],
 "metadata": {
  "kernelspec": {
   "display_name": "Python 3",
   "language": "python",
   "name": "python3"
  },
  "language_info": {
   "codemirror_mode": {
    "name": "ipython",
    "version": 3
   },
   "file_extension": ".py",
   "mimetype": "text/x-python",
   "name": "python",
   "nbconvert_exporter": "python",
   "pygments_lexer": "ipython3",
   "version": "3.8.8"
  }
 },
 "nbformat": 4,
 "nbformat_minor": 5
}
