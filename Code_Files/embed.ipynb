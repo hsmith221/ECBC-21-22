{
 "cells": [
  {
   "cell_type": "markdown",
   "metadata": {},
   "source": [
    "By Amy Weng\n",
    "\n",
    "Word2Vec Continuous Skip-Gram Model Word Embedding and Visualization\n",
    "\n",
    "https://radimrehurek.com/gensim/models/word2vec.html"
   ]
  },
  {
   "cell_type": "code",
   "execution_count": 25,
   "metadata": {},
   "outputs": [],
   "source": [
    "import pandas as pd\n",
    "from words import remove_stopwords\n",
    "from gensim.scripts import word2vec2tensor\n",
    "from gensim.models import Word2Vec\n",
    "from gensim.models import Phrases\n",
    "\n",
    "def embed(df,title):\n",
    "    data = df.text.values.tolist()\n",
    "    # preprocess and remove stopwords\n",
    "    data = remove_stopwords(data)\n",
    "    # Train a bigram detector.\n",
    "    bigram_transformer = Phrases(data)\n",
    "    # Train a skip-gram model with the bigram detector \n",
    "    model = Word2Vec(bigram_transformer[data], min_count=1,sg=1)\n",
    "    # save model so we can reload later  \n",
    "    model.save('/home/rapiduser/Materials/embeddings/'+title+'.model')\n",
    "    # save model in a format that can be converted to tensor TSV \n",
    "    model.wv.save_word2vec_format('/home/rapiduser/Materials/embeddings/tensor/'+title+'.model')\n",
    "    return(model)\n",
    "\n",
    "def similar(model,word):\n",
    "    if word in model.wv.key_to_index.keys():\n",
    "        words = []\n",
    "        for w, s in model.wv.most_similar(word,topn=10):\n",
    "            words.append(w)\n",
    "        print(word + ': '+' '.join(words))\n",
    "\n",
    "def comparePair(model,word1,word2):\n",
    "    if word1 and word2 in model.wv.key_to_index.keys():\n",
    "        print('Cosine similarity between ' + word1 + ' and ' + word2 + ': ',model.wv.similarity(word1, word2))\n",
    "\n",
    "def tensor(f_name):\n",
    "    word2vec2tensor.word2vec2tensor(\n",
    "        '/home/rapiduser/Materials/embeddings/tensor/'+f_name+'.model',\n",
    "        '/home/rapiduser/ECBC-21-22/Text_Files/Embeddings TSV/'+f_name,\n",
    "        binary=False)"
   ]
  },
  {
   "cell_type": "code",
   "execution_count": 26,
   "metadata": {},
   "outputs": [],
   "source": [
    "myCSV = '/home/rapiduser/Materials/topic model/publica/eic_monopoly.csv'\n",
    "\n",
    "readFile = pd.read_csv(myCSV)\n",
    "\n",
    "# read text information into a dataframe\n",
    "publica_eic_monopoly = embed(readFile,'publica_eic_monopoly')\n",
    "tensor('publica_eic_monopoly')"
   ]
  },
  {
   "cell_type": "code",
   "execution_count": 2,
   "metadata": {},
   "outputs": [],
   "source": [
    "publica_eic_monopoly = Word2Vec.load('/home/rapiduser/Materials/embeddings/publica_eic_monopoly.model')"
   ]
  },
  {
   "cell_type": "code",
   "execution_count": 31,
   "metadata": {},
   "outputs": [
    {
     "name": "stdout",
     "output_type": "stream",
     "text": [
      "monopolies: retrained laws_land restrained restrain freedom_trade limitations contitution lives_liberties retrain equal_right\n",
      "monopoly: monopolies regulated_company contitution privilege joint_stocks majeties_subjects wrong retrained conideration expedient\n",
      "monopolise: escheat present_constitution moreover firm_legal ingroed fifths annual_charge ready_prove trengthen carved\n",
      "monopolising: increase_seamen increases advancing_lands inland vast_numbers augment increase_navigation enriched rates_exchange fishing_trades\n",
      "monopolists: exhauting prevented_possible shooing whereoever lack obstructs securely division decoy consuming\n",
      "monopolizers: shopkeeper hard_labour dearet sprung hares consuming adventures_returns betowed mariner butchers\n",
      "monopolised: managing confining forces_forts advocates majeties_revenue admiion enlargement factors_servants extenive years_past\n",
      "monoopolies: total_villa diowns aliquas spelthorn devises_lands insanity desuetude sauk banister bridge_tower\n",
      "monopolits: pounds_ann ruin_destruction engrossers prodigal_expense grown_familiar factorage bullion_annually silk_weavers subsidy sometimes_carried\n",
      "monopolers: occained scaly hetheral urbin blaier dictaque fideli_coniliario propects armigerum bourks\n",
      "monopoliing: conultations pass_silence exercising prescribed lachryme greatly_enriched credible exigencies ilence obstructions\n",
      "malum: demonstrable rept ditinguiht expatiate rewards_punishments cicero curing divorce vets propoed_remedy\n"
     ]
    }
   ],
   "source": [
    "from words import monopoly\n",
    "m = monopoly.split('|')\n",
    "for w in m:\n",
    "    similar(publica_eic_monopoly,w)"
   ]
  },
  {
   "cell_type": "code",
   "execution_count": 28,
   "metadata": {},
   "outputs": [
    {
     "name": "stdout",
     "output_type": "stream",
     "text": [
      "Cosine similarity between body_politic and monopoly:  0.94068277\n",
      "Cosine similarity between body_politick and monopoly:  0.823261\n",
      "Cosine similarity between body_politic and monopolies:  0.9581043\n",
      "Cosine similarity between body_politick and monopolies:  0.8644752\n",
      "Cosine similarity between public_utility and monopolies:  0.8966991\n",
      "Cosine similarity between public_affairs and monopolies:  0.88422114\n",
      "Cosine similarity between wicked and monopoly:  0.7428431\n",
      "Cosine similarity between illegal and monopoly:  0.86903757\n",
      "Cosine similarity between engrossing and monopoly:  0.8959576\n",
      "Cosine similarity between odious and monopoly:  0.83295286\n",
      "Cosine similarity between evil and monopoly:  0.7421546\n",
      "Cosine similarity between repugnant and monopoly:  0.8678481\n"
     ]
    }
   ],
   "source": [
    "comparePair(publica_eic_monopoly,'body_politic','monopoly')\n",
    "comparePair(publica_eic_monopoly,'body_politick','monopoly')\n",
    "comparePair(publica_eic_monopoly,'body_politic','monopolies')\n",
    "comparePair(publica_eic_monopoly,'body_politick','monopolies')\n",
    "comparePair(publica_eic_monopoly,'public_utility','monopolies')\n",
    "comparePair(publica_eic_monopoly,'public_affairs','monopolies')\n",
    "comparePair(publica_eic_monopoly,'wicked','monopoly')\n",
    "comparePair(publica_eic_monopoly,'illegal','monopoly')\n",
    "comparePair(publica_eic_monopoly,'engrossing','monopoly')\n",
    "comparePair(publica_eic_monopoly,'odious','monopoly')\n",
    "comparePair(publica_eic_monopoly,'evil','monopoly')\n",
    "comparePair(publica_eic_monopoly,'repugnant','monopoly')"
   ]
  },
  {
   "cell_type": "code",
   "execution_count": 29,
   "metadata": {},
   "outputs": [
    {
     "name": "stdout",
     "output_type": "stream",
     "text": [
      "Cosine similarity between arbitrary and corruption:  0.87673855\n",
      "Cosine similarity between popery and corruption:  0.8303967\n",
      "Cosine similarity between papist and corruption:  0.8544534\n",
      "Cosine similarity between monopoly and corruption:  0.70118546\n",
      "Cosine similarity between king and corruption:  0.43684372\n",
      "Cosine similarity between parliament and corruption:  0.52153397\n",
      "Cosine similarity between bribery and corruption:  0.91377383\n",
      "Cosine similarity between remedies and corruption:  0.9649916\n",
      "Cosine similarity between remedy and corruption:  0.88699967\n",
      "Cosine similarity between monopoly_evils and corruption:  0.94034\n",
      "Cosine similarity between body_politick and corruption:  0.9369623\n",
      "Cosine similarity between body_politic and corruption:  0.7542465\n"
     ]
    }
   ],
   "source": [
    "comparePair(publica_eic_monopoly,'arbitrary','corruption')\n",
    "comparePair(publica_eic_monopoly,'popery','corruption')\n",
    "comparePair(publica_eic_monopoly,'papist','corruption')\n",
    "comparePair(publica_eic_monopoly,'monopoly','corruption')\n",
    "comparePair(publica_eic_monopoly,'king','corruption')\n",
    "comparePair(publica_eic_monopoly,'parliament','corruption')\n",
    "comparePair(publica_eic_monopoly,'bribery','corruption')\n",
    "comparePair(publica_eic_monopoly,'remedies','corruption')\n",
    "comparePair(publica_eic_monopoly,'remedy','corruption')\n",
    "comparePair(publica_eic_monopoly,'monopoly_evils','corruption')\n",
    "comparePair(publica_eic_monopoly,'body_politick','corruption')\n",
    "comparePair(publica_eic_monopoly,'body_politic','corruption')"
   ]
  },
  {
   "cell_type": "code",
   "execution_count": 53,
   "metadata": {},
   "outputs": [
    {
     "name": "stdout",
     "output_type": "stream",
     "text": [
      "circulation: conceal answer_ends impoverish utain step measure gainer abate intercoure hoard\n",
      "disease: invention vice discern attention ignorance harder multiply right_knowledge intelligible solid\n",
      "remedy: expedients grievance evils calculated avoid duly requires practicable seems care_taken\n",
      "remedies: vulgar explication intricate_subject puts disease calling steps somewhat simplicity_original questions\n",
      "wasting: intolerable affluence violet wider tend_increase circulate_amongst consum debauchery thinner unspeakable\n",
      "waste: country_abounding lower_value train wate consum fast comparatively dearth center enables\n"
     ]
    }
   ],
   "source": [
    "similar(publica_eic_monopoly,'circulation')\n",
    "similar(publica_eic_monopoly,'disease')\n",
    "similar(publica_eic_monopoly,'remedy')\n",
    "similar(publica_eic_monopoly,'remedies')\n",
    "similar(publica_eic_monopoly,'wasting')\n",
    "similar(publica_eic_monopoly,'waste')"
   ]
  },
  {
   "cell_type": "code",
   "execution_count": 54,
   "metadata": {},
   "outputs": [
    {
     "name": "stdout",
     "output_type": "stream",
     "text": [
      "consumption: conumption manufactured manufactury greater_quantities vent raw silks_linens importations materials consumed\n",
      "consume: conume workmen working barter utter spend deceitful trades_carried hinder_expense subsistence\n",
      "consuming: prevented_poible greatest_share proper_remedies goods_manufactured answer_question russians things_premised filthy obstructs ruians\n",
      "consumed: hinder_expense conumed vend exportation_products scarcity greater_quantities necessaries importations cheaper_manufactures upply_want\n",
      "conume: consume hinder_expense working transported necessaries raw deceitful furnish growths woollen\n",
      "conumption: consumption manufactury greater_quantities vent manufactured silks_linens importations importation woollen_goods vat_quantities\n",
      "conuming: conumptions mint_coined rightly_understood wating tend_increae bargains lessening etimates effectual_methods jotle\n",
      "conumed: consumed upply_want abundantly prizes hinder_expense overplus greater_value cheaper_manufactures loose employ_poor\n"
     ]
    }
   ],
   "source": [
    "consumption = 'consumption|consume|consuming|consumed|conume|conumption|conuming|conumed'\n",
    "c = consumption.split('|')\n",
    "for w in c:\n",
    "    similar(publica_eic_monopoly,w)"
   ]
  },
  {
   "cell_type": "code",
   "execution_count": 55,
   "metadata": {},
   "outputs": [
    {
     "name": "stdout",
     "output_type": "stream",
     "text": [
      "corruption: damage_danger rule_regulating laudable right_knowledge enumerated suggest remedies_disease acquir calamity honestly\n",
      "corrupt: fortitude trike accountable_god unbecoming overeign government_ordinance beseech eminence generosity strife\n",
      "corrupted: gaming impoverishing improv quickness cherish languishes occupation lay_foundation purely abrogated\n",
      "corruptions: endeavours_obtain appears_plain best_managed commended unbiased emolument endowment conducing posture vainly\n",
      "corrupting: fittest ceases dicerning discerning gadding cation disturbed access liable_payment wiet\n"
     ]
    }
   ],
   "source": [
    "corruption = 'corruption|corrupt|corrupted|corruptions|corrupting'\n",
    "corrupt = corruption.split('|')\n",
    "for w in corrupt:\n",
    "    similar(publica_eic_monopoly,w)"
   ]
  }
 ],
 "metadata": {
  "interpreter": {
   "hash": "916dbcbb3f70747c44a77c7bcd40155683ae19c65e1c03b4aa3499c5328201f1"
  },
  "kernelspec": {
   "display_name": "Python 3.8.10 64-bit",
   "language": "python",
   "name": "python3"
  },
  "language_info": {
   "codemirror_mode": {
    "name": "ipython",
    "version": 3
   },
   "file_extension": ".py",
   "mimetype": "text/x-python",
   "name": "python",
   "nbconvert_exporter": "python",
   "pygments_lexer": "ipython3",
   "version": "3.8.10"
  },
  "orig_nbformat": 4
 },
 "nbformat": 4,
 "nbformat_minor": 2
}
