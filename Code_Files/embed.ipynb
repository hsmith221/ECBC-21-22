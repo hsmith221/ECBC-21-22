{
 "cells": [
  {
   "cell_type": "markdown",
   "metadata": {},
   "source": [
    "By Amy Weng\n",
    "\n",
    "Word2Vec Continuous Skip-Gram Model Word Embedding and Visualization\n",
    "\n",
    "https://radimrehurek.com/gensim/models/word2vec.html"
   ]
  },
  {
   "cell_type": "code",
   "execution_count": 42,
   "metadata": {},
   "outputs": [],
   "source": [
    "import pandas as pd\n",
    "from words import remove_stopwords\n",
    "from gensim.scripts import word2vec2tensor\n",
    "from gensim.models import Word2Vec\n",
    "from gensim.models import Phrases\n",
    "\n",
    "def embed(df,title):\n",
    "    data = df.text.values.tolist()\n",
    "    # preprocess and remove stopwords\n",
    "    data = remove_stopwords(data)\n",
    "    # Train a bigram detector.\n",
    "    bigram_transformer = Phrases(data)\n",
    "    # Train a skip-gram model with the bigram detector \n",
    "    model = Word2Vec(bigram_transformer[data], min_count=3,sg=1)\n",
    "    # save model so we can reload later  \n",
    "    model.save('/home/rapiduser/Materials/embeddings/'+title+'.model')\n",
    "    # save model in a format that can be converted to tensor TSV \n",
    "    model.wv.save_word2vec_format('/home/rapiduser/Materials/embeddings/tensor/'+title+'.model')\n",
    "    return(model)\n",
    "\n",
    "def similar(model,word):\n",
    "    if word in model.wv.key_to_index.keys():\n",
    "        words = []\n",
    "        for w, s in model.wv.most_similar(word,topn=10):\n",
    "            words.append(w)\n",
    "        print(word + ': '+' '.join(words))\n",
    "\n",
    "def comparePair(model,word1,word2):\n",
    "    if word1 and word2 in model.wv.key_to_index.keys():\n",
    "        print('Cosine similarity between ' + word1 + ' and ' + word2 + ': ',model.wv.similarity(word1, word2))\n",
    "\n",
    "def tensor(f_name):\n",
    "    word2vec2tensor.word2vec2tensor(\n",
    "        '/home/rapiduser/Materials/embeddings/tensor/'+f_name+'.model',\n",
    "        '/home/rapiduser/ECBC-21-22/Text_Files/Embeddings TSV/'+f_name,\n",
    "        binary=False)"
   ]
  },
  {
   "cell_type": "code",
   "execution_count": 50,
   "metadata": {},
   "outputs": [],
   "source": [
    "myCSV = '/home/rapiduser/Materials/topic model/publica/eic_monopoly.csv'\n",
    "\n",
    "readFile = pd.read_csv(myCSV)\n",
    "\n",
    "# read text information into a dataframe\n",
    "publica_eic_monopoly = embed(readFile,'publica_eic_monopoly')\n",
    "tensor('publica_eic_monopoly')"
   ]
  },
  {
   "cell_type": "code",
   "execution_count": null,
   "metadata": {},
   "outputs": [],
   "source": [
    "publica_eic_monopoly = Word2Vec.load('/home/rapiduser/Materials/embeddings/publica_eic_monopoly.model')"
   ]
  },
  {
   "cell_type": "code",
   "execution_count": 51,
   "metadata": {},
   "outputs": [
    {
     "name": "stdout",
     "output_type": "stream",
     "text": [
      "monopolies: retrained laws_land restrained restrain freedom_trade contitution lives_liberties monopoly legally privilege\n",
      "monopoly: monopolies privilege joint_stocks retrained wrong contitution majeties_subjects regulated_company allege majesties_subjects\n",
      "monopolise: entitling obligations_owe allegations humbly_beg parliamentary_sanction commodities_imported writing_signed strengthen extrajudicial first_discoverers\n",
      "monopolising: remote_parts rates_exchange encourages_navigation increases increase_seamen increase_navigation low_ebb marts greater_prices afford_cheaper\n",
      "monopolists: groans_plantations straining monopolits exhausting goods_manufactured pony restrictions_limitations cumber monter perishable\n",
      "monopolizers: dearest recompene envied raiment superfluity spinsters card excellencies beating turky\n",
      "monopolised: solely forces_forts managing obstructed majeties_revenue factories_forts olely limitation etablihing confining\n",
      "monoopolies: steephen emond error_aign ectam pragmatical title_crown uxore conrts nutmeg_tree lattimer\n",
      "monopolits: monopolists straining paeth meaner_sort raiment careful_avoid unnecessary_charge impart million_yearly varieties\n",
      "monopolers: harper_st pried_juxta miundertanding pillabers carramuel lay_siege stinging willis_practice malveration feodo\n"
     ]
    }
   ],
   "source": [
    "from words import monopoly\n",
    "m = monopoly.split('|')\n",
    "for w in m:\n",
    "    similar(publica_eic_monopoly,w)"
   ]
  },
  {
   "cell_type": "code",
   "execution_count": 52,
   "metadata": {},
   "outputs": [
    {
     "name": "stdout",
     "output_type": "stream",
     "text": [
      "Cosine similarity between arbitrary and corruption:  0.8638341\n",
      "Cosine similarity between popery and corruption:  0.8100888\n",
      "Cosine similarity between papist and corruption:  0.82812756\n",
      "Cosine similarity between monopoly and corruption:  0.6794247\n",
      "Cosine similarity between king and corruption:  0.4092655\n",
      "Cosine similarity between parliament and corruption:  0.5190952\n",
      "Cosine similarity between bribery and corruption:  0.8954179\n",
      "Cosine similarity between remedies and corruption:  0.9430104\n",
      "Cosine similarity between remedy and corruption:  0.88032734\n",
      "Cosine similarity between monopoly_evils and corruption:  0.918505\n",
      "Cosine similarity between silk and corruption:  0.631485\n",
      "Cosine similarity between gold and corruption:  0.7485949\n",
      "Cosine similarity between body_politick and corruption:  0.90726376\n",
      "Cosine similarity between body_politic and corruption:  0.72693694\n",
      "Cosine similarity between body_politic and monopoly:  0.93463105\n",
      "Cosine similarity between body_politick and monopoly:  0.82322466\n",
      "Cosine similarity between odious and monopoly:  0.83465725\n",
      "Cosine similarity between consumption and monopoly:  0.6299145\n",
      "Cosine similarity between evil and monopoly:  0.74189883\n",
      "Cosine similarity between repugnant and monopoly:  0.86269236\n"
     ]
    }
   ],
   "source": [
    "comparePair(publica_eic_monopoly,'arbitrary','corruption')\n",
    "comparePair(publica_eic_monopoly,'popery','corruption')\n",
    "comparePair(publica_eic_monopoly,'papist','corruption')\n",
    "comparePair(publica_eic_monopoly,'monopoly','corruption')\n",
    "comparePair(publica_eic_monopoly,'king','corruption')\n",
    "comparePair(publica_eic_monopoly,'parliament','corruption')\n",
    "comparePair(publica_eic_monopoly,'bribery','corruption')\n",
    "comparePair(publica_eic_monopoly,'remedies','corruption')\n",
    "comparePair(publica_eic_monopoly,'remedy','corruption')\n",
    "comparePair(publica_eic_monopoly,'monopoly_evils','corruption')\n",
    "comparePair(publica_eic_monopoly,'silk','corruption')\n",
    "comparePair(publica_eic_monopoly,'gold','corruption')\n",
    "comparePair(publica_eic_monopoly,'body_politick','corruption')\n",
    "comparePair(publica_eic_monopoly,'body_politic','corruption')\n",
    "comparePair(publica_eic_monopoly,'body_politic','monopoly')\n",
    "comparePair(publica_eic_monopoly,'body_politick','monopoly')\n",
    "comparePair(publica_eic_monopoly,'odious','monopoly')\n",
    "comparePair(publica_eic_monopoly,'consumption','monopoly')\n",
    "comparePair(publica_eic_monopoly,'evil','monopoly')\n",
    "comparePair(publica_eic_monopoly,'repugnant','monopoly')"
   ]
  },
  {
   "cell_type": "code",
   "execution_count": 53,
   "metadata": {},
   "outputs": [
    {
     "name": "stdout",
     "output_type": "stream",
     "text": [
      "circulation: conceal answer_ends impoverish utain step measure gainer abate intercoure hoard\n",
      "disease: invention vice discern attention ignorance harder multiply right_knowledge intelligible solid\n",
      "remedy: expedients grievance evils calculated avoid duly requires practicable seems care_taken\n",
      "remedies: vulgar explication intricate_subject puts disease calling steps somewhat simplicity_original questions\n",
      "wasting: intolerable affluence violet wider tend_increase circulate_amongst consum debauchery thinner unspeakable\n",
      "waste: country_abounding lower_value train wate consum fast comparatively dearth center enables\n"
     ]
    }
   ],
   "source": [
    "similar(publica_eic_monopoly,'circulation')\n",
    "similar(publica_eic_monopoly,'disease')\n",
    "similar(publica_eic_monopoly,'remedy')\n",
    "similar(publica_eic_monopoly,'remedies')\n",
    "similar(publica_eic_monopoly,'wasting')\n",
    "similar(publica_eic_monopoly,'waste')"
   ]
  },
  {
   "cell_type": "code",
   "execution_count": 54,
   "metadata": {},
   "outputs": [
    {
     "name": "stdout",
     "output_type": "stream",
     "text": [
      "consumption: conumption manufactured manufactury greater_quantities vent raw silks_linens importations materials consumed\n",
      "consume: conume workmen working barter utter spend deceitful trades_carried hinder_expense subsistence\n",
      "consuming: prevented_poible greatest_share proper_remedies goods_manufactured answer_question russians things_premised filthy obstructs ruians\n",
      "consumed: hinder_expense conumed vend exportation_products scarcity greater_quantities necessaries importations cheaper_manufactures upply_want\n",
      "conume: consume hinder_expense working transported necessaries raw deceitful furnish growths woollen\n",
      "conumption: consumption manufactury greater_quantities vent manufactured silks_linens importations importation woollen_goods vat_quantities\n",
      "conuming: conumptions mint_coined rightly_understood wating tend_increae bargains lessening etimates effectual_methods jotle\n",
      "conumed: consumed upply_want abundantly prizes hinder_expense overplus greater_value cheaper_manufactures loose employ_poor\n"
     ]
    }
   ],
   "source": [
    "consumption = 'consumption|consume|consuming|consumed|conume|conumption|conuming|conumed'\n",
    "c = consumption.split('|')\n",
    "for w in c:\n",
    "    similar(publica_eic_monopoly,w)"
   ]
  },
  {
   "cell_type": "code",
   "execution_count": 55,
   "metadata": {},
   "outputs": [
    {
     "name": "stdout",
     "output_type": "stream",
     "text": [
      "corruption: damage_danger rule_regulating laudable right_knowledge enumerated suggest remedies_disease acquir calamity honestly\n",
      "corrupt: fortitude trike accountable_god unbecoming overeign government_ordinance beseech eminence generosity strife\n",
      "corrupted: gaming impoverishing improv quickness cherish languishes occupation lay_foundation purely abrogated\n",
      "corruptions: endeavours_obtain appears_plain best_managed commended unbiased emolument endowment conducing posture vainly\n",
      "corrupting: fittest ceases dicerning discerning gadding cation disturbed access liable_payment wiet\n"
     ]
    }
   ],
   "source": [
    "corruption = 'corruption|corrupt|corrupted|corruptions|corrupting'\n",
    "corrupt = corruption.split('|')\n",
    "for w in corrupt:\n",
    "    similar(publica_eic_monopoly,w)"
   ]
  }
 ],
 "metadata": {
  "interpreter": {
   "hash": "916dbcbb3f70747c44a77c7bcd40155683ae19c65e1c03b4aa3499c5328201f1"
  },
  "kernelspec": {
   "display_name": "Python 3.8.10 64-bit",
   "language": "python",
   "name": "python3"
  },
  "language_info": {
   "codemirror_mode": {
    "name": "ipython",
    "version": 3
   },
   "file_extension": ".py",
   "mimetype": "text/x-python",
   "name": "python",
   "nbconvert_exporter": "python",
   "pygments_lexer": "ipython3",
   "version": "3.8.10"
  },
  "orig_nbformat": 4
 },
 "nbformat": 4,
 "nbformat_minor": 2
}
