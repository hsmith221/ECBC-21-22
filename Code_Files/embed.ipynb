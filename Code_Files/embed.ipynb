{
 "cells": [
  {
   "cell_type": "markdown",
   "metadata": {},
   "source": [
    "By Amy Weng\n",
    "\n",
    "Word2Vec Continuous Skip-Gram Model Word Embedding and Visualization\n",
    "\n",
    "https://radimrehurek.com/gensim/models/word2vec.html"
   ]
  },
  {
   "cell_type": "code",
   "execution_count": 161,
   "metadata": {},
   "outputs": [],
   "source": [
    "import pandas as pd\n",
    "from words import remove_stopwords\n",
    "from gensim.scripts import word2vec2tensor\n",
    "from gensim.models import Word2Vec as w2v\n",
    "from gensim.models import Phrases\n",
    "\n",
    "def embed(df,title):\n",
    "    data = df.text.values.tolist()\n",
    "    # preprocess and remove stopwords\n",
    "    data = remove_stopwords(data)\n",
    "    # Train a bigram detector.\n",
    "    bigram_transformer = Phrases(data)\n",
    "    # Train a skip-gram model with the bigram detector \n",
    "    model = w2v(bigram_transformer[data], min_count=1,sg=1)\n",
    "    # save model as file \n",
    "    model.wv.save_word2vec_format('/home/rapiduser/Materials/embeddings/'+title+'.model')\n",
    "    return(model)\n",
    "\n",
    "def similar(model,word):\n",
    "    if word in model.wv.key_to_index.keys():\n",
    "        words = []\n",
    "        for w, s in model.wv.most_similar(word,topn=10):\n",
    "            words.append(w)\n",
    "        print(word + ': '+' '.join(words))\n",
    "\n",
    "def comparePair(model,word1,word2):\n",
    "    if word1 and word2 in model.wv.key_to_index.keys():\n",
    "        print('Cosine similarity between ' + word1 + ' and ' + word2 + ': ',model.wv.similarity(word1, word2))\n",
    "\n",
    "def tensor(f_name):\n",
    "    word2vec2tensor.word2vec2tensor(\n",
    "        '/home/rapiduser/Materials/embeddings/'+f_name+'.model',\n",
    "        '/home/rapiduser/ECBC-21-22/Text_Files/Embeddings TSV/'+f_name,\n",
    "        binary=False)"
   ]
  },
  {
   "cell_type": "code",
   "execution_count": 162,
   "metadata": {},
   "outputs": [],
   "source": [
    "myCSV = '/home/rapiduser/Materials/topic model/publica/eic_monopoly.csv'\n",
    "\n",
    "readFile = pd.read_csv(myCSV)\n",
    "\n",
    "# read text information into a dataframe\n",
    "publica_eic_monopoly = embed(readFile,'publica_eic_monopoly')\n",
    "tensor('publica_eic_monopoly')"
   ]
  },
  {
   "cell_type": "code",
   "execution_count": 164,
   "metadata": {},
   "outputs": [
    {
     "name": "stdout",
     "output_type": "stream",
     "text": [
      "monopolies: retrained laws_land coniderations agreeable freedom_trade body_politic authorities circumtances privilege equal_right\n",
      "monopoly: body_politic joint_stocks concerned monopolies privilege majeties_subjects contitution wrong pretence regulated_company\n",
      "monopolise: partaker corporation_excluding dissolution_present shares_stock firm_legal intereed rrying shares_shares present_constitution tion\n",
      "monopolising: enriched fishing_trades remote_parts things_necessary wet_indies marts riches_strength fihing_trades vast_numbers greater_prices\n",
      "monopolists: monopolits double_tax disadvantage cor_living suggeted uefulnes inclinable nations_conume straining lessening\n",
      "monopolizers: supplied_negroes ot herring_fishery straining necessitated neglects intellect sometimes_carried spared proportioned\n",
      "monopolised: admission forces_forts admiion managing hout majeties_plantations managed_joint enlargement unneceary engrossed\n",
      "monoopolies: molleux crowing cloaks privileges_confirmed loveteyns cotton_calicoes died_issue tryal displaying roxana\n",
      "monopolits: straining monopolists suggeted considers properer shared druggs_spices upward meaner_sort ued_utmot\n",
      "monopolers: spades scieri edenburough est_partibus inciions riogrande plead_felony vobis_mandamus scarified teller\n",
      "monopoliing: palatable aromatic colour_green distill proneness inhumanity stupidity businesses acrib haten\n"
     ]
    }
   ],
   "source": [
    "from words import monopoly\n",
    "m = monopoly.split('|')\n",
    "for w in m:\n",
    "    similar(publica_eic_monopoly,w)"
   ]
  },
  {
   "cell_type": "code",
   "execution_count": 165,
   "metadata": {},
   "outputs": [
    {
     "name": "stdout",
     "output_type": "stream",
     "text": [
      "Cosine similarity between arbitrary and corruption:  0.90487784\n",
      "Cosine similarity between popery and corruption:  0.8567077\n",
      "Cosine similarity between papist and corruption:  0.86606336\n",
      "Cosine similarity between monopoly and corruption:  0.71390474\n",
      "Cosine similarity between king and corruption:  0.43326586\n",
      "Cosine similarity between parliament and corruption:  0.4980578\n",
      "Cosine similarity between public_good and corruption:  0.77165323\n",
      "Cosine similarity between body_politick and corruption:  0.9415461\n",
      "Cosine similarity between body_politic and corruption:  0.7938976\n",
      "Cosine similarity between bribery and corruption:  0.9145992\n",
      "Cosine similarity between remedies and corruption:  0.9604492\n",
      "Cosine similarity between remedy and corruption:  0.9067065\n",
      "Cosine similarity between odious and monopoly:  0.8497932\n",
      "Cosine similarity between consumption and monopoly:  0.70815563\n",
      "Cosine similarity between body_politic and monopoly:  0.9530904\n",
      "Cosine similarity between body_politick and monopoly:  0.8265372\n",
      "Cosine similarity between public_good and monopoly:  0.93613213\n",
      "Cosine similarity between evil and monopoly:  0.74975884\n",
      "Cosine similarity between repugnant and monopoly:  0.8639848\n",
      "Cosine similarity between monopoly_evils and corruption:  0.9422429\n",
      "Cosine similarity between silk and corruption:  0.6596284\n",
      "Cosine similarity between gold and corruption:  0.75026774\n"
     ]
    }
   ],
   "source": [
    "comparePair(publica_eic_monopoly,'arbitrary','corruption')\n",
    "comparePair(publica_eic_monopoly,'popery','corruption')\n",
    "comparePair(publica_eic_monopoly,'papist','corruption')\n",
    "comparePair(publica_eic_monopoly,'monopoly','corruption')\n",
    "comparePair(publica_eic_monopoly,'king','corruption')\n",
    "comparePair(publica_eic_monopoly,'parliament','corruption')\n",
    "comparePair(publica_eic_monopoly,'public_good','corruption')\n",
    "comparePair(publica_eic_monopoly,'body_politick','corruption')\n",
    "comparePair(publica_eic_monopoly,'body_politic','corruption')\n",
    "comparePair(publica_eic_monopoly,'bribery','corruption')\n",
    "comparePair(publica_eic_monopoly,'remedies','corruption')\n",
    "comparePair(publica_eic_monopoly,'remedy','corruption')\n",
    "comparePair(publica_eic_monopoly,'odious','monopoly')\n",
    "comparePair(publica_eic_monopoly,'consumption','monopoly')\n",
    "comparePair(publica_eic_monopoly,'body_politic','monopoly')\n",
    "comparePair(publica_eic_monopoly,'body_politick','monopoly')\n",
    "comparePair(publica_eic_monopoly,'public_good','monopoly')\n",
    "comparePair(publica_eic_monopoly,'evil','monopoly')\n",
    "comparePair(publica_eic_monopoly,'repugnant','monopoly')\n",
    "comparePair(publica_eic_monopoly,'monopoly_evils','corruption')\n",
    "comparePair(publica_eic_monopoly,'silk','corruption')\n",
    "comparePair(publica_eic_monopoly,'gold','corruption')"
   ]
  },
  {
   "cell_type": "code",
   "execution_count": 166,
   "metadata": {},
   "outputs": [
    {
     "name": "stdout",
     "output_type": "stream",
     "text": [
      "public_good: managers joint_stocks regulated_company admit permit apparent depending propoed alteration admitted\n",
      "circulation: stock_treasure arises gather clog originally subsist impoverish conceal recourse measure\n",
      "disease: discern spare observation invention simple harder puts right_knowledge suffice circle\n",
      "remedy: avoid calculated evils community appearing worse merit propose intend obviate\n",
      "remedies: explication vulgar diseases intricate_subject puts errors counsels iniquity practise virtuous\n",
      "wasting: immense_sums clipp finical ervile unnecessary_charge slow circulate_amongst live_comfortably tend_increase degenerates\n",
      "waste: coarse grower less_quantity dearth carcity pretty likely_grow train weighs wate\n"
     ]
    }
   ],
   "source": [
    "similar(publica_eic_monopoly,'public_good')\n",
    "similar(publica_eic_monopoly,'circulation')\n",
    "similar(publica_eic_monopoly,'disease')\n",
    "similar(publica_eic_monopoly,'remedy')\n",
    "similar(publica_eic_monopoly,'remedies')\n",
    "similar(publica_eic_monopoly,'wasting')\n",
    "similar(publica_eic_monopoly,'waste')"
   ]
  },
  {
   "cell_type": "code",
   "execution_count": 167,
   "metadata": {},
   "outputs": [
    {
     "name": "stdout",
     "output_type": "stream",
     "text": [
      "consumption: conumption manufactured manufactury vent materials greater_quantities consumed exportations supplied importations\n",
      "consume: conume trades_carried deceitful subsistence produces barter mines_gold working native_fruits silver_gold\n",
      "consuming: spends sufficient_supply greatest_share meaner_ort correspondence_presidencies bear_charge admiralities thrut beating forty_pounds\n",
      "consumed: vend hinder_expense greater_quantities importations conumed upplyed inconsiderable exportations supplied inconiderable\n",
      "conume: consume growths working hinder_expense raw transported necessaries native_fruits deceitful trades_carried\n",
      "conumption: consumption vent manufactured manufactury importation silks_linens greater_quantities woollen_manufactures cheaper exportations\n",
      "conuming: ued_utmot merchantable conumptions desirable lessening decreased extraordinary_charge starve shifting prodigal_expense\n",
      "conumed: consumed inconiderable hinder_expense inconsiderable abundantly exportations supplied fishery importations purchaed\n"
     ]
    }
   ],
   "source": [
    "consumption = 'consumption|consume|consuming|consumed|conume|conumption|conuming|conumed'\n",
    "c = consumption.split('|')\n",
    "for w in c:\n",
    "    similar(publica_eic_monopoly,w)"
   ]
  },
  {
   "cell_type": "code",
   "execution_count": 169,
   "metadata": {},
   "outputs": [
    {
     "name": "stdout",
     "output_type": "stream",
     "text": [
      "corruption: woney rule_regulating simplicity false right_knowledge evils_errors explain_meaning intricate_subject instruct universally\n",
      "corrupt: trike man_naturally anguish remembrance sport revellings painful changeable insufficient humanly_speaking\n",
      "corrupted: gaming preserv draws lazy coveted ports_mediterranean rouse reasoning thekings augmenting\n",
      "corruptions: public_utility bye case_stands diadvantageous emolument affecting setting_poor endowment grutched deductions\n",
      "corruptly: hog carpenters las puerto nycoppen fruit_trees caribdis funen situate_degrees curiously\n",
      "corrupting: blameable fittest dut contrivances courthip mutinous brachmans god_ordinance poterities visiting\n",
      "corrupttoi: standar destained beneficence almans plowden hurled algate cahell nimium rursus\n",
      "corruptpag: information_riot wulferre princerespected raynar offence_committed lawsthe bourk_clanrickard peeping anthropo mephiboheth\n",
      "corruptness: praetor erberie vision caligula ipsi pars anointed curses academy funerals\n"
     ]
    }
   ],
   "source": [
    "corruption = 'corruption|corrupt|corrupted|corruptions|corruptly|corrupting|corrupttoi|corruptpag|corruptness'\n",
    "corrupt = corruption.split('|')\n",
    "for w in corrupt:\n",
    "    similar(publica_eic_monopoly,w)"
   ]
  }
 ],
 "metadata": {
  "interpreter": {
   "hash": "916dbcbb3f70747c44a77c7bcd40155683ae19c65e1c03b4aa3499c5328201f1"
  },
  "kernelspec": {
   "display_name": "Python 3.8.10 64-bit",
   "language": "python",
   "name": "python3"
  },
  "language_info": {
   "codemirror_mode": {
    "name": "ipython",
    "version": 3
   },
   "file_extension": ".py",
   "mimetype": "text/x-python",
   "name": "python",
   "nbconvert_exporter": "python",
   "pygments_lexer": "ipython3",
   "version": "3.8.10"
  },
  "orig_nbformat": 4
 },
 "nbformat": 4,
 "nbformat_minor": 2
}
