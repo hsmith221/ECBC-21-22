{
 "cells": [
  {
   "cell_type": "markdown",
   "metadata": {},
   "source": [
    "By Amy Weng\n",
    "\n",
    "Word2Vec Continuous Skip-Gram Model Word Embedding and Visualization\n",
    "\n",
    "https://radimrehurek.com/gensim/models/word2vec.html"
   ]
  },
  {
   "cell_type": "code",
   "execution_count": 151,
   "metadata": {},
   "outputs": [],
   "source": [
    "import pandas as pd\n",
    "from words import remove_stopwords\n",
    "from gensim.scripts import word2vec2tensor\n",
    "from gensim.models import Word2Vec as w2v\n",
    "from gensim.models import Phrases\n",
    "\n",
    "def embed(df,title):\n",
    "    data = df.text.values.tolist()\n",
    "    # preprocess and remove stopwords\n",
    "    data = remove_stopwords(data)\n",
    "    # Train a bigram detector.\n",
    "    bigram_transformer = Phrases(data)\n",
    "    # Train a skip-gram model with the bigram detector \n",
    "    model = w2v(bigram_transformer[data], min_count=1,sg=1)\n",
    "    # save model as file \n",
    "    model.wv.save_word2vec_format('/home/rapiduser/Materials/embeddings/'+title+'.model')\n",
    "    return(model)\n",
    "\n",
    "def similar(model,word):\n",
    "    if word in model.wv.key_to_index.keys():\n",
    "        words = []\n",
    "        for w, s in model.wv.most_similar(word,topn=10):\n",
    "            words.append(w)\n",
    "        print(word + ': '+' '.join(words))\n",
    "\n",
    "def comparePair(model,word1,word2):\n",
    "    if word1 and word2 in model.wv.key_to_index.keys():\n",
    "        print('Cosine similarity between ' + word1 + ' and ' + word2 + ': ',model.wv.similarity(word1, word2))\n",
    "\n",
    "def tensor(f_name):\n",
    "    word2vec2tensor.word2vec2tensor(\n",
    "        '/home/rapiduser/Materials/embeddings/'+f_name+'.model',\n",
    "        '/home/rapiduser/ECBC-21-22/Text_Files/Embeddings TSV/'+f_name,\n",
    "        binary=False)"
   ]
  },
  {
   "cell_type": "code",
   "execution_count": 90,
   "metadata": {},
   "outputs": [],
   "source": [
    "myCSV = '/home/rapiduser/Materials/topic model/publica/eic_monopoly.csv'\n",
    "\n",
    "readFile = pd.read_csv(myCSV)\n",
    "\n",
    "# read text information into a dataframe\n",
    "publica_eic_monopoly = embed(readFile,'publica_eic_monopoly')"
   ]
  },
  {
   "cell_type": "code",
   "execution_count": 152,
   "metadata": {},
   "outputs": [
    {
     "name": "stdout",
     "output_type": "stream",
     "text": [
      "monopolies: retrained coniderations laws_land reaons equal_right limitations retrain restrain restrained right_subject\n",
      "monopoly: retrained wrong privilege joint_stocks contitution monopolies body_politic majeties_subjects public_good regulated_company\n",
      "monopolise: ingroed firm_legal inspect prohibition_denied apprehensive carved values_bought shares_shares parliamentary_sanction respectively\n",
      "monopolising: remote_parts rates_exchange placeat riches_strength encourages_navigation fishing_trades increase_seamen importation_foreign products_manufactories increase_navigation\n",
      "monopolists: exhausting cor_living meaner_sort course_living someimes paeth get_livelihood prodigal_expense straining considerate\n",
      "monopolizers: spared ubtle collecting intrigue steal supplied_negroes ullen consumers silk_weavers prejudice_arise\n",
      "monopolised: admiion excluive forces_forts admission majeties_plantations managing managed_joint ettling confining solely\n",
      "monoopolies: molleux crowing cloaks privileges_confirmed loveteyns cotton_calicoes died_issue tryal displaying roxana\n",
      "monopolits: paeth engrossers straining monopolists difference_happens prodigal_expense muslings nations_conume prevented_possible lessening\n",
      "monopolers: spades scieri edenburough est_partibus inciions riogrande plead_felony vobis_mandamus scarified teller\n",
      "monopoliing: consumption_manufactures disused staid taxing consumption_commodities suppoition inolent suggeted wholesome_laws dived\n"
     ]
    }
   ],
   "source": [
    "from words import monopoly\n",
    "m = monopoly.split('|')\n",
    "for w in m:\n",
    "    similar(publica_eic_monopoly,w)"
   ]
  },
  {
   "cell_type": "code",
   "execution_count": 154,
   "metadata": {},
   "outputs": [
    {
     "name": "stdout",
     "output_type": "stream",
     "text": [
      "Cosine similarity between arbitrary and corruption:  0.85236233\n",
      "Cosine similarity between popery and corruption:  0.82550555\n",
      "Cosine similarity between papist and corruption:  0.8281945\n",
      "Cosine similarity between monopoly and corruption:  0.69432163\n",
      "Cosine similarity between king and corruption:  0.441147\n",
      "Cosine similarity between parliament and corruption:  0.49644107\n",
      "Cosine similarity between public_good and corruption:  0.7312424\n",
      "Cosine similarity between body_politick and corruption:  0.9249946\n",
      "Cosine similarity between body_politic and corruption:  0.75943625\n",
      "Cosine similarity between bribery and corruption:  0.894755\n",
      "Cosine similarity between remedies and corruption:  0.9402847\n",
      "Cosine similarity between remedy and corruption:  0.8834682\n",
      "Cosine similarity between odious and monopoly:  0.8537864\n",
      "Cosine similarity between consumption and monopoly:  0.6824925\n",
      "Cosine similarity between body_politic and monopoly:  0.9510032\n",
      "Cosine similarity between body_politick and monopoly:  0.8370504\n",
      "Cosine similarity between public_good and monopoly:  0.9504082\n",
      "Cosine similarity between evil and monopoly:  0.7594337\n",
      "Cosine similarity between repugnant and monopoly:  0.87972224\n",
      "Cosine similarity between monopoly_evils and corruption:  0.9460931\n",
      "Cosine similarity between silk and corruption:  0.70815533\n",
      "Cosine similarity between gold and corruption:  0.80199057\n"
     ]
    }
   ],
   "source": [
    "comparePair(publica_eic_monopoly,'arbitrary','corruption')\n",
    "comparePair(publica_eic_monopoly,'popery','corruption')\n",
    "comparePair(publica_eic_monopoly,'papist','corruption')\n",
    "comparePair(publica_eic_monopoly,'monopoly','corruption')\n",
    "comparePair(publica_eic_monopoly,'king','corruption')\n",
    "comparePair(publica_eic_monopoly,'parliament','corruption')\n",
    "comparePair(publica_eic_monopoly,'public_good','corruption')\n",
    "comparePair(publica_eic_monopoly,'body_politick','corruption')\n",
    "comparePair(publica_eic_monopoly,'body_politic','corruption')\n",
    "comparePair(publica_eic_monopoly,'bribery','corruption')\n",
    "comparePair(publica_eic_monopoly,'remedies','corruption')\n",
    "comparePair(publica_eic_monopoly,'remedy','corruption')\n",
    "comparePair(publica_eic_monopoly,'odious','monopoly')\n",
    "comparePair(publica_eic_monopoly,'consumption','monopoly')\n",
    "comparePair(publica_eic_monopoly,'body_politic','monopoly')\n",
    "comparePair(publica_eic_monopoly,'body_politick','monopoly')\n",
    "comparePair(publica_eic_monopoly,'public_good','monopoly')\n",
    "comparePair(publica_eic_monopoly,'evil','monopoly')\n",
    "comparePair(publica_eic_monopoly,'repugnant','monopoly')\n",
    "comparePair(publica_eic_monopoly,'monopoly_evils','corruption')\n",
    "comparePair(publica_eic_monopoly,'silk','corruption')\n",
    "comparePair(publica_eic_monopoly,'gold','corruption')"
   ]
  },
  {
   "cell_type": "code",
   "execution_count": 155,
   "metadata": {},
   "outputs": [
    {
     "name": "stdout",
     "output_type": "stream",
     "text": [
      "public_good: regulated_company joint_stocks apparent admitted wrong turkey_company managers contitution permit join\n",
      "circulation: quick intercoure begets conceal impoverish calculate riches_plenty shou answer_ends gainer\n",
      "disease: deliberations discern vice harder ignorance invention attention dark false profession\n",
      "remedy: calculated avoid liable evils community contrived whoever feared intend propose\n",
      "remedies: vulgar tacitus explication virtuous intricate_subject civilians errors simplicity_original racks root\n",
      "wasting: merchant_goldsmith filth live_comfortably jostle peacock provide_effects unspeakable circulate_amongst scarcity_poverty spends\n",
      "waste: comparatively fast quantity_gold ounces yards_cloth rises likely_grow carcity impropriety consum\n"
     ]
    }
   ],
   "source": [
    "similar(publica_eic_monopoly,'public_good')\n",
    "similar(publica_eic_monopoly,'circulation')\n",
    "similar(publica_eic_monopoly,'disease')\n",
    "similar(publica_eic_monopoly,'remedy')\n",
    "similar(publica_eic_monopoly,'remedies')\n",
    "similar(publica_eic_monopoly,'wasting')\n",
    "similar(publica_eic_monopoly,'waste')"
   ]
  },
  {
   "cell_type": "code",
   "execution_count": 112,
   "metadata": {},
   "outputs": [
    {
     "name": "stdout",
     "output_type": "stream",
     "text": [
      "consumption: conumption manufactured manufactury vent furnih greater_quantities vat_quantities silks_linens tranported products\n",
      "consume: conume produces workmen working trades_carried materials utter deceitful lead furnish\n",
      "consuming: wives_children meaner_ort mariner linneen curazao lien shopkeeper proportioned theselibour worted\n",
      "consumed: hinder_expense vend conumption_foreign growths parts_europe conumed importations scarcity afford_cheaper exportation_products\n",
      "conume: consume working workmen trades_carried hinder_expense raw deceitful produces lead growths\n",
      "conumption: consumption silks_linens vent importation manufactury woollen_manufactures vat_quantities foreign_markets manufactured greater_quantities\n",
      "conuming: dicourage discouraging suppoition discourage goods_consumed permutation retrictions_limitations find_difficult extraordinary_charge pending\n",
      "conumed: consumed importations hinder_expense exporting dearer conveniences foreign_markets greater_quantities supplied exportations\n"
     ]
    }
   ],
   "source": [
    "consumption = 'consumption|consume|consuming|consumed|conume|conumption|conuming|conumed'\n",
    "c = consumption.split('|')\n",
    "for w in c:\n",
    "    similar(publica_eic_monopoly,w)"
   ]
  },
  {
   "cell_type": "code",
   "execution_count": 113,
   "metadata": {},
   "outputs": [
    {
     "name": "stdout",
     "output_type": "stream",
     "text": [
      "corruption: dimunition fifteen_cent proportions assigning originally intrinsically_worth acquir due_intrinsic groats prevent_counterfeiting\n",
      "corrupt: shed unworthily trike remembrance forgiven ungenerous strike fortitude enjoyments extinguish\n",
      "corrupted: gaming explain_meaning lazy surer occupation nourish preserv endless nourih collective\n",
      "corruptions: case_stands emolument peace_welfare detrimental undertakings dependence_thereon diadvantageous enlighten conducing affecting\n",
      "corruptly: shrine ancona victoria calmer palm_wine funen gentle comarones country_voluntatem ritibus\n",
      "corrupting: fittest animates regimen seemly uperfluities oftener policys cation apt_overturn livers_month\n",
      "corrupttoi: standar destained beneficence almans plowden hurled algate cahell nimium rursus\n",
      "corruptpag: information_riot wulferre princerespected raynar offence_committed lawsthe bourk_clanrickard peeping anthropo mephiboheth\n",
      "corruptness: diffus pears scent dash spur begg contingencies knavery sejanus minus\n"
     ]
    }
   ],
   "source": [
    "corruption = 'corruption|corrupt|corrupted|corruptions|corruptly|corrupting|corrupttoi|corruptpag|corruptness'\n",
    "corrupt = corruption.split('|')\n",
    "for w in corrupt:\n",
    "    similar(publica_eic_monopoly,w)"
   ]
  }
 ],
 "metadata": {
  "interpreter": {
   "hash": "916dbcbb3f70747c44a77c7bcd40155683ae19c65e1c03b4aa3499c5328201f1"
  },
  "kernelspec": {
   "display_name": "Python 3.8.10 64-bit",
   "language": "python",
   "name": "python3"
  },
  "language_info": {
   "codemirror_mode": {
    "name": "ipython",
    "version": 3
   },
   "file_extension": ".py",
   "mimetype": "text/x-python",
   "name": "python",
   "nbconvert_exporter": "python",
   "pygments_lexer": "ipython3",
   "version": "3.8.10"
  },
  "orig_nbformat": 4
 },
 "nbformat": 4,
 "nbformat_minor": 2
}
