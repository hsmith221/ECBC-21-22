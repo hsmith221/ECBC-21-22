{
 "cells": [
  {
   "cell_type": "markdown",
   "metadata": {},
   "source": [
    "By Amy Weng\n",
    "\n",
    "Code adapted from https://towardsdatascience.com/word2vec-explained-49c52b4ccb71#:~:text=CBOW%20%28continuous%20bag%20of%20words%29%20and%20the%20skip-gram,and%20try%20to%20predict%20the%20missing%20one.%20Resources. \n",
    "\n",
    "https://towardsdatascience.com/word-embeddings-and-embedding-projector-of-tensorflow-c946b98c9b3f\n",
    "\n",
    "Word2Vec Continuous Bag of Words Model Word Embedding and Visualization"
   ]
  },
  {
   "cell_type": "code",
   "execution_count": 2,
   "metadata": {},
   "outputs": [],
   "source": [
    "import pandas as pd\n",
    "import matplotlib.pyplot as plt\n",
    "\n",
    "from words import remove_stopwords\n",
    "\n",
    "from gensim.scripts import word2vec2tensor\n",
    "from gensim.models import Word2Vec as w2v"
   ]
  },
  {
   "cell_type": "code",
   "execution_count": 3,
   "metadata": {},
   "outputs": [],
   "source": [
    "text = []\n",
    "def embed(df,title):\n",
    "    data = df.text.values.tolist()\n",
    "    # preprocess and remove stopwords\n",
    "    data = remove_stopwords(data)\n",
    "    model = w2v(data,min_count=3,sg = 1,window=7)     \n",
    "    model.wv.save_word2vec_format('/home/rapiduser/Materials/embeddings/'+title+'.model')\n",
    "    return(model)\n",
    "\n",
    "def similar(model,word):\n",
    "    if word in model.wv.key_to_index.keys():\n",
    "        words = []\n",
    "        for w, s in model.wv.most_similar(word):\n",
    "            words.append(w)\n",
    "        print(word + ': '+' '.join(words))"
   ]
  },
  {
   "cell_type": "code",
   "execution_count": 5,
   "metadata": {},
   "outputs": [],
   "source": [
    "myCSV = '/home/rapiduser/Materials/topic model/publica/eic_monopoly.csv'\n",
    "\n",
    "readFile = pd.read_csv(myCSV)\n",
    "\n",
    "# read text information into a dataframe\n",
    "publica_eic_monopoly = embed(readFile,'publica_eic_monopoly')"
   ]
  },
  {
   "cell_type": "code",
   "execution_count": 6,
   "metadata": {},
   "outputs": [
    {
     "name": "stdout",
     "output_type": "stream",
     "text": [
      "monopolies: retraints repugnant statutes authorities retrained inhibitions restraints magna enacting charta\n",
      "monopolium: diertation caluminatoris colbeck noncon diuaive anglicanum aurato patribus anthologicum suo\n",
      "monopoly: retraints retrained ingroing restraints engrossing grafting uing excluive vexatious restraint\n",
      "monopolise: inconvenient prejudiced engross ingroing avenge obstructed smallness subservient restrictions engrossing\n",
      "monopolising: foreignof impoverishing wallowed considers hinted quet poil flourihed trafficking swallowed\n",
      "monopolists: monopolits straining worker cumber impoverished gild unpeakable inamuch inasmuch draper\n",
      "monopolizers: conduces suppoition ditinctly turky deerving liberal engrossers importsmay loath inufficient\n",
      "monopolised: restraining solely confining extenive olely avenge obtruction separate merchandising conjunction\n",
      "monoopolies: patious praedicta dienting nighet conspiring herbsthe bandittoes cruising acquaints adoring\n",
      "monopolits: monopolists inamuch straining impoverished unpeakable cumber usto inasmuch colleagues starve\n",
      "monopolers: scrivans wharfage normanby denominates brampore quatuor lougaroos ariani proelyting fightings\n"
     ]
    }
   ],
   "source": [
    "from words import monopoly\n",
    "m = monopoly.split('|')\n",
    "for w in m:\n",
    "    similar(publica_eic_monopoly,w)"
   ]
  },
  {
   "cell_type": "code",
   "execution_count": 10,
   "metadata": {},
   "outputs": [
    {
     "name": "stdout",
     "output_type": "stream",
     "text": [
      "consumption: exportations conumption importations growths manufactury disuse contrarywhat transporting exporting manufacturing\n",
      "consume: conume subsistence increases fabricking pilfering beget excessive decrease prodigal richer\n",
      "consuming: bibbers conuming wasting wating originalthe obstructing movable accumulate hive modes\n",
      "consumed: conumes conumed consumes furnishes stealth diminihed perfectly exportations supplied exceedingly\n",
      "conume: consume necearies fabricking modes prodigal growths fabricate thanothers decrease fabrickt\n",
      "conumption: consumption manufactury importations manufacturing growths woolen upplies vend fabricate dicouraged\n",
      "conuming: consuming modes wating pring gaming bibbers wasting flows cotly shine\n",
      "conumed: consumed supplied contrarywhat exhauted handicrafts purchasing fabricate enhanced combinations manufactory\n"
     ]
    }
   ],
   "source": [
    "consumption = 'consumption|consume|consuming|consumed|conume|conumption|conuming|conumed'\n",
    "c = consumption.split('|')\n",
    "for w in c:\n",
    "    similar(publica_eic_monopoly,w)"
   ]
  },
  {
   "cell_type": "code",
   "execution_count": 11,
   "metadata": {},
   "outputs": [
    {
     "name": "stdout",
     "output_type": "stream",
     "text": [
      "corruption: purity acquir prognostics changes dimunition universally deviations purer axiom unchangeable\n",
      "corrupt: strike gatherers extremes irregularities trike abates diguie sordid perplex career\n",
      "corrupted: foresee olid beggary distribute contests meditate languishes occupation revive minded\n",
      "corruptions: impairment crowd affecting conjuncture accrewing bankrupt tottering artifices emergencies desperate\n",
      "corruptly: swaley cividad gibraltar pharos corneline delta narrowest odours lesbos cornelian\n",
      "corrupting: suppoition contesting disappointed diadvantageous speedily diappointed disadvantageous residents inufficient dullness\n",
      "corrupttoi: seur suppliants chritoph callen wilthire nambouris lacks pilavene religiontheir ignaviae\n",
      "corruptpag: novembris marl daemons probabilities transitory osburne flu geometrica ciel woodstock\n",
      "corruptness: intelligitur machinati profeing aelians skein polio excuses tetifie catched slander\n"
     ]
    }
   ],
   "source": [
    "corruption = 'corruption|corrupt|corrupted|corruptions|corruptly|corrupting|corrupttoi|corruptpag|corruptness'\n",
    "corrupt = corruption.split('|')\n",
    "for w in corrupt:\n",
    "    similar(publica_eic_monopoly,w)"
   ]
  },
  {
   "cell_type": "code",
   "execution_count": 4,
   "metadata": {},
   "outputs": [],
   "source": [
    "from gensim.scripts import word2vec2tensor\n",
    "tensor_dir='/home/rapiduser/Materials/tensor'\n",
    "word2vec2tensor.word2vec2tensor(\n",
    "    '/home/rapiduser/Materials/embeddings/publica_eic_monopoly.model',\n",
    "    tensor_dir+'/publica_eic_monopoly',\n",
    "    binary=False)"
   ]
  },
  {
   "cell_type": "code",
   "execution_count": null,
   "metadata": {},
   "outputs": [],
   "source": [
    "from sklearn.decomposition import PCA\n",
    "plt.style.use('ggplot')\n",
    "def visualizePCA(emb_df):\n",
    "    pca = PCA(n_components=2, random_state=7)\n",
    "    pca_mdl = pca.fit_transform(emb_df)\n",
    "\n",
    "    emb_df_PCA = (\n",
    "        pd.DataFrame(\n",
    "            pca_mdl,\n",
    "            columns=['x','y'],\n",
    "            index = emb_df.index\n",
    "        )\n",
    "    )\n",
    "\n",
    "    plt.clf()\n",
    "    plt.figure(figsize=(6,6))\n",
    "\n",
    "    plt.scatter(\n",
    "        x = emb_df_PCA['x'],\n",
    "        y = emb_df_PCA['y'],\n",
    "        s = 0.5,\n",
    "        color = 'maroon',\n",
    "        alpha = 0.5\n",
    "    )\n",
    "\n",
    "    plt.xlabel('PCA-1')\n",
    "    plt.ylabel('PCA-2')\n",
    "    plt.title('PCA Visualization')\n",
    "    plt.plot()"
   ]
  }
 ],
 "metadata": {
  "interpreter": {
   "hash": "916dbcbb3f70747c44a77c7bcd40155683ae19c65e1c03b4aa3499c5328201f1"
  },
  "kernelspec": {
   "display_name": "Python 3.8.10 64-bit",
   "language": "python",
   "name": "python3"
  },
  "language_info": {
   "codemirror_mode": {
    "name": "ipython",
    "version": 3
   },
   "file_extension": ".py",
   "mimetype": "text/x-python",
   "name": "python",
   "nbconvert_exporter": "python",
   "pygments_lexer": "ipython3",
   "version": "3.8.10"
  },
  "orig_nbformat": 4
 },
 "nbformat": 4,
 "nbformat_minor": 2
}
