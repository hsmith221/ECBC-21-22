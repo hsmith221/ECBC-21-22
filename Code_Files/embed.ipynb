{
 "cells": [
  {
   "cell_type": "markdown",
   "metadata": {},
   "source": [
    "By Amy Weng\n",
    "\n",
    "Word2Vec Continuous Skip-Gram Model Word Embedding and Visualization\n",
    "\n",
    "https://radimrehurek.com/gensim/models/word2vec.html"
   ]
  },
  {
   "cell_type": "code",
   "execution_count": 32,
   "metadata": {},
   "outputs": [],
   "source": [
    "import pandas as pd\n",
    "from words import remove_stopwords\n",
    "from gensim.scripts import word2vec2tensor\n",
    "from gensim.models import Word2Vec\n",
    "from gensim.models import Phrases\n",
    "\n",
    "def embed(df,title):\n",
    "    data = df.text.values.tolist()\n",
    "    # preprocess and remove stopwords\n",
    "    data = remove_stopwords(data)\n",
    "    # Train a bigram detector.\n",
    "    bigram_transformer = Phrases(data)\n",
    "    # Train a skip-gram model with the bigram detector \n",
    "    model = Word2Vec(bigram_transformer[data], min_count=5,sg=1)\n",
    "    # save model so we can reload later  \n",
    "    model.save('/home/rapiduser/Materials/embeddings/'+title+'.model')\n",
    "    # save model in a format that can be converted to tensor TSV \n",
    "    model.wv.save_word2vec_format('/home/rapiduser/Materials/embeddings/tensor/'+title+'.model')\n",
    "    return(model)\n",
    "\n",
    "def similar(model,word,num):\n",
    "    if word in model.wv.key_to_index.keys():\n",
    "        words = []\n",
    "        first = 0\n",
    "        score = 0\n",
    "        for w, s in model.wv.most_similar(word,topn=num):\n",
    "            if first == 0:\n",
    "                score = s\n",
    "                first += 1\n",
    "            words.append(w)\n",
    "            # words.append((w,s))\n",
    "        # print(word + ': '+' '.join(words))\n",
    "        # print('The most similar n-gram has cosine distance '+str(score))\n",
    "        return ' '.join(words)\n",
    "\n",
    "def comparePair(model,word1,word2):\n",
    "    if word1 and word2 in model.wv.key_to_index.keys():\n",
    "        # print('Cosine similarity between ' + word1 + ' and ' + word2 + ': ',model.wv.similarity(word1, word2))\n",
    "        return model.wv.similarity(word1, word2)\n",
    "    return None\n",
    "\n",
    "def tensor(f_name):\n",
    "    word2vec2tensor.word2vec2tensor(\n",
    "        '/home/rapiduser/Materials/embeddings/tensor/'+f_name+'.model',\n",
    "        '/home/rapiduser/ECBC-21-22/Text_Files/Embeddings TSV/'+f_name,\n",
    "        binary=False)"
   ]
  },
  {
   "cell_type": "code",
   "execution_count": null,
   "metadata": {},
   "outputs": [],
   "source": [
    "myCSV = '/home/rapiduser/Materials/topic model/publica/eic_monopoly.csv'\n",
    "\n",
    "readFile = pd.read_csv(myCSV)\n",
    "\n",
    "# read text information into a dataframe\n",
    "publica_eic_monopoly = embed(readFile,'publica_eic_monopoly')\n",
    "tensor('publica_eic_monopoly')"
   ]
  },
  {
   "cell_type": "code",
   "execution_count": 28,
   "metadata": {},
   "outputs": [],
   "source": [
    "publica = 'abroad|act|administrators|admiral|adventurers|africa|african|aid|ally|ambaador|ambassador|amboyna|amsterdam|argier|army|austerity|authority|bank|bankrupt|bankrupts|banks|bantam|bavaria|bill|bills|body politic|bond|britain|bullion|bullionist|calico|calicoes|captain|cargo|cargoes|cent|cents|charles|charters|china|chocolate|christiandom|cinnamon|citizens|civil war|civilian|clothier|clothiers|cloths|coffee|coin|coined|commerce|commercial|commiioner|commissioner|commissioners|commodities|commodity|commonwealth|companies|company|constitution|consumables|consume|consumer|consuming|consumption|controversies|controversy|conume|conumption|copper|corn|corporate|corporation|council|councils|country|court|courten|courts|credit|creditor|creditors|crisis|crisis|currency|debt|debtor|decoctor|decree|decrees|defendant|dutch|duties|east india company|east indies|east-india company|east-india-company|eat-india company|economic|economy|emperor|empire|employment|enemy|england|england|estate|europe|european|exchange|exchequer|exportation|exported|extortion|factories|factory|fih|fihing|fiscal|fish|fishery|fishing|foreign|free trade|germany|ginger|gold|goods|government|governor|governors|grant|grants|gunpowder|herring|herrings|hillings|hollanders|holy roman empire|house of commons|house of lords|importation|imported|income|indenture|india|india|indian|indies|indonesia|industry|interest|interest rate|interest rates|interet|interloper|interlopers|ireland|james|joint-stock|king|kingdom|kingdom|kings|land|law|laws|license|licenser|licensing|london|lord|low countries|majesties|majesty|majeties|manufacture|manufacturers|manufactures|manufacturing|market|markets|mary|massacre|mercantile|merchandise|merchant|merchants|military|mines|mint|minted|mogul|money|moneys|monies|monopolie|monopolies|monopolion|monopolist|monopolium|monopolization|monopolize|monopolizer|monopolizes|monopoly|monopolion|monopolye|monopolyes|monoply|monopolise|monopolising|monopolists|monopolizers|monopolised|monoopolies|monopolits|monopolers|monopoliing|mughal|nation|national|naval|navigation|navy|negroes|netherlands|netherlands|nets|oppression|parliament|parliament|pay|pence|pences|pepper|petitioner|petitioners|petre|phaulkon|pirate|pirates|plaintiff|plantations|planters|pleads|politic|political|pound|pounds|power|price|prices|prince|princes|privileges|proclamation|proecutor|proecutors|profitable|prohibition|property|proprietors|protection|provincial|public|publicke|queen|quote|restoration|revenue|revenues|revolution|ruler|salt|saltpetre|scandal|scandalous|scotland|seamen|shilling|shillings|shipping|ships|siam|siam|silk|silver|solicitors|spain|spanish|spending|spices|spices|sterling|stock|strength|stuart|subject|substance|supply|syam|taxation|taxes|tea|textiles|tobacco|tories|tory|trade|tradesmen|trading|traffic|traffique|treasure|treaties|treatise|treatises|treaty|truces|tunis|turkish|unprofitable|usurer|usury|war|whig|whigs|william|wood|woollen|work'\n",
    "religio = 'abnegatio|abraham|absolution|abundance|adam|adultery|almighty|altar|anabaptists|anathema|annihilate|anoint|anointing|antichrist|apocalypse|apostle|archangel|armageddon|arrogant|ascension|atone|atonement|avarice|baptism|bathsheba|bible|biblical|bishop|bishop|bishops|blasphemy|bless|blessed|blessing|born-again|bread|brother|caesar|calvinist|candles|canon|catholic|cessans|chalice|chapel|chaplain|charity|cheat|cheating|cherub|christ|christian|christianity|chrit|church|cleansing|clergy|coming|commandments|communion|condemn|condemnation|confess|confession|congregation|conscience|consecration|contempt|contrite|contrition|conviction|covenant|create|creation|creed|cross|crown|cuckold|curse|damask|damn|damnation|damned|david|day|deacon|death|deceit|deceitful|deceive|deceive|defile|defiled|delilah|demon|depravity|desire|desires|destruction|deuteronomy|devil|disciple|disciples|disobey|divine|doctrine|ecumenical|endure|entice|enticed|epistle|eternal|evangelical|evangelicalism|eve|evil|excommunication|exile|exodus|faith|false|falsehood|fellowship|forgive|forgiveness|fortune|fraud|freedom|fundamental|generation|genesis|gentile|gluttony|god|godly|gospel|grace|greed|green|grievance|guilt|guilty|hallelujah|heaven|hebrew|hebrews|hell|heresy|heresy|holiness|holy|human|hypocrisy|incest|indulgence|indulgent|integrity|isaiah|james|jehovah|jesus|job|judaism|judgment|justification|justify|knowledge|lechery|leviticus|lie|lies|liturgy|lord|lucifer|lucrum|luke|lust|lustful|lustfully|luxury|manifestation|mark|mass|matthew|mendicancy|messiah|minister|ministry|mission|missionary|modesty|moral|moses|obedience|obey|offering|offerings|ordained|ordinance|ordinate|ordination|orthodox|pagan|paganism|pagans|palace|papacy|papist|parable|parables|parish|parishioner|passover|pastor|penance|perfect|persecution|peter|pleasant|pope|popery|pray|prayer|predestination|prejudicial|presbyterian|presbyterians|pride|priesthood|prodigal|prodigality|prohibition|prophecy|prophet|protestant|proverb|proverbs|providence|psalm|psalms|purgatory|radiance|rapture|reap|reconcile|reconciliation|redeem|redeemed|redemption|reform|reformed|reincarnate|reincarnation|reject|rejected|rejoice|rejoiced|religion|render|repent|resurrect|resurrection|revelation|rich|righteous|righteousness|ritual|roman|rome|root|sabbath|sacrament|sacred|sacrifice|sacrifices|saint|salvation|samaritan|samson|samuel|sanctified|sanctify|sanctuary|satan|satanic|satanism|save|saved|saved|savior|scripture|scriptures|second|secure|security|self-denial|sermon|simony|sin|sinful|sins|sister|slave|slaves|sloth|soul|sown|spirit|splendor|splendor|station|stations|sumptuary|sun|supper|tempt|ten|tenant|tenants|testament|theft|thrive|timothy|tongues|tower|transgression|tribulation|trinity|trust|truth|twelve|unfaithful|union|universal|unnatural|vanity|velvet|venial|virgin|vision|vulgate|wealth|whore|wicked|wickedness|wine|wise|witness|word|words|worship|zion'\n",
    "medica = 'ablespy|ague|anemia|aphonia|apoplexy|apothecaries|apothecary|asthma|asthma|atrophy|bad|bezoar|bile|bilious remitting fever|biliousness|bleed|bleeding|blood|bloody flux|body|brain|brain fever|break bone|breathing|camp fever|cancer|canker|catarrh|chlorosis|chlorosis|cholera infantum|circulate|circulation|clots|clotting|cold|constitution|consume|consumption|contamination|corpora|corpus|corrupt|corruptio|corruption|corruptionem|cough|creeping paralysis|cure|cured|dead|death|debility|decay|decay|deceased|defect|degenerate|degeneration|destroy|diabetes|diagnosis|diarrhea|disease|dissolution|distemper|drinks|dropsy|dry|dying|dysentery|dyspepsia|edema|enfeeblement|envy|epilepsy|evacuation|exercise|faculties|falling sickness|fatal|fatality|fever|fiber|fog|french pox|gangrene|grip|grippe|healthy|heart|heart|hemorrhage|hepatitis|herb|herbs|hot|hysteria|illness|impairment|inanition|indigestian|influenza|insane|jaundice|jealousy|languish|leech|leeches|liver|lung|malaria|malnutrition|marasmus|medical|medicine|medicines|melancholic|melancholy|miasma|milk sickness|mind|moist|morbid|mortal|mortality|mortification|mouth|necrosis|nerves|nervous|nostalgia|opiate|opium|paralysis|patient|patients|perversion|perverto|phlegm|phthisis|phyician|phyicians|physician|physicians|plague|plague|pox|prognosis|putrid|putrid|quinsy|remedies|remedy|sana|sane|sanguine|scrumpox|sick|sickness|smells|smoke|sores|spirit|spoil|spoiling|stomach|stroke|supple|surgeon|surgeons|swelling|syphilis|tetrid|therapeutic|tuberculosis|ulcer|unhealthy|unwholesome|upset|vein|vein|vessels|vice|vita|vital|vitiare|vitiation|vitium|vomit|waste|waste|wasting|wasting|wate|wating|wholesome|wintergreen|zodiac'\n",
    "consumption = 'consumption|consume|consuming|consumed|consumer|consumers|conumption|conume|conuming|conumed|conumer|conumers'\n",
    "monopoly = 'monopolie|monopolies|monopolion|monopolist|monopolium|monopolization|monopolize|monopolizer|monopolizes|monopoly|monopolion|monopolye|monopolyes|monoply|monopolise|monopolising|monopolists|monopolizers|monopolised|monoopolies|monopolits|monopolers'\n",
    "bodyPolitic = 'body_politic|body_politick|bodies_politic|bodies_politick'\n",
    "blood = 'blood|bleeding|bled|bleed'\n",
    "corrupt = 'corrupt|corruption|corrupting|corrupter|corrupted|corruptions'"
   ]
  },
  {
   "cell_type": "code",
   "execution_count": 33,
   "metadata": {},
   "outputs": [],
   "source": [
    "import os \n",
    "import re \n",
    "df = pd.DataFrame(columns=('year','similar','publica ratio','religio ratio','medica ratio'))\n",
    "for year in range(1660,1700+1):\n",
    "    similarWords = ''\n",
    "    if (str(year)+'_publica_eic.model') in os.listdir('/home/rapiduser/Materials/embeddings'):\n",
    "        model = Word2Vec.load('/home/rapiduser/Materials/embeddings/' + str(year)+'_publica_eic.model')\n",
    "        for term in corrupt.split('|'):\n",
    "            if similar(model,term,50) != None:\n",
    "                similarWords += similar(model,term,100)\n",
    "        if similarWords != '':\n",
    "            total = len(similarWords.split(' '))\n",
    "            p = len(re.findall(publica, similarWords))/total\n",
    "            r = len(re.findall(religio, similarWords))/total\n",
    "            m = len(re.findall(medica, similarWords))/total\n",
    "            data = {'year':year,'similar':similarWords,\n",
    "                'publica ratio':p,'religio ratio':r,\n",
    "                'medica ratio':m}\n",
    "            df = df.append(data,ignore_index=True)\n",
    "outfile = '/home/rapiduser/ECBC-21-22/Text_Files/cosine similarities/eic_corruption_ratios.csv'\n",
    "df.to_csv(outfile)"
   ]
  },
  {
   "cell_type": "code",
   "execution_count": 35,
   "metadata": {},
   "outputs": [
    {
     "data": {
      "image/png": "[encoded data removed]",
      "text/plain": [
       "<Figure size 1080x720 with 1 Axes>"
      ]
     },
     "metadata": {
      "needs_background": "light"
     },
     "output_type": "display_data"
    }
   ],
   "source": [
    "data = pd.read_csv('/home/rapiduser/ECBC-21-22/Text_Files/cosine similarities/eic_corruption_ratios.csv')\n",
    "import matplotlib.pyplot as plt \n",
    "x1= data['year'].tolist()\n",
    "y1 = data['publica ratio'].tolist()\n",
    "y2 = data['religio ratio'].tolist()\n",
    "y3 = data['medica ratio'].tolist()\n",
    "plt.figure(figsize = (15, 10))\n",
    "plt.scatter(x1, y1, c =\"pink\", linewidths = 2, s = 100)\n",
    "plt.scatter(x1, y2, c =\"purple\", linewidths = 2, s = 100)\n",
    "plt.scatter(x1, y3, c =\"blue\", linewidths = 2, s = 100)\n",
    "names = ['publica','religio','medica']\n",
    "plt.legend(labels=names,title=\"categories\")\n",
    "# plt.title('Cosine similarities of \"corruption\" to different lexicons in EIC texts', fontsize=20)\n",
    "plt.title('Distribution of similar words to \"corruption\" in EIC texts', fontsize=20)\n",
    "\n",
    "plt.xlabel(\"Year\",fontsize=15)\n",
    "plt.ylabel(\"Ratios\",fontsize=15)\n",
    "plt.show()"
   ]
  },
  {
   "cell_type": "code",
   "execution_count": null,
   "metadata": {},
   "outputs": [],
   "source": [
    "import os \n",
    "import re \n",
    "df = pd.DataFrame(columns=('year','similar','publica ratio','religio ratio','medica ratio'))\n",
    "for year in range(1660,1700+1):\n",
    "    similarWords = ''\n",
    "    pCosine,rCosine,mCosine,pNum,rNum,mNum,pRatio,rRatio,mRatio = 0,0,0,0,0,0,0,0,0\n",
    "    if (str(year)+'_publica_eic.model') in os.listdir('/home/rapiduser/Materials/embeddings'):\n",
    "        model = Word2Vec.load('/home/rapiduser/Materials/embeddings/' + str(year)+'_publica_eic.model')\n",
    "        for word1 in corrupt.split('|'):\n",
    "            if word1 in model.wv.key_to_index.keys():\n",
    "                for p in publica.split('|'):\n",
    "                    if p in model.wv.key_to_index.keys():\n",
    "                        pCosine += comparePair(model,word1,p)\n",
    "                        pNum += 1 \n",
    "                for r in religio.split('|'):\n",
    "                    if r in model.wv.key_to_index.keys():\n",
    "                        rCosine += comparePair(model,word1,r)\n",
    "                        rNum += 1 \n",
    "                for m in medica.split('|'):\n",
    "                    if m in model.wv.key_to_index.keys():\n",
    "                        mCosine += comparePair(model,word1,m)\n",
    "                        mNum += 1 \n",
    "\n",
    "        if pNum != 0: \n",
    "            pRatio = pCosine/pNum\n",
    "        if rNum != 0: \n",
    "            rRatio = rCosine/rNum\n",
    "        if mNum != 0: \n",
    "            mRatio = mCosine/mNum\n",
    "        \n",
    "        data = {'year':year,'similar':similarWords,\n",
    "            'publica ratio':pRatio,'religio ratio':rRatio,\n",
    "            'medica ratio':mRatio}\n",
    "        df = df.append(data,ignore_index=True)\n",
    "outfile = '/home/rapiduser/ECBC-21-22/Text_Files/cosine similarities/eic_corrupt_ratios2.csv'\n",
    "df.to_csv(outfile)"
   ]
  },
  {
   "cell_type": "code",
   "execution_count": null,
   "metadata": {},
   "outputs": [],
   "source": [
    "dir = '/home/rapiduser/Materials/Texts/eic_subsets'\n",
    "for year in range(1660,1700+1):\n",
    "    if (year==1671) or (year==1686):\n",
    "        continue\n",
    "    readFile = pd.read_csv(dir+'/'+str(year)+'.csv')\n",
    "    embed(readFile,str(year)+'_publica_eic')"
   ]
  },
  {
   "cell_type": "code",
   "execution_count": null,
   "metadata": {},
   "outputs": [],
   "source": [
    "model = Word2Vec.load('/home/rapiduser/Materials/embeddings/publica_eic.model')"
   ]
  },
  {
   "cell_type": "code",
   "execution_count": null,
   "metadata": {},
   "outputs": [],
   "source": [
    "from words import monopoly\n",
    "m = monopoly.split('|')\n",
    "for w in m:\n",
    "    similar(model,w,10)"
   ]
  },
  {
   "cell_type": "code",
   "execution_count": null,
   "metadata": {},
   "outputs": [],
   "source": [
    "terms1 = 'body_politic|body_politick|public_utility|public_affairs|wicked|illegal|engrossing|odious|evil|repugnant|arbitrary|popery|papist|bribery|remedies|remedy|monopoly_evils|circulation|disease|wasting|waste'\n",
    "terms2 = 'monopoly|monopolies|monopolise|monopolising|monopolizers|monopolised|corruption|corrupt|corrupting'\n",
    "list1 = terms1.split('|')\n",
    "list2 = terms2.split('|')\n",
    "for word1 in list1: \n",
    "    for word2 in list2: \n",
    "        comparePair(model,word1,word2)"
   ]
  },
  {
   "cell_type": "code",
   "execution_count": null,
   "metadata": {},
   "outputs": [],
   "source": [
    "consumption = 'consumption|consume|consuming|consumed|conume|conumption|conuming|conumed'\n",
    "c = consumption.split('|')\n",
    "for w in c:\n",
    "    similar(model,w,10)"
   ]
  },
  {
   "cell_type": "code",
   "execution_count": null,
   "metadata": {},
   "outputs": [],
   "source": [
    "corruption = 'corruption|corrupt|corrupted|corruptions|corrupting'\n",
    "corrupt = corruption.split('|')\n",
    "for w in corrupt:\n",
    "    similar(model,w,10)"
   ]
  },
  {
   "cell_type": "code",
   "execution_count": null,
   "metadata": {},
   "outputs": [],
   "source": [
    "import matplotlib.pyplot as plt \n",
    "from sklearn.decomposition import PCA\n",
    "\n",
    "pca = PCA(n_components=2, random_state=7)\n",
    "pca_mdl = pca.fit_transform(emb_df)\n",
    "\n",
    "emb_df_PCA = (\n",
    "    pd.DataFrame(\n",
    "        pca_mdl,\n",
    "        columns=['x','y'],\n",
    "        index = emb_df.index\n",
    "    )\n",
    ")\n",
    "\n",
    "plt.clf()\n",
    "fig = plt.figure(figsize=(15,10))\n",
    "\n",
    "plt.scatter(\n",
    "    x = emb_df_PCA['x'],\n",
    "    y = emb_df_PCA['y'],\n",
    "    s = 0.4,\n",
    "    color = 'purple',\n",
    "    alpha = 0.5\n",
    ")\n",
    "\n",
    "plt.xlabel('Principal Component 1',fontsize=15)\n",
    "plt.ylabel('Principal Component 2',fontsize=15)\n",
    "plt.title('PCA Visualization of Publica_EIC Embeddings',fontsize=20)\n",
    "plt.plot()"
   ]
  }
 ],
 "metadata": {
  "interpreter": {
   "hash": "916dbcbb3f70747c44a77c7bcd40155683ae19c65e1c03b4aa3499c5328201f1"
  },
  "kernelspec": {
   "display_name": "Python 3.8.10 64-bit",
   "language": "python",
   "name": "python3"
  },
  "language_info": {
   "codemirror_mode": {
    "name": "ipython",
    "version": 3
   },
   "file_extension": ".py",
   "mimetype": "text/x-python",
   "name": "python",
   "nbconvert_exporter": "python",
   "pygments_lexer": "ipython3",
   "version": "3.8.10"
  },
  "orig_nbformat": 4
 },
 "nbformat": 4,
 "nbformat_minor": 2
}
