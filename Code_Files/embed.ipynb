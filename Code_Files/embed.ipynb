{
 "cells": [
  {
   "cell_type": "markdown",
   "metadata": {},
   "source": [
    "By Amy Weng\n",
    "\n",
    "Word2Vec Continuous Skip-Gram Model Word Embedding and Visualization\n",
    "\n",
    "https://radimrehurek.com/gensim/models/word2vec.html"
   ]
  },
  {
   "cell_type": "code",
   "execution_count": 123,
   "metadata": {},
   "outputs": [],
   "source": [
    "import pandas as pd\n",
    "from words import remove_stopwords\n",
    "from gensim.scripts import word2vec2tensor\n",
    "from gensim.models import Word2Vec\n",
    "from gensim.models import Phrases\n",
    "\n",
    "def embed(df,title):\n",
    "    data = df.text.values.tolist()\n",
    "    # preprocess and remove stopwords\n",
    "    data = remove_stopwords(data)\n",
    "    # Train a bigram detector.\n",
    "    bigram_transformer = Phrases(data)\n",
    "    # Train a skip-gram model with the bigram detector \n",
    "    model = Word2Vec(bigram_transformer[data], min_count=5,sg=1)\n",
    "    # save model so we can reload later  \n",
    "    model.save('/home/rapiduser/Materials/embeddings/'+title+'.model')\n",
    "    # save model in a format that can be converted to tensor TSV \n",
    "    model.wv.save_word2vec_format('/home/rapiduser/Materials/embeddings/tensor/'+title+'.model')\n",
    "    return(model)\n",
    "\n",
    "def similar(model,word,num):\n",
    "    if word in model.wv.key_to_index.keys():\n",
    "        words = []\n",
    "        # first = 0\n",
    "        # score = 0\n",
    "        for w, s in model.wv.most_similar(word,topn=num):\n",
    "            # if first == 0:\n",
    "            #     score = s\n",
    "            #     first += 1\n",
    "            words.append(w)\n",
    "            # words.append((w,s))\n",
    "        # print(word + ': '+' '.join(words))\n",
    "        # print('The most similar n-gram has cosine distance '+str(score))\n",
    "        # print('\\n')\n",
    "        return ' '.join(words)\n",
    "\n",
    "def comparePair(model,word1,word2):\n",
    "    if word1 and word2 in model.wv.key_to_index.keys():\n",
    "        return model.wv.similarity(word1, word2)\n",
    "    return None\n",
    "        # print('Cosine similarity between ' + word1 + ' and ' + word2 + ': ',model.wv.similarity(word1, word2))\n",
    "\n",
    "def tensor(f_name):\n",
    "    word2vec2tensor.word2vec2tensor(\n",
    "        '/home/rapiduser/Materials/embeddings/tensor/'+f_name+'.model',\n",
    "        '/home/rapiduser/ECBC-21-22/Text_Files/Embeddings TSV/'+f_name,\n",
    "        binary=False)"
   ]
  },
  {
   "cell_type": "code",
   "execution_count": 2,
   "metadata": {},
   "outputs": [],
   "source": [
    "myCSV = '/home/rapiduser/Materials/topic model/publica/eic_monopoly.csv'\n",
    "\n",
    "readFile = pd.read_csv(myCSV)\n",
    "\n",
    "# read text information into a dataframe\n",
    "publica_eic_monopoly = embed(readFile,'publica_eic_monopoly')\n",
    "tensor('publica_eic_monopoly')"
   ]
  },
  {
   "cell_type": "code",
   "execution_count": 126,
   "metadata": {},
   "outputs": [],
   "source": [
    "consumption = 'consumption|consume|consuming|consumed|consumer|consumers|conumption|conume|conuming|conumed|conumer|conumers'\n",
    "publica = 'abroad|act|administrators|admiral|adventurers|africa|african|aid|ally|ambaador|ambassador|amboyna|amsterdam|argier|army|austerity|authority|bank|bankrupt|bankrupts|banks|bantam|bavaria|bill|bills|body politic|bond|britain|bullion|bullionist|calico|calicoes|captain|cargo|cargoes|cent|cents|charles|charters|china|chocolate|christiandom|cinnamon|citizens|civil war|civilian|clothier|clothiers|cloths|coffee|coin|coined|commerce|commercial|commiioner|commissioner|commissioners|commodities|commodity|commonwealth|companies|company|constitution|consumables|consume|consumer|consuming|consumption|controversies|controversy|conume|conumption|copper|corn|corporate|corporation|council|councils|country|court|courten|courts|credit|creditor|creditors|crisis|crisis|currency|debt|debtor|decoctor|decree|decrees|defendant|dutch|duties|east india company|east indies|east-india company|east-india-company|eat-india company|economic|economy|emperor|empire|employment|enemy|england|england|estate|europe|european|exchange|exchequer|exportation|exported|extortion|factories|factory|fih|fihing|fiscal|fish|fishery|fishing|foreign|free trade|germany|ginger|gold|goods|government|governor|governors|grant|grants|gunpowder|herring|herrings|hillings|hollanders|holy roman empire|house of commons|house of lords|importation|imported|income|indenture|india|india|indian|indies|indonesia|industry|interest|interest rate|interest rates|interet|interloper|interlopers|ireland|james|joint-stock|king|kingdom|kingdom|kings|land|law|laws|license|licenser|licensing|london|lord|low countries|majesties|majesty|majeties|manufacture|manufacturers|manufactures|manufacturing|market|markets|mary|massacre|mercantile|merchandise|merchant|merchants|military|mines|mint|minted|mogul|money|moneys|monies|monopolie|monopolies|monopolion|monopolist|monopolium|monopolization|monopolize|monopolizer|monopolizes|monopoly|monopolion|monopolye|monopolyes|monoply|monopolise|monopolising|monopolists|monopolizers|monopolised|monoopolies|monopolits|monopolers|monopoliing|mughal|nation|national|naval|navigation|navy|negroes|netherlands|netherlands|nets|oppression|parliament|parliament|pay|pence|pences|pepper|petitioner|petitioners|petre|phaulkon|pirate|pirates|plaintiff|plantations|planters|pleads|politic|political|pound|pounds|power|price|prices|prince|princes|privileges|proclamation|proecutor|proecutors|profitable|prohibition|property|proprietors|protection|provincial|public|publicke|queen|quote|restoration|revenue|revenues|revolution|ruler|salt|saltpetre|scandal|scandalous|scotland|seamen|shilling|shillings|shipping|ships|siam|siam|silk|silver|solicitors|spain|spanish|spending|spices|spices|sterling|stock|strength|stuart|subject|substance|supply|syam|taxation|taxes|tea|textiles|tobacco|tories|tory|trade|tradesmen|trading|traffic|traffique|treasure|treaties|treatise|treatises|treaty|truces|tunis|turkish|unprofitable|usurer|usury|war|whig|whigs|william|wood|woollen|work'\n",
    "religio = 'abnegatio|abraham|absolution|abundance|adam|adultery|almighty|altar|anabaptists|anathema|annihilate|anoint|anointing|antichrist|apocalypse|apostle|archangel|armageddon|arrogant|ascension|atone|atonement|avarice|baptism|bathsheba|bible|biblical|bishop|bishop|bishops|blasphemy|bless|blessed|blessing|born-again|bread|brother|caesar|calvinist|candles|canon|catholic|cessans|chalice|chapel|chaplain|charity|cheat|cheating|cherub|christ|christian|christianity|chrit|church|cleansing|clergy|coming|commandments|communion|condemn|condemnation|confess|confession|congregation|conscience|consecration|contempt|contrite|contrition|conviction|covenant|create|creation|creed|cross|crown|cuckold|curse|damask|damn|damnation|damned|david|day|deacon|death|deceit|deceitful|deceive|deceive|defile|defiled|delilah|demon|depravity|desire|desires|destruction|deuteronomy|devil|disciple|disciples|disobey|divine|doctrine|ecumenical|endure|entice|enticed|epistle|eternal|evangelical|evangelicalism|eve|evil|excommunication|exile|exodus|faith|false|falsehood|fellowship|forgive|forgiveness|fortune|fraud|freedom|fundamental|generation|genesis|gentile|gluttony|god|godly|gospel|grace|greed|green|grievance|guilt|guilty|hallelujah|heaven|hebrew|hebrews|hell|heresy|heresy|holiness|holy|human|hypocrisy|incest|indulgence|indulgent|integrity|isaiah|james|jehovah|jesus|job|judaism|judgment|justification|justify|knowledge|lechery|leviticus|lie|lies|liturgy|lord|lucifer|lucrum|luke|lust|lustful|lustfully|luxury|manifestation|mark|mass|matthew|mendicancy|messiah|minister|ministry|mission|missionary|modesty|moral|moses|obedience|obey|offering|offerings|ordained|ordinance|ordinate|ordination|orthodox|pagan|paganism|pagans|palace|papacy|papist|parable|parables|parish|parishioner|passover|pastor|penance|perfect|persecution|peter|pleasant|pope|popery|pray|prayer|predestination|prejudicial|presbyterian|presbyterians|pride|priesthood|prodigal|prodigality|prohibition|prophecy|prophet|protestant|proverb|proverbs|providence|psalm|psalms|purgatory|radiance|rapture|reap|reconcile|reconciliation|redeem|redeemed|redemption|reform|reformed|reincarnate|reincarnation|reject|rejected|rejoice|rejoiced|religion|render|repent|resurrect|resurrection|revelation|rich|righteous|righteousness|ritual|roman|rome|root|sabbath|sacrament|sacred|sacrifice|sacrifices|saint|salvation|samaritan|samson|samuel|sanctified|sanctify|sanctuary|satan|satanic|satanism|save|saved|saved|savior|scripture|scriptures|second|secure|security|self-denial|sermon|simony|sin|sinful|sins|sister|slave|slaves|sloth|soul|sown|spirit|splendor|splendor|station|stations|sumptuary|sun|supper|tempt|ten|tenant|tenants|testament|theft|thrive|timothy|tongues|tower|transgression|tribulation|trinity|trust|truth|twelve|unfaithful|union|universal|unnatural|vanity|velvet|venial|virgin|vision|vulgate|wealth|whore|wicked|wickedness|wine|wise|witness|word|words|worship|zion'\n",
    "medica = 'apothecaries|apothecary|asthma|asthma|atrophy|bad|bezoar|bile|bleed|bleeding|blood|body|brain|breathing|cancer|canker|circulate|circulation|clots|clotting|cold|constitution|consume|consumption|contamination|corpora|corpus|corrupt|corruptio|corruption|corruptionem|cough|cure|cured|dead|death|decay|decay|deceased|defect|degenerate|degeneration|destroy|diabetes|diagnosis|disease|dissolution|distemper|drinks|dry|dying|enfeeblement|envy|evacuation|exercise|faculties|fatal|fatality|fever|fiber|fog|healthy|heart|hemorrhage|hepatitis|herb|herbs|hot|hysteria|illness|impairment|inanition|insane|jealousy|languish|leech|leeches|liver|lung|malaria|medical|medicine|medicines|melancholy|miasma|mind|moist|morbid|mortal|mortality|mouth|nerves|nervous|opiate|opium|patient|patients|perversion|perverto|phlegm|phyician|phyicians|physician|physicians|plague|plague|pox|prognosis|putrid|putrid|remedies|remedy|sana|sane|sanguine|sick|sickness|smells|smoke|sores|spirit|spoil|spoiling|stomach|supple|surgeon|surgeons|swelling|tetrid|therapeutic|tuberculosis|ulcer|unhealthy|unwholesome|upset|vein|vein|vessels|vice|vita|vital|vitiare|vitiation|vitium|vomit|waste|wasting|wholesome|wintergreen|zodiac'"
   ]
  },
  {
   "cell_type": "code",
   "execution_count": 121,
   "metadata": {},
   "outputs": [],
   "source": [
    "import os \n",
    "import re \n",
    "df = pd.DataFrame(columns=('year','similar','publica ratio','religio ratio','medica ratio'))\n",
    "for year in range(1660,1700+1):\n",
    "    similarWords = ''\n",
    "    if (str(year)+'_eic.model') in os.listdir('/home/rapiduser/Materials/embeddings'):\n",
    "        model = Word2Vec.load('/home/rapiduser/Materials/embeddings/' + str(year)+'_eic.model')\n",
    "        for term in consumption.split('|'):\n",
    "            if similar(model,term,50) != None:\n",
    "                similarWords += similar(model,term,100)\n",
    "        if similarWords != '':\n",
    "            total = len(similarWords.split(' '))\n",
    "            p = len(re.findall(publica, similarWords))/total\n",
    "            r = len(re.findall(religio, similarWords))/total\n",
    "            m = len(re.findall(medica, similarWords))/total\n",
    "            data = {'year':year,'similar':similarWords,\n",
    "                'publica ratio':p,'religio ratio':r,\n",
    "                'medica ratio':m}\n",
    "            df = df.append(data,ignore_index=True)\n",
    "outfile = '/home/rapiduser/ECBC-21-22/Text_Files/cosine similarities/eic_consumption_ratios.csv'\n",
    "df.to_csv(outfile)"
   ]
  },
  {
   "cell_type": "code",
   "execution_count": 127,
   "metadata": {},
   "outputs": [],
   "source": [
    "import os \n",
    "import re \n",
    "df = pd.DataFrame(columns=('year','similar','publica ratio','religio ratio','medica ratio'))\n",
    "for year in range(1660,1700+1):\n",
    "    similarWords = ''\n",
    "    pCosine,rCosine,mCosine,pNum,rNum,mNum,pRatio,rRatio,mRatio = 0,0,0,0,0,0,0,0,0\n",
    "    if (str(year)+'_eic.model') in os.listdir('/home/rapiduser/Materials/embeddings'):\n",
    "        model = Word2Vec.load('/home/rapiduser/Materials/embeddings/' + str(year)+'_eic.model')\n",
    "        for word1 in consumption.split('|'):\n",
    "            if word1 in model.wv.key_to_index.keys():\n",
    "                for p in publica.split('|'):\n",
    "                    if p in model.wv.key_to_index.keys():\n",
    "                        pCosine += comparePair(model,word1,p)\n",
    "                        pNum += 1 \n",
    "                for r in religio.split('|'):\n",
    "                    if r in model.wv.key_to_index.keys():\n",
    "                        rCosine += comparePair(model,word1,r)\n",
    "                        rNum += 1 \n",
    "                for m in medica.split('|'):\n",
    "                    if m in model.wv.key_to_index.keys():\n",
    "                        mCosine += comparePair(model,word1,m)\n",
    "                        mNum += 1 \n",
    "\n",
    "        if pNum != 0: \n",
    "            pRatio = pCosine/pNum\n",
    "        if rNum != 0: \n",
    "            rRatio = rCosine/rNum\n",
    "        if mNum != 0: \n",
    "            mRatio = mCosine/mNum\n",
    "        \n",
    "        data = {'year':year,'similar':similarWords,\n",
    "            'publica ratio':pRatio,'religio ratio':rRatio,\n",
    "            'medica ratio':mRatio}\n",
    "        df = df.append(data,ignore_index=True)\n",
    "outfile = '/home/rapiduser/ECBC-21-22/Text_Files/cosine similarities/eic_consumption_ratios2.csv'\n",
    "df.to_csv(outfile)"
   ]
  },
  {
   "cell_type": "code",
   "execution_count": 128,
   "metadata": {},
   "outputs": [
    {
     "name": "stdout",
     "output_type": "stream",
     "text": [
      "    year similar publica ratio religio ratio medica ratio\n",
      "0   1660                   142           103           24\n",
      "1   1661                     0             0            0\n",
      "2   1662                     0             0            0\n",
      "3   1663                     0             0            0\n",
      "4   1664                  1330          1414          364\n",
      "5   1665                     0             0            0\n",
      "6   1666                   158           102           36\n",
      "7   1667                     0             0            0\n",
      "8   1668                     0             0            0\n",
      "9   1669                     0             0            0\n",
      "10  1670                     0             0            0\n",
      "11  1672                   203           204           59\n",
      "12  1673                     0             0            0\n",
      "13  1674                     0             0            0\n",
      "14  1675                     0             0            0\n",
      "15  1676                   855           780          220\n",
      "16  1677                  1008           462          162\n",
      "17  1678                     0             0            0\n",
      "18  1679                     0             0            0\n",
      "19  1680                   128            95           22\n",
      "20  1681                   378           312           96\n",
      "21  1682                   768           388          124\n",
      "22  1683                   132           132           52\n",
      "23  1684                     0             0            0\n",
      "24  1685                     0             0            0\n",
      "25  1687                     0             0            0\n",
      "26  1688                     0             0            0\n",
      "27  1689                  1038           576          162\n",
      "28  1690                     0             0            0\n",
      "29  1691                   892           644          304\n",
      "30  1692                     0             0            0\n",
      "31  1693                   396           356          112\n",
      "32  1694                   402           254           64\n",
      "33  1695                   884           736          216\n",
      "34  1696                  1944          1800          600\n",
      "35  1697                  1449          1092          371\n",
      "36  1698                   728           540          220\n",
      "37  1699                  2230          1050          340\n",
      "38  1700                  1386          1014          342\n"
     ]
    }
   ],
   "source": [
    "print(df)"
   ]
  },
  {
   "cell_type": "code",
   "execution_count": 12,
   "metadata": {},
   "outputs": [],
   "source": [
    "dir = '/home/rapiduser/Materials/Texts/eic_subsets'\n",
    "for year in range(1696,1700+1):\n",
    "    readFile = pd.read_csv(dir+'/'+str(year)+'.csv')\n",
    "    embed(readFile,str(year)+'_eic')"
   ]
  },
  {
   "cell_type": "code",
   "execution_count": 27,
   "metadata": {},
   "outputs": [
    {
     "name": "stdout",
     "output_type": "stream",
     "text": [
      "monopolies: laws_land freedom_trade retrained restrain restrained retrain exclude_others wrong legally privilege\n",
      "The most similar n-gram has cosine distance 0.9599364995956421\n",
      "monopoly: exclusive depending regulated_company joint_stocks monopolies retrained privilege wrong majeties_subjects allege\n",
      "The most similar n-gram has cosine distance 0.9274605512619019\n",
      "monopolise: allegations advantages_profits ingroed naturally_follow befalls free_encumbrances trengthen fact_allege corporation_excluding default_paying\n",
      "The most similar n-gram has cosine distance 0.9918798804283142\n",
      "monopolising: enriched greater_prices remote_parts riches_strength rates_exchange feel_effects encreaing increase_navigation increase_seamen attempting\n",
      "The most similar n-gram has cosine distance 0.9856666326522827\n",
      "monopolizers: lil vat_extent butchers served_apprentice tillage stil betowed consuming afford_gains trademan\n",
      "The most similar n-gram has cosine distance 0.991474449634552\n",
      "monopolised: olely forces_forts diffuive majeties_revenue solely extenive timely_prevented divided_amongt restraining diffusive\n",
      "The most similar n-gram has cosine distance 0.9849039316177368\n"
     ]
    }
   ],
   "source": [
    "from words import monopoly\n",
    "m = monopoly.split('|')\n",
    "for w in m:\n",
    "    similar(publica_eic_monopoly,w,10)"
   ]
  },
  {
   "cell_type": "code",
   "execution_count": null,
   "metadata": {},
   "outputs": [],
   "source": [
    "terms1 = 'body_politic|body_politick|public_utility|public_affairs|wicked|illegal|engrossing|odious|evil|repugnant|arbitrary|popery|papist|bribery|remedies|remedy|monopoly_evils|circulation|disease|wasting|waste'\n",
    "terms2 = 'monopoly|monopolies|monopolise|monopolising|monopolizers|monopolised|corruption|corrupt|corrupting'\n",
    "list1 = terms1.split('|')\n",
    "list2 = terms2.split('|')\n",
    "for word1 in list1: \n",
    "    for word2 in list2: \n",
    "        comparePair(publica_eic_monopoly,word1,word2)\n",
    "    print('\\n')"
   ]
  },
  {
   "cell_type": "code",
   "execution_count": 31,
   "metadata": {},
   "outputs": [
    {
     "name": "stdout",
     "output_type": "stream",
     "text": [
      "maladies: remedies_disease maxims_government need_proof stroke prevails harms survive gain_impunity dispens reasonableness bless illustration hyde vacation geometry leading decumbiture teaching humanly_speaking curses frightful captivity racks deliberating taken_pains\n",
      "The most similar n-gram has cosine distance 0.991988480091095\n",
      "malady: knowledge_ans facility anguish anger sureties_good ill_consequences speculation entitles faintly release impertinent unbias modety provoke profes smart parting_money sincere composition pity creator wherefore_leave kin disposition policies_contracts\n",
      "The most similar n-gram has cosine distance 0.9886937141418457\n"
     ]
    }
   ],
   "source": [
    "similar(publica_eic_monopoly,'maladies',25)\n",
    "similar(publica_eic_monopoly,'malady',25)"
   ]
  },
  {
   "cell_type": "code",
   "execution_count": null,
   "metadata": {},
   "outputs": [],
   "source": [
    "consumption = 'consumption|consume|consuming|consumed|conume|conumption|conuming|conumed'\n",
    "c = consumption.split('|')\n",
    "for w in c:\n",
    "    similar(publica_eic_monopoly,w,10)"
   ]
  },
  {
   "cell_type": "code",
   "execution_count": null,
   "metadata": {},
   "outputs": [],
   "source": [
    "corruption = 'corruption|corrupt|corrupted|corruptions|corrupting'\n",
    "corrupt = corruption.split('|')\n",
    "for w in corrupt:\n",
    "    similar(publica_eic_monopoly,w,10)"
   ]
  }
 ],
 "metadata": {
  "interpreter": {
   "hash": "916dbcbb3f70747c44a77c7bcd40155683ae19c65e1c03b4aa3499c5328201f1"
  },
  "kernelspec": {
   "display_name": "Python 3.8.10 64-bit",
   "language": "python",
   "name": "python3"
  },
  "language_info": {
   "codemirror_mode": {
    "name": "ipython",
    "version": 3
   },
   "file_extension": ".py",
   "mimetype": "text/x-python",
   "name": "python",
   "nbconvert_exporter": "python",
   "pygments_lexer": "ipython3",
   "version": "3.8.10"
  },
  "orig_nbformat": 4
 },
 "nbformat": 4,
 "nbformat_minor": 2
}
