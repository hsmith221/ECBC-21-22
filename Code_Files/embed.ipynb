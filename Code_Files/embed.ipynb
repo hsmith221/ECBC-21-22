{
 "cells": [
  {
   "cell_type": "markdown",
   "metadata": {},
   "source": [
    "By Amy Weng\n",
    "Word2Vec Continuous Skip-Gram Model Word Embedding and Visualization\n",
    "https://radimrehurek.com/gensim/models/word2vec.html"
   ]
  },
  {
   "cell_type": "code",
   "execution_count": 102,
   "metadata": {},
   "outputs": [],
   "source": [
    "import pandas as pd\n",
    "from words import remove_stopwords\n",
    "from gensim.scripts import word2vec2tensor\n",
    "from gensim.models import Word2Vec as w2v\n",
    "from gensim.models import Phrases\n",
    "\n",
    "def embed(df,title):\n",
    "    data = df.text.values.tolist()\n",
    "    # preprocess and remove stopwords\n",
    "    data = remove_stopwords(data)\n",
    "    # Train a bigram detector.\n",
    "    bigram_transformer = Phrases(data)\n",
    "    # Train a skip-gram model with the bigram detector \n",
    "    model = w2v(bigram_transformer[data], min_count=1,sg=1)\n",
    "    # save model as file \n",
    "    model.wv.save_word2vec_format('/home/rapiduser/Materials/embeddings/'+title+'.model')\n",
    "    return(model)\n",
    "\n",
    "def similar(model,word):\n",
    "    if word in model.wv.key_to_index.keys():\n",
    "        words = []\n",
    "        for w, s in model.wv.most_similar(word,topn=10):\n",
    "            words.append(w)\n",
    "        print(word + ': '+' '.join(words))\n",
    "\n",
    "def comparePair(model,word1,word2):\n",
    "    if word1 and word2 in model.wv.key_to_index.keys():\n",
    "        print('Cosine similarity between ' + word1 + ' and ' + word2 + ': ',model.wv.similarity(word1, word2))\n",
    "\n",
    "def tensor(f_name):\n",
    "    word2vec2tensor.word2vec2tensor(\n",
    "        '/home/rapiduser/Materials/embeddings/'+f_name+'.model',\n",
    "        '/home/rapiduser/ECBC-21-22/Text_Files/Embeddings TSV/'+f_name,\n",
    "        binary=False)"
   ]
  },
  {
   "cell_type": "code",
   "execution_count": 90,
   "metadata": {},
   "outputs": [],
   "source": [
    "myCSV = '/home/rapiduser/Materials/topic model/publica/eic_monopoly.csv'\n",
    "\n",
    "readFile = pd.read_csv(myCSV)\n",
    "\n",
    "# read text information into a dataframe\n",
    "publica_eic_monopoly = embed(readFile,'publica_eic_monopoly')"
   ]
  },
  {
   "cell_type": "code",
   "execution_count": 93,
   "metadata": {},
   "outputs": [
    {
     "name": "stdout",
     "output_type": "stream",
     "text": [
      "monopolies: retrained coniderations laws_land reaons equal_right limitations retrain restrain restrained right_subject\n",
      "monopoly: retrained wrong privilege joint_stocks contitution monopolies body_politic majeties_subjects public_good regulated_company\n",
      "monopolise: ingroed firm_legal inspect prohibition_denied apprehensive carved values_bought shares_shares parliamentary_sanction respectively\n",
      "monopolising: remote_parts rates_exchange placeat riches_strength encourages_navigation fishing_trades increase_seamen importation_foreign products_manufactories increase_navigation\n",
      "monopolists: exhausting cor_living meaner_sort course_living someimes paeth get_livelihood prodigal_expense straining considerate\n",
      "monopolizers: spared ubtle collecting intrigue steal supplied_negroes ullen consumers silk_weavers prejudice_arise\n",
      "monopolised: admiion excluive forces_forts admission majeties_plantations managing managed_joint ettling confining solely\n",
      "monoopolies: molleux crowing cloaks privileges_confirmed loveteyns cotton_calicoes died_issue tryal displaying roxana\n",
      "monopolits: paeth engrossers straining monopolists difference_happens prodigal_expense muslings nations_conume prevented_possible lessening\n",
      "monopolers: spades scieri edenburough est_partibus inciions riogrande plead_felony vobis_mandamus scarified teller\n",
      "monopoliing: consumption_manufactures disused staid taxing consumption_commodities suppoition inolent suggeted wholesome_laws dived\n"
     ]
    }
   ],
   "source": [
    "from words import monopoly\n",
    "m = monopoly.split('|')\n",
    "for w in m:\n",
    "    similar(publica_eic_monopoly,w)"
   ]
  },
  {
   "cell_type": "code",
   "execution_count": 100,
   "metadata": {},
   "outputs": [
    {
     "name": "stdout",
     "output_type": "stream",
     "text": [
      "Cosine similarity between arbitrary and corruption:  0.85236233\n",
      "Cosine similarity between popery and corruption:  0.82550555\n",
      "Cosine similarity between papist and corruption:  0.8281945\n",
      "Cosine similarity between monopoly and corruption:  0.69432163\n",
      "Cosine similarity between monopoly and company:  0.5970369\n",
      "Cosine similarity between silk and corruption:  0.70815533\n",
      "Cosine similarity between gold and corruption:  0.80199057\n",
      "Cosine similarity between king and corruption:  0.441147\n",
      "Cosine similarity between parliament and corruption:  0.49644107\n",
      "Cosine similarity between odious and monopoly:  0.8537864\n",
      "Cosine similarity between consumption and monopoly:  0.6824925\n",
      "Cosine similarity between body_politic and monopoly:  0.9510032\n",
      "Cosine similarity between public_good and monopoly:  0.9504082\n"
     ]
    }
   ],
   "source": [
    "comparePair(publica_eic_monopoly,'arbitrary','corruption')\n",
    "comparePair(publica_eic_monopoly,'popery','corruption')\n",
    "comparePair(publica_eic_monopoly,'papist','corruption')\n",
    "comparePair(publica_eic_monopoly,'monopoly','corruption')\n",
    "comparePair(publica_eic_monopoly,'silk','corruption')\n",
    "comparePair(publica_eic_monopoly,'gold','corruption')\n",
    "comparePair(publica_eic_monopoly,'king','corruption')\n",
    "comparePair(publica_eic_monopoly,'parliament','corruption')\n",
    "comparePair(publica_eic_monopoly,'odious','monopoly')\n",
    "comparePair(publica_eic_monopoly,'consumption','monopoly')\n",
    "comparePair(publica_eic_monopoly,'body_politic','monopoly')\n",
    "comparePair(publica_eic_monopoly,'public_good','monopoly')"
   ]
  },
  {
   "cell_type": "code",
   "execution_count": null,
   "metadata": {},
   "outputs": [],
   "source": [
    "consumption = 'consumption|consume|consuming|consumed|conume|conumption|conuming|conumed'\n",
    "c = consumption.split('|')\n",
    "for w in c:\n",
    "    similar(publica_eic_monopoly,w)"
   ]
  },
  {
   "cell_type": "code",
   "execution_count": null,
   "metadata": {},
   "outputs": [],
   "source": [
    "corruption = 'corruption|corrupt|corrupted|corruptions|corruptly|corrupting|corrupttoi|corruptpag|corruptness'\n",
    "corrupt = corruption.split('|')\n",
    "for w in corrupt:\n",
    "    similar(publica_eic_monopoly,w)"
   ]
  }
 ],
 "metadata": {
  "interpreter": {
   "hash": "916dbcbb3f70747c44a77c7bcd40155683ae19c65e1c03b4aa3499c5328201f1"
  },
  "kernelspec": {
   "display_name": "Python 3.8.10 64-bit",
   "language": "python",
   "name": "python3"
  },
  "language_info": {
   "codemirror_mode": {
    "name": "ipython",
    "version": 3
   },
   "file_extension": ".py",
   "mimetype": "text/x-python",
   "name": "python",
   "nbconvert_exporter": "python",
   "pygments_lexer": "ipython3",
   "version": "3.8.10"
  },
  "orig_nbformat": 4
 },
 "nbformat": 4,
 "nbformat_minor": 2
}
