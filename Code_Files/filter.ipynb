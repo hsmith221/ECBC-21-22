{
 "cells": [
  {
   "cell_type": "markdown",
   "id": "73d5e287",
   "metadata": {},
   "source": [
    "Author: Amy Weng\n",
    "\n",
    "This file filters through all the clean EEBO CSV files for date ranges and words. \n",
    "\n",
    "Based in part on the 2021 Data+ team's text filtering code: https://github.com/ABeeShake/Ethical-Consumption-Before-Capitalism/blob/main/topic%20modelling/code_actualrunning_awsvm.py"
   ]
  },
  {
   "cell_type": "code",
   "execution_count": 2,
   "id": "847a11ec",
   "metadata": {},
   "outputs": [],
   "source": [
    "import os\n",
    "import re\n",
    "import pandas as pd\n",
    "\n",
    "directory = '/home/rapiduser/Materials'\n",
    "file = directory + '/restoration.csv'\n",
    "texts = directory + '/Texts/'"
   ]
  },
  {
   "cell_type": "code",
   "execution_count": 1,
   "id": "766334c1",
   "metadata": {},
   "outputs": [],
   "source": [
    "#code for adding all DATED texts within a certain date range to one CSV file\n",
    "def filterYear(folder,filename,start,end):    \n",
    "    outFileName = directory + \"\\\\\" + filename\n",
    "    outFile = pd.DataFrame(columns=('title','author','publisher','date','text'))\n",
    "    \n",
    "    for cleanFile in os.listdir(folder):\n",
    "        \n",
    "        #open and read each CSV \n",
    "        readFile = pd.read_csv(folder + \"\\\\\" + cleanFile) \n",
    "        \n",
    "        #read the entries of each row (each row is its own text)\n",
    "        for i in range(len(readFile.index)):\n",
    "            df = readFile[i:(i+1)]\n",
    "            \n",
    "            #convert the dates into the same format and exclude non-dated texts \n",
    "            #then check if date is within the given range\n",
    "            if isinstance(df.iloc[0].date,str):\n",
    "                date = (df.iloc[0].date)\n",
    "            else:\n",
    "                date = (df.iloc[0].date).astype(str)\n",
    "            \n",
    "            if ((date !='Date Not Found') & (date !='[\\'Date Not Found\\']')):\n",
    "                if (date and date.strip()):\n",
    "                    datenum = re.search('\\d{4}', date)  \n",
    "                    \n",
    "                    if (datenum != None):\n",
    "                        date = int(str(datenum.group(0)))\n",
    "                        \n",
    "                        if (int(date) in range(start, end+1)):                              \n",
    "                            \n",
    "                            outFile = outFile.append(df,ignore_index=True)\n",
    "    outFile.to_csv(outFileName)"
   ]
  },
  {
   "cell_type": "code",
   "execution_count": 3,
   "id": "9437e5d2",
   "metadata": {},
   "outputs": [],
   "source": [
    "#code for adding all DATED texts w/ keywords to one CSV file\n",
    "def filterWord(outFile,infile,word):\n",
    "    \n",
    "    outFileName = texts + outFile\n",
    "    outFile = pd.DataFrame(columns=('title','author','publisher','date','text'))\n",
    "    \n",
    "    readFile = pd.read_csv(infile)\n",
    "        \n",
    "    for i in range(len(readFile.index)):\n",
    "        df = readFile[i:(i+1)]\n",
    "    \n",
    "        text = df.iloc[0].text\n",
    "    \n",
    "        if (re.search(word, text) != None):\n",
    "            outFile = outFile.append(df,ignore_index=True)\n",
    "        \n",
    "    outFile.to_csv(outFileName)\n",
    "\n",
    "    f = pd.read_csv(outFileName)\n",
    "    print(\"Total number of texts is:\",len(f.index)) \n",
    "    "
   ]
  },
  {
   "cell_type": "code",
   "execution_count": 4,
   "id": "01f14f03",
   "metadata": {},
   "outputs": [],
   "source": [
    "eic = re.compile('east india company|east-india company|eat-india company|eat india company|east-india-company')"
   ]
  },
  {
   "cell_type": "code",
   "execution_count": 4,
   "id": "f1439966",
   "metadata": {},
   "outputs": [],
   "source": [
    "monopoly = re.compile('monopolie|monopolies|monopolion|monopolist|monopolium|monopolization|monopolize|monopolizer|monopolizes|monopoly|monopolion|monopolye|monopolyes|monoply|monopolise|monopolising|monopolists|monopolizers|monopolised|monoopolies|monopolits|monopolers')"
   ]
  },
  {
   "cell_type": "code",
   "execution_count": 6,
   "id": "9293a730",
   "metadata": {},
   "outputs": [
    {
     "name": "stdout",
     "output_type": "stream",
     "text": [
      "Total number of texts is: 1194\n"
     ]
    }
   ],
   "source": [
    "filterWord(\"monopoly.csv\",file,monopoly)"
   ]
  },
  {
   "cell_type": "code",
   "execution_count": 5,
   "id": "9dfecec3",
   "metadata": {},
   "outputs": [
    {
     "name": "stdout",
     "output_type": "stream",
     "text": [
      "Total number of texts is: 106\n"
     ]
    }
   ],
   "source": [
    "filterWord(\"eic_monopoly.csv\",'/home/rapiduser/Materials/Texts/eic.csv',monopoly)"
   ]
  },
  {
   "cell_type": "code",
   "execution_count": 5,
   "id": "70155b42",
   "metadata": {},
   "outputs": [],
   "source": [
    "#code for adding all DATED texts within a certain date range to one CSV file\n",
    "def filterFileByYear(outFile,start,end):\n",
    "\n",
    "    outFileName = texts + outFile\n",
    "    outFile = pd.DataFrame(columns=('title','author','publisher','date','text'))\n",
    "    \n",
    "    readFile = pd.read_csv(file)\n",
    "    \n",
    "    #read the entries of each row (each row is its own text)\n",
    "    for i in range(len(readFile.index)):\n",
    "        df = readFile[i:(i+1)]\n",
    "    \n",
    "        date = df.iloc[0].date\n",
    "        \n",
    "        if (int(date) in range(start, end+1)):  \n",
    "            outFile = outFile.append(df,ignore_index=True)\n",
    "        \n",
    "    outFile.to_csv(outFileName)\n",
    "    \n",
    "    f = pd.read_csv(outFileName)\n",
    "    print(\"Total number of texts is:\",len(f.index))  "
   ]
  },
  {
   "cell_type": "code",
   "execution_count": 12,
   "id": "14dda75a",
   "metadata": {},
   "outputs": [
    {
     "name": "stdout",
     "output_type": "stream",
     "text": [
      "Total number of texts is: 10790\n"
     ]
    }
   ],
   "source": [
    "# 1st phase \n",
    "filterFileByYear(\"1st phase.csv\",1660,1678)"
   ]
  },
  {
   "cell_type": "code",
   "execution_count": 13,
   "id": "34cfee4c",
   "metadata": {},
   "outputs": [
    {
     "name": "stdout",
     "output_type": "stream",
     "text": [
      "Total number of texts is: 7321\n"
     ]
    }
   ],
   "source": [
    "# 2nd phase \n",
    "filterFileByYear(\"2nd phase.csv\",1679,1685)"
   ]
  },
  {
   "cell_type": "code",
   "execution_count": 14,
   "id": "f7d6fa78",
   "metadata": {},
   "outputs": [
    {
     "name": "stdout",
     "output_type": "stream",
     "text": [
      "Total number of texts is: 7025\n"
     ]
    }
   ],
   "source": [
    "# 3rd phase\n",
    "filterFileByYear(\"3rd phase.csv\",1688,1694)"
   ]
  },
  {
   "cell_type": "code",
   "execution_count": 6,
   "id": "fc1fa932",
   "metadata": {},
   "outputs": [
    {
     "name": "stdout",
     "output_type": "stream",
     "text": [
      "Total number of texts is: 5665\n"
     ]
    }
   ],
   "source": [
    "filterFileByYear(\"post-restoration.csv\",1695,1714)"
   ]
  }
 ],
 "metadata": {
  "kernelspec": {
   "display_name": "Python 3",
   "language": "python",
   "name": "python3"
  },
  "language_info": {
   "codemirror_mode": {
    "name": "ipython",
    "version": 3
   },
   "file_extension": ".py",
   "mimetype": "text/x-python",
   "name": "python",
   "nbconvert_exporter": "python",
   "pygments_lexer": "ipython3",
   "version": "3.8.10"
  }
 },
 "nbformat": 4,
 "nbformat_minor": 5
}
