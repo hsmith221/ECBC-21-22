{
 "cells": [
  {
   "cell_type": "markdown",
   "metadata": {},
   "source": [
    "By Amy Weng\n",
    "\n",
    "This code experiments with sentiment analysis on a small dataset. \n",
    "\n",
    "References: \n",
    "https://github.com/ABeeShake/Ethical-Consumption-Before-Capitalism/blob/main/Sentiment%20Analysis/SATM_full_aws.py\n",
    "\n",
    "https://www.geeksforgeeks.org/python-sentiment-analysis-using-vader/"
   ]
  },
  {
   "cell_type": "code",
   "execution_count": 1,
   "metadata": {},
   "outputs": [],
   "source": [
    "import pandas as pd\n",
    "import os \n",
    "import re\n",
    "from vaderSentiment.vaderSentiment import SentimentIntensityAnalyzer"
   ]
  },
  {
   "cell_type": "code",
   "execution_count": 2,
   "metadata": {},
   "outputs": [],
   "source": [
    "def wordsearch(keyword, n, text):\n",
    "    words = text.split()\n",
    "    fullwords = \"\"\n",
    "    \n",
    "    for index, word in enumerate(words):\n",
    "        if word == keyword:\n",
    "            left_side = words[index - n: index]\n",
    "            right_side = words[index: index + n + 1]  \n",
    "            left = ' '.join(left_side)\n",
    "            right = ' '.join(right_side)\n",
    "            fullwords = fullwords + left + \" \" + right + \" \"\n",
    "    return fullwords"
   ]
  },
  {
   "cell_type": "code",
   "execution_count": 11,
   "metadata": {},
   "outputs": [],
   "source": [
    "# new code for finding text windows + particular text info for manual review \n",
    "def find_text_window(check,keywords, f, df):\n",
    "    words = keywords.split(\"|\")\n",
    "    count=0\n",
    "    text = df.iloc[0].text\n",
    "\n",
    "    if (re.search(check, text) != None):\n",
    "        if count==0:\n",
    "            a = df.iloc[0].author\n",
    "            p = df.iloc[0].publisher\n",
    "            d = df.iloc[0].date\n",
    "            t = df.iloc[0].title \n",
    "            f.write(str(d)+'\\n'+str(t)+'\\n'+'author: '+str(a)+'\\n'+'publisher: '+str(p)+'\\n')\n",
    "        else: \n",
    "            count=1\n",
    "        for k in range(len(words)):\n",
    "            surrounding = wordsearch(str(words[k]), 15, text)\n",
    "            if (surrounding != None):\n",
    "                f.write(surrounding)\n",
    "    f.write('\\n\\n')\n",
    "\n",
    "def excerpt(word, infile,outfile):\n",
    "    check = re.compile(word)\n",
    "    readFile = pd.read_csv(infile) \n",
    "\n",
    "    f = open(outfile, \"a+\")\n",
    "\n",
    "    for i in range(len(readFile.index)):\n",
    "        df = readFile[i:(i+1)]\n",
    "        find_text_window(check,word,f,df)\n",
    "\n",
    "    f.close()"
   ]
  },
  {
   "cell_type": "code",
   "execution_count": null,
   "metadata": {},
   "outputs": [],
   "source": [
    "# Sentiment Analysis Code \n",
    " \n",
    "def make_text_window(check,keywords, inFile, i, text):\n",
    "    words = keywords.split(\"|\")\n",
    "\n",
    "    if (re.search(check, text) != None):\n",
    "        newFile = inFile + '_' + str(i) + ('.txt')\n",
    "        fullName =  '/home/rapiduser/Materials/sentiment analysis/'+newFile\n",
    "        f = open(fullName, \"a+\")\n",
    "\n",
    "        for k in range(len(words)):\n",
    "            surrounding = wordsearch(str(words[k]), 15, text)\n",
    "            if (surrounding != None):\n",
    "                f.writelines(surrounding)\n",
    "        \n",
    "        f.close()\n",
    "\n",
    "SIA = SentimentIntensityAnalyzer()\n",
    "\n",
    "def sentiment_scores(scores, text,file):\n",
    "\t\n",
    "\tsentiment_dict = SIA.polarity_scores(text)\n",
    "\n",
    "\tif sentiment_dict['compound'] >= 0.05 :\n",
    "\t\tscores[\"Positive\"] += 1\n",
    "\t\t# print('positive ' + file)\n",
    "\n",
    "\telif sentiment_dict['compound'] <= - 0.05 :\n",
    "\t\tscores[\"Negative\"] += 1\n",
    "\t\t# print('negative ' + file)\n",
    "\n",
    "\telse :\n",
    "\t\tscores[\"Neutral\"] += 1\n",
    "\t\t# print('positive ' + file)"
   ]
  },
  {
   "cell_type": "code",
   "execution_count": null,
   "metadata": {},
   "outputs": [],
   "source": [
    "def sentiment(folder,file,term):\n",
    "    check = re.compile(term)\n",
    "    readFile = pd.read_csv(file) \n",
    "\n",
    "    for i in range(len(readFile.index)):\n",
    "        df = readFile[i:(i+1)]\n",
    "        print(df.iloc[0].title)\n",
    "        text = df.iloc[0].text\n",
    "        make_text_window(check,term,\"file\",i,text)\n",
    "\n",
    "    scores = {\"Positive\":0,\"Negative\":0,\"Neutral\":0}\n",
    "    for file in os.listdir(folder):\n",
    "        if (file.endswith(\".txt\")):\n",
    "            with open(folder+\"/\"+file,'r') as f:\n",
    "                data1 = f.read()\n",
    "                sentiment_scores(scores,data1,file)\n",
    "    print(scores)"
   ]
  }
 ],
 "metadata": {
  "interpreter": {
   "hash": "be7d123d6a100e15fe271c56b00bab6f98d545ddf914de083c6a510a36bb25cd"
  },
  "kernelspec": {
   "display_name": "Python 3.8.8 64-bit ('base': conda)",
   "language": "python",
   "name": "python3"
  },
  "language_info": {
   "codemirror_mode": {
    "name": "ipython",
    "version": 3
   },
   "file_extension": ".py",
   "mimetype": "text/x-python",
   "name": "python",
   "nbconvert_exporter": "python",
   "pygments_lexer": "ipython3",
   "version": "3.8.10"
  },
  "orig_nbformat": 4
 },
 "nbformat": 4,
 "nbformat_minor": 2
}
