{
 "cells": [
  {
   "cell_type": "markdown",
   "id": "e00aa4ba",
   "metadata": {},
   "source": [
    "By Amy Weng\n",
    "\n",
    "Latent Dirichlet Allocation (LDA) topic modeling code adapted in part from Heidi Smith's Topic_Model_Attempt_1.ipynb. Word cloud generation code comes from Heidi's Word_Clouds.ipynb. \n",
    "\n",
    "pyLDAvis Visualization comes from this article: https://towardsdatascience.com/end-to-end-topic-modeling-in-python-latent-dirichlet-allocation-lda-35ce4ed6b3e0"
   ]
  },
  {
   "cell_type": "code",
   "execution_count": 2,
   "id": "9b624c32",
   "metadata": {},
   "outputs": [],
   "source": [
    "import pandas as pd\n",
    "import re\n",
    "import gensim\n",
    "import gensim.corpora as corpora\n",
    "from words import remove_stopwords\n",
    "\n",
    "# lexicons\n",
    "publica = 'abroad|act|administrators|admiral|adventurers|africa|african|aid|ally|ambaador|ambassador|amboyna|amsterdam|argier|army|austerity|authority|bank|bankrupt|bankrupts|banks|bantam|bavaria|bill|bills|body politic|bond|britain|bullion|bullionist|calico|calicoes|captain|cargo|cargoes|cent|cents|charles|charters|china|chocolate|christiandom|cinnamon|citizens|civil war|civilian|clothier|clothiers|cloths|coffee|coin|coined|commerce|commercial|commiioner|commissioner|commissioners|commodities|commodity|commonwealth|companies|company|constitution|consumables|consume|consumer|consuming|consumption|controversies|controversy|conume|conumption|copper|corn|corporate|corporation|council|councils|country|court|courten|courts|credit|creditor|creditors|crisis|crisis|currency|debt|debtor|decoctor|decree|decrees|defendant|dutch|duties|east india company|east indies|east-india company|east-india-company|eat-india company|economic|economy|emperor|empire|employment|enemy|england|england|estate|europe|european|exchange|exchequer|exportation|exported|extortion|factories|factory|fih|fihing|fiscal|fish|fishery|fishing|foreign|free trade|germany|ginger|gold|goods|government|governor|governors|grant|grants|gunpowder|herring|herrings|hillings|hollanders|holy roman empire|house of commons|house of lords|importation|imported|income|indenture|india|india|indian|indies|indonesia|industry|interest|interest rate|interest rates|interet|interloper|interlopers|ireland|james|joint-stock|king|kingdom|kingdom|kings|land|law|laws|license|licenser|licensing|london|lord|low countries|majesties|majesty|majeties|manufacture|manufacturers|manufactures|manufacturing|market|markets|mary|massacre|mercantile|merchandise|merchant|merchants|military|mines|mint|minted|mogul|money|moneys|monies|monopolie|monopolies|monopolion|monopolist|monopolium|monopolization|monopolize|monopolizer|monopolizes|monopoly|monopolion|monopolye|monopolyes|monoply|monopolise|monopolising|monopolists|monopolizers|monopolised|monoopolies|monopolits|monopolers|monopoliing|mughal|nation|national|naval|navigation|navy|negroes|netherlands|netherlands|nets|oppression|parliament|parliament|pay|pence|pences|pepper|petitioner|petitioners|petre|phaulkon|pirate|pirates|plaintiff|plantations|planters|pleads|politic|political|pound|pounds|power|price|prices|prince|princes|privileges|proclamation|proecutor|proecutors|profitable|prohibition|property|proprietors|protection|provincial|public|publicke|queen|quote|restoration|revenue|revenues|revolution|ruler|salt|saltpetre|scandal|scandalous|scotland|seamen|shilling|shillings|shipping|ships|siam|siam|silk|silver|solicitors|spain|spanish|spending|spices|spices|sterling|stock|strength|stuart|subject|substance|supply|syam|taxation|taxes|tea|textiles|tobacco|tories|tory|trade|tradesmen|trading|traffic|traffique|treasure|treaties|treatise|treatises|treaty|truces|tunis|turkish|unprofitable|usurer|usury|war|whig|whigs|william|wood|woollen|work'\n",
    "religio = 'abnegatio|abraham|absolution|abundance|adam|adultery|almighty|altar|anabaptists|anathema|annihilate|anoint|anointing|antichrist|apocalypse|apostle|archangel|armageddon|arrogant|ascension|atone|atonement|avarice|baptism|bathsheba|bible|biblical|bishop|bishop|bishops|blasphemy|bless|blessed|blessing|born-again|bread|brother|caesar|calvinist|candles|canon|catholic|cessans|chalice|chapel|chaplain|charity|cheat|cheating|cherub|christ|christian|christianity|chrit|church|cleansing|clergy|coming|commandments|communion|condemn|condemnation|confess|confession|congregation|conscience|consecration|contempt|contrite|contrition|conviction|covenant|create|creation|creed|cross|crown|cuckold|curse|damask|damn|damnation|damned|david|day|deacon|death|deceit|deceitful|deceive|deceive|defile|defiled|delilah|demon|depravity|desire|desires|destruction|deuteronomy|devil|disciple|disciples|disobey|divine|doctrine|ecumenical|endure|entice|enticed|epistle|eternal|evangelical|evangelicalism|eve|evil|excommunication|exile|exodus|faith|false|falsehood|fellowship|forgive|forgiveness|fortune|fraud|freedom|fundamental|generation|genesis|gentile|gluttony|god|godly|gospel|grace|greed|green|grievance|guilt|guilty|hallelujah|heaven|hebrew|hebrews|hell|heresy|heresy|holiness|holy|human|hypocrisy|incest|indulgence|indulgent|integrity|isaiah|james|jehovah|jesus|job|judaism|judgment|justification|justify|knowledge|lechery|leviticus|lie|lies|liturgy|lord|lucifer|lucrum|luke|lust|lustful|lustfully|luxury|manifestation|mark|mass|matthew|mendicancy|messiah|minister|ministry|mission|missionary|modesty|moral|moses|obedience|obey|offering|offerings|ordained|ordinance|ordinate|ordination|orthodox|pagan|paganism|pagans|palace|papacy|papist|parable|parables|parish|parishioner|passover|pastor|penance|perfect|persecution|peter|pleasant|pope|popery|pray|prayer|predestination|prejudicial|presbyterian|presbyterians|pride|priesthood|prodigal|prodigality|prohibition|prophecy|prophet|protestant|proverb|proverbs|providence|psalm|psalms|purgatory|radiance|rapture|reap|reconcile|reconciliation|redeem|redeemed|redemption|reform|reformed|reincarnate|reincarnation|reject|rejected|rejoice|rejoiced|religion|render|repent|resurrect|resurrection|revelation|rich|righteous|righteousness|ritual|roman|rome|root|sabbath|sacrament|sacred|sacrifice|sacrifices|saint|salvation|samaritan|samson|samuel|sanctified|sanctify|sanctuary|satan|satanic|satanism|save|saved|saved|savior|scripture|scriptures|second|secure|security|self-denial|sermon|simony|sin|sinful|sins|sister|slave|slaves|sloth|soul|sown|spirit|splendor|splendor|station|stations|sumptuary|sun|supper|tempt|ten|tenant|tenants|testament|theft|thrive|timothy|tongues|tower|transgression|tribulation|trinity|trust|truth|twelve|unfaithful|union|universal|unnatural|vanity|velvet|venial|virgin|vision|vulgate|wealth|whore|wicked|wickedness|wine|wise|witness|word|words|worship|zion'\n",
    "medica = 'apothecaries|apothecary|asthma|asthma|atrophy|bad|bezoar|bile|bleed|bleeding|blood|body|brain|breathing|cancer|canker|circulate|circulation|clots|clotting|cold|constitution|consume|consumption|contamination|corpora|corpus|corrupt|corruptio|corruption|corruptionem|cough|cure|cured|dead|death|decay|decay|deceased|defect|degenerate|degeneration|destroy|diabetes|diagnosis|disease|dissolution|distemper|drinks|dry|dying|enfeeblement|envy|evacuation|exercise|faculties|fatal|fatality|fever|fiber|fog|healthy|heart|hemorrhage|hepatitis|herb|herbs|hot|hysteria|illness|impairment|inanition|insane|jealousy|languish|leech|leeches|liver|lung|malaria|medical|medicine|medicines|melancholy|miasma|mind|moist|morbid|mortal|mortality|mouth|nerves|nervous|opiate|opium|patient|patients|perversion|perverto|phlegm|phyician|phyicians|physician|physicians|plague|plague|pox|prognosis|putrid|putrid|remedies|remedy|sana|sane|sanguine|sick|sickness|smells|smoke|sores|spirit|spoil|spoiling|stomach|supple|surgeon|surgeons|swelling|tetrid|therapeutic|tuberculosis|ulcer|unhealthy|unwholesome|upset|vein|vein|vessels|vice|vita|vital|vitiare|vitiation|vitium|vomit|waste|wasting|wholesome|wintergreen|zodiac'\n",
    "\n",
    "pub = re.compile(publica)\n",
    "rel = re.compile(religio)\n",
    "med= re.compile(medica)"
   ]
  },
  {
   "cell_type": "code",
   "execution_count": 6,
   "id": "6d623542",
   "metadata": {},
   "outputs": [],
   "source": [
    "def model(df):\n",
    "    data = df.text.values.tolist()\n",
    "    data = remove_stopwords(data)\n",
    "    \n",
    "    id2word = corpora.Dictionary(data)\n",
    "    # Term Document Frequency\n",
    "    corpus = [id2word.doc2bow(text) for text in data]\n",
    "    num_topics = 1\n",
    "    lda_model = gensim.models.LdaMulticore(corpus=corpus,\n",
    "                                        id2word=id2word,\n",
    "                                        num_topics=num_topics)\n",
    "    for idx, topic in lda_model.show_topics(formatted=False):\n",
    "        return ('{}'.format(' '.join([w[0] for w in topic])))\n",
    "\n",
    "def sortByTopics(topics):\n",
    "\n",
    "    p = len(re.findall(pub, topics))/10\n",
    "    r = len(re.findall(rel, topics))/10\n",
    "    m = len(re.findall(med, topics))/10\n",
    "\n",
    "    maxRatio = max(p,r,m)\n",
    "\n",
    "    if maxRatio==0:\n",
    "        return 'altera'  \n",
    "    elif p==maxRatio: \n",
    "        return 'publica'\n",
    "    elif r==maxRatio:\n",
    "        return 'religio'\n",
    "    else:\n",
    "        return 'medica'\n",
    "\n",
    "def save(directory, topics,folder,f_name):\n",
    "    name = f_name.rsplit('.', 1)[0]\n",
    "    txtFile = directory+'topic model/'+folder+'/'+name+'.txt'\n",
    "    w = open(txtFile,'a+')\n",
    "    w.write(topics+'\\n')\n",
    "    w.close()\n",
    "    \n",
    "def topicModel(directory, f_name,folder):\n",
    "    myCSV = directory + folder + f_name\n",
    "\n",
    "    df_p = pd.DataFrame(columns=('title','author','publisher','date','text'))\n",
    "    df_r = pd.DataFrame(columns=('title','author','publisher','date','text'))\n",
    "    df_m = pd.DataFrame(columns=('title','author','publisher','date','text'))\n",
    "    df_a = pd.DataFrame(columns=('title','author','publisher','date','text'))\n",
    "\n",
    "    # Read in csv\n",
    "    readFile = pd.read_csv(myCSV)\n",
    "\n",
    "    # Iterate over each text (row) in csv\n",
    "    for i in range(len(readFile.index)):\n",
    "        \n",
    "        df = readFile[i:(i+1)]\n",
    "        \n",
    "        topics = model(df)\n",
    "        \n",
    "        t = sortByTopics(topics)\n",
    "        \n",
    "        save(directory, topics,t,f_name)\n",
    "\n",
    "        if t=='publica':\n",
    "            df_p = df_p.append(df)\n",
    "        \n",
    "        elif t=='religio':\n",
    "            df_r = df_r.append(df)\n",
    "        \n",
    "        elif t=='medica':\n",
    "            df_m = df_m.append(df)\n",
    "        \n",
    "        else:\n",
    "            df_a = df_a.append(df)\n",
    "        \n",
    "        if (i%100 == 0):\n",
    "            print(i)\n",
    "\n",
    "    if not df_p.empty:    \n",
    "        df_p.to_csv(directory+'topic model/publica/'+f_name) \n",
    "        print(\"Publica: \",len(df_p))\n",
    "\n",
    "    if not df_r.empty:    \n",
    "        df_r.to_csv(directory+'topic model/religio/'+f_name)\n",
    "        print(\"Religio: \",len(df_r))\n",
    "\n",
    "    if not df_m.empty:    \n",
    "        df_m.to_csv(directory+'topic model/medica/'+f_name)\n",
    "        print(\"Medica: \",len(df_m))\n",
    "\n",
    "    if not df_a.empty:    \n",
    "        df_a.to_csv(directory+'topic model/altera/'+f_name)\n",
    "        print(\"Altera: \",len(df_a))\n"
   ]
  },
  {
   "cell_type": "code",
   "execution_count": 5,
   "id": "24824992",
   "metadata": {},
   "outputs": [],
   "source": [
    "directory = '/home/rapiduser/Materials/'"
   ]
  },
  {
   "cell_type": "code",
   "execution_count": 8,
   "metadata": {},
   "outputs": [
    {
     "name": "stdout",
     "output_type": "stream",
     "text": [
      "Publica:  202\n",
      "Religio:  342\n",
      "Medica:  8\n",
      "Altera:  9\n"
     ]
    }
   ],
   "source": [
    "topicModel(directory,'1660.csv','Texts/subsets/')"
   ]
  },
  {
   "cell_type": "code",
   "execution_count": 14,
   "id": "9c14f16e",
   "metadata": {},
   "outputs": [],
   "source": [
    "# visualize topics \n",
    "# Code adapted from Word_Clouds.ipynb\n",
    "from wordcloud import WordCloud\n",
    "import matplotlib.pyplot as plt\n",
    "from collections import Counter\n",
    "\n",
    "def topicCloud(folder,f_name,title):\n",
    "    txtFile = directory+'topic model/'+folder+'/'+f_name\n",
    "    w = open(txtFile,'r')\n",
    "    words = []\n",
    "    for line in w.readlines():\n",
    "        line = line.replace('\\n','')\n",
    "        newlist = line.split(' ')\n",
    "        words.extend(newlist)\n",
    "\n",
    "    # Count most common words\n",
    "    word_counts = Counter(words)\n",
    "    # Top word frequencies\n",
    "    print(word_counts.most_common(100))\n",
    "    \n",
    "    # Print Wordcloud\n",
    "    word_cloud = WordCloud(background_color = \"white\", width=3000, height=2000, max_words=500, collocations=True).generate_from_frequencies(word_counts)\n",
    "    plt.figure(figsize=(20,10))\n",
    "    plt.imshow(word_cloud)\n",
    "    plt.axis(\"off\")\n",
    "    plt.title(title)\n",
    "    plt.show()"
   ]
  },
  {
   "cell_type": "code",
   "execution_count": null,
   "id": "b8c48d9c",
   "metadata": {},
   "outputs": [],
   "source": [
    "topicCloud('publica','eic_monopoly.txt','Publica Topic Words in Texts Containing EIC & Monopoly')"
   ]
  },
  {
   "cell_type": "code",
   "execution_count": null,
   "id": "7e8fd267",
   "metadata": {},
   "outputs": [],
   "source": [
    "topicCloud('publica','eic.txt','Publica Topic Words in Texts Containing EIC')"
   ]
  },
  {
   "cell_type": "code",
   "execution_count": null,
   "id": "3d4d5855",
   "metadata": {},
   "outputs": [],
   "source": [
    "topicCloud('altera','monopoly.txt','Altera Topic Words in Texts Containing Monopoly')"
   ]
  },
  {
   "cell_type": "code",
   "execution_count": null,
   "id": "6f43af9d",
   "metadata": {},
   "outputs": [],
   "source": [
    "topicCloud('publica','monopoly.txt','Publica Topic Words in Texts Containing Monopoly')"
   ]
  },
  {
   "cell_type": "code",
   "execution_count": null,
   "id": "39ebdffd",
   "metadata": {},
   "outputs": [],
   "source": [
    "# alphabetize a given lexicon \n",
    "def alphabetize(lexicon,name):\n",
    "    string = '|'.join(sorted(lexicon.split('|')))\n",
    "    print(name+' = '+'\\''+string+'\\'')\n",
    "\n",
    "# examine which topic words are not in our lexicon \n",
    "def examine(folder,f_name):\n",
    "    txtFile = directory+'topic model/'+folder+'/'+f_name\n",
    "    w = open(txtFile,'r')\n",
    "    words = []\n",
    "    for line in w.readlines():\n",
    "        line = line.replace('\\n','')\n",
    "        newlist = line.split(' ')\n",
    "        words.extend(newlist)\n",
    "\n",
    "    unique = set()\n",
    "    unique.update(words)\n",
    "\n",
    "    m = ' '.join(medica.split('|'))\n",
    "    r = ' '.join(religio.split('|'))\n",
    "    p = ' '.join(publica.split('|'))\n",
    "    a = []\n",
    "    for word in unique:\n",
    "        if (re.search(word,p)==None) and (re.search(word,r)==None) and (re.search(word,m)==None):\n",
    "            a.append(word)\n",
    "    w.close()\n",
    "    print(a)"
   ]
  },
  {
   "cell_type": "code",
   "execution_count": null,
   "id": "dfb00ffe",
   "metadata": {},
   "outputs": [],
   "source": [
    "import pyLDAvis\n",
    "import pyLDAvis.gensim_models\n",
    "\n",
    "# Visualize the topic distributions within all the texts of a particular category (publica, religio, altera, or medica)\n",
    "readFile = pd.read_csv('/home/rapiduser/Materials/topic model/publica/eic_monopoly.csv')\n",
    "data = readFile.text.values.tolist()\n",
    "data = remove_stopwords(data)\n",
    "\n",
    "id2word = corpora.Dictionary(data)\n",
    "corpus = [id2word.doc2bow(text) for text in data]\n",
    "num_topics = 10\n",
    "lda_model = gensim.models.LdaMulticore(corpus=corpus,\n",
    "                                        id2word=id2word,\n",
    "                                        num_topics=num_topics)\n",
    "pyLDAvis.enable_notebook()\n",
    "LDAvis_prepared = pyLDAvis.gensim_models.prepare(lda_model, corpus, id2word)\n",
    "pyLDAvis.save_html(LDAvis_prepared, '/home/rapiduser/ECBC-21-22/Image_Files/publica_eic_monopoly.html')\n",
    "LDAvis_prepared\n"
   ]
  }
 ],
 "metadata": {
  "kernelspec": {
   "display_name": "Python 3",
   "language": "python",
   "name": "python3"
  },
  "language_info": {
   "codemirror_mode": {
    "name": "ipython",
    "version": 3
   },
   "file_extension": ".py",
   "mimetype": "text/x-python",
   "name": "python",
   "nbconvert_exporter": "python",
   "pygments_lexer": "ipython3",
   "version": "3.8.10"
  }
 },
 "nbformat": 4,
 "nbformat_minor": 5
}
