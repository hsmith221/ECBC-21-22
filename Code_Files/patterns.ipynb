{
 "cells": [
  {
   "cell_type": "markdown",
   "id": "73d5e287",
   "metadata": {},
   "source": [
    "Author: Amy Weng \n",
    "\n",
    "This code file finds the frequencies of authors, dates, titles, publishers, target words, and other interesting data over time. \n"
   ]
  },
  {
   "cell_type": "code",
   "execution_count": 6,
   "id": "847a11ec",
   "metadata": {},
   "outputs": [],
   "source": [
    "import re\n",
    "import pandas as pd\n",
    "import matplotlib.pyplot as plt\n",
    "import numpy as np\n",
    "\n",
    "directory = '/home/rapiduser/Materials/Texts'\n",
    "\n",
    "def frequency(freqs, filename, item):\n",
    "    readFile = pd.read_csv(filename) \n",
    "    \n",
    "    for i in range(len(readFile.index)):\n",
    "        data = readFile[i:(i+1)]\n",
    "        date = data.iloc[0].date\n",
    "        \n",
    "        if (item == \"author\"):\n",
    "            i = data.iloc[0].author\n",
    "        if (item == \"title\"):\n",
    "            i = data.iloc[0].title\n",
    "        if (item == \"date\"):\n",
    "            i = date\n",
    "        if (item == \"publisher\"):\n",
    "            i = data.iloc[0].publisher\n",
    "        \n",
    "        if i not in freqs.keys(): \n",
    "            freqs[i] = 0\n",
    "            \n",
    "        freqs[i] += 1\n",
    "    \n",
    "    if (item == \"date\"):\n",
    "        for year in sorted(freqs):\n",
    "            print(str(year)+\": \"+str(freqs[year]))\n",
    "    else: \n",
    "        for pair in sorted (freqs.items(), key=lambda kv:(kv[1], kv[0]), reverse=True):\n",
    "            print(pair)\n",
    "            \n",
    "def organize(filename):\n",
    "\n",
    "    readFile = pd.read_csv(filename) \n",
    "    \n",
    "    for i in range(len(readFile.index)):\n",
    "        data = readFile[i:(i+1)]\n",
    "        \n",
    "        d = data.iloc[0].date\n",
    "        \n",
    "        # if (int(d) in range(start, end+1)):\n",
    "        a = data.iloc[0].author\n",
    "        p = data.iloc[0].publisher\n",
    "        \n",
    "        if d not in dictionary.keys(): \n",
    "            dictionary[d] = {}\n",
    "        \n",
    "        if a not in dictionary[d].keys(): \n",
    "            dictionary[d][a] = {}\n",
    "        \n",
    "        if p not in dictionary[d][a].keys(): \n",
    "            dictionary[d][a][p] = 0\n",
    "        \n",
    "        dictionary[d][a][p] += 1\n",
    "    \n",
    "    for d in sorted(dictionary.keys()):\n",
    "        print(d)\n",
    "        for a in sorted(dictionary[d].keys()):\n",
    "            print(a)\n",
    "            for item in sorted (dictionary[d][a].items(), key=lambda kv:(kv[1], kv[0]), reverse=True):\n",
    "                print(item)\n",
    "        print(\"\\n\")\n",
    "\n",
    "dates = []\n",
    "freqs = []\n",
    "freqDates = {}  \n",
    "\n",
    "def freqOverTime(filename, word,start,end):\n",
    "    readFile = pd.read_csv(filename) \n",
    "    for i in range(len(readFile.index)):\n",
    "        data = readFile[i:(i+1)]\n",
    "        date = data.iloc[0].date\n",
    "        text = data.iloc[0].text\n",
    "        if (int(date) in range(start, end+1)):\n",
    "            if (re.search(word,text)!=None): \n",
    "                dates.append(date)\n",
    "                freqs.append(len(re.findall(word,text)))\n",
    "                if date not in freqDates.keys(): \n",
    "                    freqDates[date] = 0\n",
    "                freqDates[date] += 1\n",
    "    print(\"The total number of texts is \"+str(i+1))\n",
    "    # for pair in sorted (freqDates.items(), key=lambda kv:(kv[1], kv[0]), reverse=True):\n",
    "    #     print(pair)\n",
    "\n",
    "def scatter(dates,freqs,title,color,x_label,y_label):\n",
    "    xData = list(map(int, dates))\n",
    "    yData = list(map(int, freqs))\n",
    "    \n",
    "    xyCoords=np.c_[xData,yData]\n",
    "    \n",
    "    uniquePoints, counts = np.unique(xyCoords, return_counts=True,axis=0)\n",
    "    plt.scatter(uniquePoints[:,0],uniquePoints[:,1],s=counts*10,c=color,)\n",
    "\n",
    "    fig = plt.gcf()\n",
    "    fig.set_size_inches(15, 10)\n",
    "\n",
    "    plt.xlabel(x_label, fontsize=20)\n",
    "    plt.ylabel(y_label, fontsize=20)\n",
    "    \n",
    "    plt.title(title,fontsize=25)\n",
    "    \n",
    "    plt.show()\n",
    "\n",
    "def scatter3D(dates, yFreq, zFreq, title, ylabel, zlabel,color):\n",
    "    x = list(map(int, dates))\n",
    "    y = list(map(int, yFreq))\n",
    "    z = list(map(int, zFreq))\n",
    "\n",
    "    plt.figure(figsize = (10, 10))\n",
    "    ax = plt.axes(projection =\"3d\")\n",
    "\n",
    "    ax.scatter3D(x, y, z, color = color)\n",
    "    \n",
    "    plt.title(title)\n",
    "    \n",
    "    ax.set_xlabel(\"Year\", fontweight ='bold')\n",
    "    ax.set_ylabel(ylabel, fontweight ='bold')\n",
    "    ax.set_zlabel(zlabel, fontweight ='bold')\n",
    "    \n",
    "    plt.show()\n",
    "\n",
    "def bar(xData,yData,title,xlabel,ylabel):\n",
    "    if (xData == \"Year\"):\n",
    "        xData = list(map(int, xData))\n",
    "        yData = list(map(int, yData))\n",
    "    \n",
    "    plt.figure(figsize = (15, 10))\n",
    "\n",
    "    plt.bar(xData,yData,color='purple')\n",
    "    \n",
    "    plt.title(title, fontsize=20)\n",
    "    \n",
    "    plt.xlabel(xlabel, fontsize=15)\n",
    "    plt.ylabel(ylabel, fontsize=15)\n",
    "    \n",
    "    plt.show()\n"
   ]
  },
  {
   "cell_type": "code",
   "execution_count": null,
   "metadata": {},
   "outputs": [],
   "source": [
    "file = '/home/rapiduser/Materials/topic model/publica/eic_monopoly.csv'\n",
    "freqs = {} \n",
    "frequency(freqs, file,\"author\")"
   ]
  },
  {
   "cell_type": "code",
   "execution_count": null,
   "id": "276e5792",
   "metadata": {},
   "outputs": [],
   "source": [
    "dictionary = {}\n",
    "organize(file)"
   ]
  },
  {
   "cell_type": "code",
   "execution_count": null,
   "id": "6ef5d2f0",
   "metadata": {},
   "outputs": [],
   "source": [
    "scatter(freqs.keys(),freqs.values(),\"EIC_Monopoly Publications Per Year\",\"purple\",\"Year\",\"Number of Texts\")"
   ]
  },
  {
   "cell_type": "code",
   "execution_count": null,
   "id": "cf58b4a1",
   "metadata": {},
   "outputs": [],
   "source": [
    "from words import monopoly\n",
    "consumption = re.compile('consumption|consume|consuming|consumed|conume|conumption|conuming|conumed')"
   ]
  },
  {
   "cell_type": "code",
   "execution_count": 10,
   "id": "f97b3f4b",
   "metadata": {},
   "outputs": [
    {
     "name": "stdout",
     "output_type": "stream",
     "text": [
      "The total number of texts is 31905\n"
     ]
    }
   ],
   "source": [
    "freqOverTime('/home/rapiduser/Materials/restoration.csv',consumption,1660,1700)"
   ]
  },
  {
   "cell_type": "code",
   "execution_count": null,
   "id": "9a6b5d21",
   "metadata": {},
   "outputs": [],
   "source": [
    "scatter(dates,freqs,\"Consumption Frequency in Restoration Texts\",\"purple\",\"Year\",\"Frequency\")"
   ]
  },
  {
   "cell_type": "code",
   "execution_count": 17,
   "id": "4dd60ca0",
   "metadata": {},
   "outputs": [
    {
     "data": {
      "image/png": "[encoded data removed]",
      "text/plain": [
       "<Figure size 1080x720 with 1 Axes>"
      ]
     },
     "metadata": {
      "needs_background": "light"
     },
     "output_type": "display_data"
    }
   ],
   "source": [
    "bar(freqs.keys(),freqs.values(),\"Number of Texts Mentioning EIC and Monopoly\",\"Year\",\"Number of Texts\")"
   ]
  },
  {
   "cell_type": "code",
   "execution_count": 35,
   "id": "5990d36c",
   "metadata": {},
   "outputs": [
    {
     "data": {
      "image/png": "[encoded data removed]",
      "text/plain": [
       "<Figure size 1080x720 with 1 Axes>"
      ]
     },
     "metadata": {
      "needs_background": "light"
     },
     "output_type": "display_data"
    }
   ],
   "source": [
    "totalWordFreqs = {}\n",
    "i=0\n",
    "while (i!=len(dates)):\n",
    "    if dates[i] not in totalWordFreqs.keys():\n",
    "        totalWordFreqs[dates[i]] = 0\n",
    "    totalWordFreqs[dates[i]] += freqs[i]\n",
    "    i+=1\n",
    "bar(totalWordFreqs.keys(),totalWordFreqs.values(),\"Total Consumption Term Frequency Per Year\",\"Year\",\"Frequency\")"
   ]
  }
 ],
 "metadata": {
  "kernelspec": {
   "display_name": "Python 3",
   "language": "python",
   "name": "python3"
  },
  "language_info": {
   "codemirror_mode": {
    "name": "ipython",
    "version": 3
   },
   "file_extension": ".py",
   "mimetype": "text/x-python",
   "name": "python",
   "nbconvert_exporter": "python",
   "pygments_lexer": "ipython3",
   "version": "3.8.10"
  }
 },
 "nbformat": 4,
 "nbformat_minor": 5
}
