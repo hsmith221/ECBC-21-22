{
 "cells": [
  {
   "cell_type": "markdown",
   "id": "73d5e287",
   "metadata": {},
   "source": [
    "This is our code for filtering through a folder of clean EEBO CSV files to identifiy texts within a specific date range and which mention specific target words. \n",
    "\n",
    "*This code is based in part on the 2021 Data+ team's code_actualrunning_awsvm.py file: https://github.com/ABeeShake/Ethical-Consumption-Before-Capitalism/blob/main/topic%20modelling/code_actualrunning_awsvm.py"
   ]
  },
  {
   "cell_type": "code",
   "execution_count": 7,
   "id": "847a11ec",
   "metadata": {},
   "outputs": [],
   "source": [
    "import os\n",
    "import re\n",
    "import pandas as pd\n",
    "import string\n",
    "\n",
    "directory = r'C:\\Users\\amycw\\Desktop'\n",
    "eebofolder = directory+\"\\\\\"+'eebo_clean'\n",
    "restorationFolder = directory+\"\\\\\"+'restoration_files'\n",
    "monopolyFolder = directory + \"\\\\\" + 'monopoly_eebo'"
   ]
  },
  {
   "cell_type": "code",
   "execution_count": 46,
   "id": "09e40abb",
   "metadata": {
    "scrolled": true
   },
   "outputs": [],
   "source": [
    "#loop through every single clean csv file in my eebofolder\n",
    "#filtering for texts within the Restoration era 1660-1700 \n",
    "#move all relevant texts to the \"relevant eebo texts\" folder\n",
    "#each relevant eebo text will be its own csv file \n",
    "\n",
    "# results = 31,479 texts (roughly half of the EEBO database)\n",
    "for cleanFile in os.listdir(eebofolder):\n",
    "    entries = pd.read_csv(eebofolder + \"\\\\\" + cleanFile)\n",
    "    num_rows = entries.index\n",
    "    num_texts = len(num_rows)\n",
    "    for i in range(num_texts):\n",
    "        text = entries[i:(i+1)]\n",
    "        curr_file_name = (cleanFile.rsplit('.', 1)[0]) +'_'+str(i) + ('.csv')\n",
    "        name = restorationFolder + \"\\\\\" + curr_file_name\n",
    "        if isinstance(text.iloc[0].date,str):\n",
    "            date = (text.iloc[0].date)\n",
    "        else:\n",
    "            date = (text.iloc[0].date).astype(str)\n",
    "        if (date!='Date Not Found'):\n",
    "            if (date.isdigit()):\n",
    "                if (int(date) in range(1660,1714)):\n",
    "#                     print(name + \"\\n\" + text.iloc[0].author + \"\\n\" + text.iloc[0].title + \"\\n\" + date)\n",
    "                    text.to_csv(name, index=False)\n",
    "            else:\n",
    "                datestr = date\n",
    "                if (datestr and datestr.strip()):\n",
    "                    datenum = re.search('\\d{4}', datestr)\n",
    "                    if (datenum != None):\n",
    "                        if (int(str(datenum.group(0))) in range(1660, 1700)):\n",
    "#                             print(name + \"\\n\" + text.iloc[0].author + \"\\n\" + text.iloc[0].title + \"\\n\" + date)\n",
    "                            text.to_csv(name, index=False)"
   ]
  },
  {
   "cell_type": "code",
   "execution_count": 52,
   "id": "0cf739cf",
   "metadata": {},
   "outputs": [],
   "source": [
    "#Filter through the restoration texts and find which ones mention monopoly\n",
    "# output all the texts to monopolyFolder\n",
    "# result = 785 texts (2% of Restoration era texts in EEBO) mention monopoly in some form\n",
    "# search in the eebo database itself yields 801 results \n",
    "for name in os.listdir(restorationFolder):\n",
    "    readFile = pd.read_csv(restorationFolder + \"\\\\\" + name)\n",
    "    num_rows = readFile.index\n",
    "    num_texts = len(num_rows)\n",
    "    for i in range(num_texts):\n",
    "        data = readFile[i:(i+1)]\n",
    "        text = data.iloc[0].text\n",
    "        lexicon = re.compile('monopoly|monopolization|monopolies|monopolium|monopolion|monopolie|monopolist|monopolizer|monopolize|monopolizes|monopolye|monopolyes')\n",
    "        if (re.search(lexicon, text) != None):\n",
    "            moveFile = monopolyFolder + \"\\\\\" + name\n",
    "            data.to_csv(moveFile, index=False)\n",
    "        else:\n",
    "            continue"
   ]
  },
  {
   "cell_type": "code",
   "execution_count": 8,
   "id": "85b42bb6",
   "metadata": {},
   "outputs": [
    {
     "name": "stdout",
     "output_type": "stream",
     "text": [
      "508\n"
     ]
    }
   ],
   "source": [
    "#how many unique texts are there? \n",
    "unique = []\n",
    "for fileName in os.listdir(monopolyFolder):\n",
    "    readFile = pd.read_csv(monopolyFolder + \"\\\\\" + fileName)\n",
    "    num_rows = readFile.index\n",
    "    num_texts = len(num_rows)\n",
    "    for i in range(num_texts):\n",
    "        data = readFile[i:(i+1)]\n",
    "        title = data.iloc[0].title\n",
    "        if title not in unique:\n",
    "            unique.append(title)\n",
    "print(len(unique))"
   ]
  }
 ],
 "metadata": {
  "kernelspec": {
   "display_name": "Python 3",
   "language": "python",
   "name": "python3"
  },
  "language_info": {
   "codemirror_mode": {
    "name": "ipython",
    "version": 3
   },
   "file_extension": ".py",
   "mimetype": "text/x-python",
   "name": "python",
   "nbconvert_exporter": "python",
   "pygments_lexer": "ipython3",
   "version": "3.8.8"
  }
 },
 "nbformat": 4,
 "nbformat_minor": 5
}
