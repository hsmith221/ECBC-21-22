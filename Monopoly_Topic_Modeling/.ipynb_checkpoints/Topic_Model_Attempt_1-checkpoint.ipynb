{
 "cells": [
  {
   "cell_type": "markdown",
   "id": "22dcf014",
   "metadata": {},
   "source": [
    "# Topic Modeling Attempt #1"
   ]
  },
  {
   "cell_type": "markdown",
   "id": "e00aa4ba",
   "metadata": {},
   "source": [
    "Author: Heidi Smith\n",
    "\n",
    "This an an inital try at topic modeling using an LDA model on the small scale of monopoly/EIC texts\n",
    "\n",
    "Code adapted from [here](https://towardsdatascience.com/end-to-end-topic-modeling-in-python-latent-dirichlet-allocation-lda-35ce4ed6b3e0)"
   ]
  },
  {
   "cell_type": "code",
   "execution_count": null,
   "id": "aef2a785",
   "metadata": {},
   "outputs": [],
   "source": [
    "# download needed packages\n",
    "!pip install gensim"
   ]
  },
  {
   "cell_type": "code",
   "execution_count": 21,
   "id": "9b624c32",
   "metadata": {},
   "outputs": [],
   "source": [
    "import gensim\n",
    "from gensim.utils import simple_preprocess\n",
    "import nltk\n",
    "from nltk.corpus import stopwords\n",
    "import pandas as pd\n",
    "import gensim.corpora as corpora\n",
    "from pprint import pprint"
   ]
  },
  {
   "cell_type": "code",
   "execution_count": 11,
   "id": "17e212c6",
   "metadata": {},
   "outputs": [],
   "source": [
    "# Read in csv\n",
    "df = pd.read_csv('monopoly_all.csv')"
   ]
  },
  {
   "cell_type": "code",
   "execution_count": 29,
   "id": "da8ce956",
   "metadata": {},
   "outputs": [],
   "source": [
    "# Remove stopwords/preprocess\n",
    "stop_words = stopwords.words('english')\n",
    "stop_words.extend(['thus', 'thereof', 'thence', 'thee', 'therein', 'wherein', 'whereby', 'whereas', \n",
    "                   'also', 'us', 'upon', 'would', 'within', 'indeed', 'become'])\n",
    "\n",
    "def preprocess(data):\n",
    "    for text in data:\n",
    "        yield(gensim.utils.simple_preprocess(str(text)))\n",
    "        \n",
    "def remove_stopwords(data):\n",
    "    return [[word for word in simple_preprocess(str(doc))\n",
    "            if word not in stop_words] for doc in data]\n",
    "\n",
    "data = df.text.values.tolist()\n",
    "data = list(preprocess(data))\n",
    "data = remove_stopwords(data)"
   ]
  },
  {
   "cell_type": "code",
   "execution_count": 30,
   "id": "9a31742d",
   "metadata": {},
   "outputs": [],
   "source": [
    "# Creation of corpus\n",
    "# Dictionary\n",
    "id2word = corpora.Dictionary(data)\n",
    "\n",
    "# Term Document Frequency\n",
    "corpus = [id2word.doc2bow(text) for text in data]"
   ]
  },
  {
   "cell_type": "code",
   "execution_count": 32,
   "id": "6a41607b",
   "metadata": {},
   "outputs": [
    {
     "name": "stdout",
     "output_type": "stream",
     "text": [
      "[(0,\n",
      "  '0.008*\"may\" + 0.007*\"great\" + 0.006*\"king\" + 0.006*\"trade\" + 0.005*\"made\" + '\n",
      "  '0.004*\"one\" + 0.004*\"shall\" + 0.004*\"price\" + 0.003*\"much\" + 0.003*\"many\"'),\n",
      " (1,\n",
      "  '0.010*\"price\" + 0.008*\"bound\" + 0.007*\"printed\" + 0.007*\"may\" + '\n",
      "  '0.006*\"trade\" + 0.005*\"great\" + 0.004*\"king\" + 0.004*\"one\" + 0.003*\"time\" + '\n",
      "  '0.003*\"made\"'),\n",
      " (2,\n",
      "  '0.008*\"trade\" + 0.007*\"may\" + 0.006*\"great\" + 0.005*\"king\" + 0.004*\"price\" '\n",
      "  '+ 0.004*\"made\" + 0.004*\"time\" + 0.004*\"bound\" + 0.004*\"company\" + '\n",
      "  '0.004*\"yet\"'),\n",
      " (3,\n",
      "  '0.008*\"trade\" + 0.008*\"may\" + 0.005*\"king\" + 0.005*\"company\" + '\n",
      "  '0.004*\"price\" + 0.004*\"made\" + 0.004*\"time\" + 0.004*\"much\" + 0.004*\"great\" '\n",
      "  '+ 0.004*\"printed\"'),\n",
      " (4,\n",
      "  '0.009*\"may\" + 0.008*\"trade\" + 0.006*\"king\" + 0.006*\"great\" + '\n",
      "  '0.006*\"company\" + 0.004*\"made\" + 0.004*\"one\" + 0.004*\"many\" + 0.004*\"much\" '\n",
      "  '+ 0.004*\"good\"')]\n"
     ]
    }
   ],
   "source": [
    "# Train LDA model\n",
    "num_topics = 5\n",
    "\n",
    "# Build model\n",
    "lda_model = gensim.models.LdaMulticore(corpus=corpus,\n",
    "                                      id2word=id2word,\n",
    "                                      num_topics=num_topics)\n",
    "\n",
    "# Print keyword in each topic\n",
    "pprint(lda_model.print_topics())\n",
    "doc_lda = lda_model[corpus]"
   ]
  }
 ],
 "metadata": {
  "kernelspec": {
   "display_name": "Python 3",
   "language": "python",
   "name": "python3"
  },
  "language_info": {
   "codemirror_mode": {
    "name": "ipython",
    "version": 3
   },
   "file_extension": ".py",
   "mimetype": "text/x-python",
   "name": "python",
   "nbconvert_exporter": "python",
   "pygments_lexer": "ipython3",
   "version": "3.8.8"
  }
 },
 "nbformat": 4,
 "nbformat_minor": 5
}
