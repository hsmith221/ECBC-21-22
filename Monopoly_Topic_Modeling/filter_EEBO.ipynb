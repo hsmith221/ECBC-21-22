{
 "cells": [
  {
   "cell_type": "markdown",
   "id": "73d5e287",
   "metadata": {},
   "source": [
    "This file filters through all the clean EEBO CSV files to create subfolders of texts. \n",
    "\n",
    "Based in part on the 2021 Data+ team's text filtering code: https://github.com/ABeeShake/Ethical-Consumption-Before-Capitalism/blob/main/topic%20modelling/code_actualrunning_awsvm.py"
   ]
  },
  {
   "cell_type": "code",
   "execution_count": null,
   "id": "847a11ec",
   "metadata": {},
   "outputs": [],
   "source": [
    "import os\n",
    "import re\n",
    "import pandas as pd\n",
    "import string\n",
    "\n",
    "directory = r'C:\\Users\\amycw\\Desktop\\ecbc research'\n",
    "eebofolder = directory+\"\\\\\"+'eebo_clean'\n",
    "eicFolder = directory+\"\\\\\"+'eic_eebo'\n",
    "restorationFolder = directory+\"\\\\\"+'restoration_eebo'\n",
    "monopolyFolder = directory + \"\\\\\" + 'monopoly_eebo'"
   ]
  },
  {
   "cell_type": "code",
   "execution_count": null,
   "id": "09e40abb",
   "metadata": {
    "scrolled": true
   },
   "outputs": [],
   "source": [
    "# move all relevant texts to a separate folder as individual CSVs \n",
    "def filterTime(folder, eebofolder, start, end):\n",
    "    dates = [] \n",
    "    count = 0\n",
    "    for cleanFile in os.listdir(eebofolder):\n",
    "        readFile = pd.read_csv(eebofolder + \"\\\\\" + cleanFile) \n",
    "        for i in range(len(readFile.index)):\n",
    "            data = readFile[i:(i+1)]\n",
    "            curr_file_name = (cleanFile.rsplit('.', 1)[0]) +'_'+str(i) + ('.csv')\n",
    "            name = folder + \"\\\\\" + curr_file_name\n",
    "            if isinstance(data.iloc[0].date,str):\n",
    "                date = (data.iloc[0].date)\n",
    "            else:\n",
    "                date = (data.iloc[0].date).astype(str)\n",
    "            if ((date !='Date Not Found') & (date !='[\\'Date Not Found\\']')):\n",
    "                if (date and date.strip()):\n",
    "                    datenum = re.search('\\d{4}', date)\n",
    "                    if (datenum != None):\n",
    "                        dates.append(datenum)\n",
    "                        if (int(str(datenum.group(0))) in range(start, end)):\n",
    "                            data.to_csv(name, index=False)\n",
    "            count += 1\n",
    "            if (count % 10000 == 0):\n",
    "                print(count) \n",
    "filterTime(restorationFolder, eebofolder, 1660,1714)"
   ]
  },
  {
   "cell_type": "code",
   "execution_count": null,
   "id": "766334c1",
   "metadata": {},
   "outputs": [],
   "source": [
    "#code for adding all DATED EIC texts to one CSV file\n",
    "def filterWord(filename, directory, eebofolder,word):\n",
    "    count = 0 \n",
    "    dates = []\n",
    "    outFileName = directory + \"\\\\\" + filename\n",
    "    outFile = pd.DataFrame(columns=('title','author','publisher','date','text'))\n",
    "    for cleanFile in os.listdir(eebofolder):\n",
    "        #open and read each CSV \n",
    "        readFile = pd.read_csv(eebofolder + \"\\\\\" + cleanFile) \n",
    "        #read the entries of each row (each row is its own text)\n",
    "        for i in range(len(readFile.index)):\n",
    "            row = readFile[i:(i+1)]\n",
    "            #convert the dates into the same format and exclude non-dated texts \n",
    "            if isinstance(row.iloc[0].date,str):\n",
    "                date = (row.iloc[0].date)\n",
    "            else:\n",
    "                date = (row.iloc[0].date).astype(str)\n",
    "            if ((date !='Date Not Found') & (date !='[\\'Date Not Found\\']')):\n",
    "                if (date and date.strip()):\n",
    "                    datenum = re.search('\\d{4}', date)  \n",
    "                    if (datenum != None):\n",
    "                        text = row.iloc[0].text\n",
    "                        if (re.search(word, text) != None):\n",
    "                            date = int(str(datenum.group(0)))\n",
    "                            dates.append(date)          \n",
    "                            d = pd.DataFrame([(row.iloc[0].title,\n",
    "                                                row.iloc[0].author,\n",
    "                                                row.iloc[0].publisher,\n",
    "                                                date,\n",
    "                                                row.iloc[0].text)],\n",
    "                                                columns=('title','author','publisher','date','text'))\n",
    "                            outFile = outFile.append(d,ignore_index=True)\n",
    "            count+=1\n",
    "            if (count % 10000 == 0):\n",
    "                print(count)\n",
    "    outFile.to_csv(outFileName)\n",
    "\n",
    "eic = re.compile(\"east india company|east-india company|east-india-company\")\n",
    "filterWord(\"dated_eic\", directory, eebofolder, eic)"
   ]
  }
 ],
 "metadata": {
  "kernelspec": {
   "display_name": "Python 3",
   "language": "python",
   "name": "python3"
  },
  "language_info": {
   "codemirror_mode": {
    "name": "ipython",
    "version": 3
   },
   "file_extension": ".py",
   "mimetype": "text/x-python",
   "name": "python",
   "nbconvert_exporter": "python",
   "pygments_lexer": "ipython3",
   "version": "3.8.8"
  }
 },
 "nbformat": 4,
 "nbformat_minor": 5
}
