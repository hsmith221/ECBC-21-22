{
 "cells": [
  {
   "cell_type": "markdown",
   "id": "73d5e287",
   "metadata": {},
   "source": [
    "This file filters through all the clean EEBO CSV files for date ranges and words. \n",
    "\n",
    "Based in part on the 2021 Data+ team's text filtering code: https://github.com/ABeeShake/Ethical-Consumption-Before-Capitalism/blob/main/topic%20modelling/code_actualrunning_awsvm.py"
   ]
  },
  {
   "cell_type": "code",
   "execution_count": 2,
   "id": "847a11ec",
   "metadata": {},
   "outputs": [],
   "source": [
    "import os\n",
    "import re\n",
    "import pandas as pd\n",
    "\n",
    "directory = r'C:\\Users\\amycw\\Desktop\\ecbc research'\n",
    "eebofolder = directory+\"\\\\\"+'eebo_clean'"
   ]
  },
  {
   "cell_type": "code",
   "execution_count": null,
   "id": "b9e6aa4f",
   "metadata": {},
   "outputs": [],
   "source": [
    "#code for adding all DATED texts w/ keywords to one CSV file\n",
    "def filterWord(filename,word,start,end):\n",
    "    count = 0 \n",
    "    \n",
    "    outFileName = directory + \"\\\\\" + filename\n",
    "    outFile = pd.DataFrame(columns=('title','author','publisher','date','text'))\n",
    "    \n",
    "    for cleanFile in os.listdir(eebofolder):\n",
    "        \n",
    "        #open and read each CSV \n",
    "        readFile = pd.read_csv(eebofolder + \"\\\\\" + cleanFile) \n",
    "        \n",
    "        #read the entries of each row (each row is its own text)\n",
    "        for i in range(len(readFile.index)):\n",
    "            row = readFile[i:(i+1)]\n",
    "            \n",
    "            #convert the dates into the same format and exclude non-dated texts \n",
    "            #then check if date is within the given range\n",
    "            #if yes, then scan the text for lexical hits and append to dataframe \n",
    "            if isinstance(row.iloc[0].date,str):\n",
    "                date = (row.iloc[0].date)\n",
    "            else:\n",
    "                date = (row.iloc[0].date).astype(str)\n",
    "            \n",
    "            if ((date !='Date Not Found') & (date !='[\\'Date Not Found\\']')):\n",
    "                if (date and date.strip()):\n",
    "                    datenum = re.search('\\d{4}', date)  \n",
    "                    \n",
    "                    if (datenum != None):\n",
    "                        date = int(str(datenum.group(0)))\n",
    "                        \n",
    "                        if (int(date) in range(start, end+1)):\n",
    "                            text = row.iloc[0].text\n",
    "                            \n",
    "                            if (re.search(word, text) != None):\n",
    "                                \n",
    "                                d = pd.DataFrame([(row.iloc[0].title,\n",
    "                                                    row.iloc[0].author,\n",
    "                                                    row.iloc[0].publisher,\n",
    "                                                    date,\n",
    "                                                    row.iloc[0].text)],\n",
    "                                                    columns=('title','author','publisher','date','text'))\n",
    "                                \n",
    "                                outFile = outFile.append(d,ignore_index=True)\n",
    "            \n",
    "            count+=1\n",
    "            if (count % 10000 == 0):\n",
    "                print(count)\n",
    "    \n",
    "    outFile.to_csv(outFileName)"
   ]
  },
  {
   "cell_type": "code",
   "execution_count": null,
   "id": "766334c1",
   "metadata": {},
   "outputs": [],
   "source": [
    "#code for adding all DATED texts within a certain date range to one CSV file\n",
    "def filterYear(filename,start,end):\n",
    "    count = 0 \n",
    "    \n",
    "    outFileName = directory + \"\\\\\" + filename\n",
    "    outFile = pd.DataFrame(columns=('title','author','publisher','date','text'))\n",
    "    \n",
    "    for cleanFile in os.listdir(eebofolder):\n",
    "        \n",
    "        #open and read each CSV \n",
    "        readFile = pd.read_csv(eebofolder + \"\\\\\" + cleanFile) \n",
    "        \n",
    "        #read the entries of each row (each row is its own text)\n",
    "        for i in range(len(readFile.index)):\n",
    "            row = readFile[i:(i+1)]\n",
    "            \n",
    "            #convert the dates into the same format and exclude non-dated texts \n",
    "            #then check if date is within the given range\n",
    "            if isinstance(row.iloc[0].date,str):\n",
    "                date = (row.iloc[0].date)\n",
    "            else:\n",
    "                date = (row.iloc[0].date).astype(str)\n",
    "            \n",
    "            if ((date !='Date Not Found') & (date !='[\\'Date Not Found\\']')):\n",
    "                if (date and date.strip()):\n",
    "                    datenum = re.search('\\d{4}', date)  \n",
    "                    \n",
    "                    if (datenum != None):\n",
    "                        date = int(str(datenum.group(0)))\n",
    "                        \n",
    "                        if (int(date) in range(start, end+1)):  \n",
    "                            d = pd.DataFrame([(row.iloc[0].title,\n",
    "                                                row.iloc[0].author,\n",
    "                                                row.iloc[0].publisher,\n",
    "                                                date,\n",
    "                                                row.iloc[0].text)],\n",
    "                                                columns=('title','author','publisher','date','text'))\n",
    "                            \n",
    "                            outFile = outFile.append(d,ignore_index=True)\n",
    "            \n",
    "            count+=1\n",
    "            if (count % 10000 == 0):\n",
    "                print(count)\n",
    "    \n",
    "    outFile.to_csv(outFileName)"
   ]
  },
  {
   "cell_type": "code",
   "execution_count": null,
   "id": "47e55d99",
   "metadata": {},
   "outputs": [],
   "source": [
    "filterYear(\"restoration.csv\",1660,1714)"
   ]
  },
  {
   "cell_type": "code",
   "execution_count": null,
   "id": "01f14f03",
   "metadata": {},
   "outputs": [],
   "source": [
    "economics = re.compile(\"economy|economic|money|bullion|bullionist|mercantile|fiscal|taxation|exchange|corporation|corporate|company|merchant|merchants|currency|consumption|consume|consuming|trade|traffic|commerce|commercial\")"
   ]
  },
  {
   "cell_type": "code",
   "execution_count": null,
   "id": "9293a730",
   "metadata": {},
   "outputs": [],
   "source": [
    "filterWord(\"economics.csv\",economics,1660,1714)"
   ]
  },
  {
   "cell_type": "code",
   "execution_count": null,
   "id": "beb5d8c3",
   "metadata": {},
   "outputs": [],
   "source": [
    "filterWord(\"economicsBefore1660.csv\",economics,1500,1659)"
   ]
  },
  {
   "cell_type": "code",
   "execution_count": 1,
   "id": "70155b42",
   "metadata": {},
   "outputs": [],
   "source": [
    "#code for adding all DATED texts within a certain date range to one CSV file\n",
    "def filterFileByYear(inFile, outFile,start,end):\n",
    "    count = 0 \n",
    "    \n",
    "    outFileName = directory + \"\\\\\" + outFile\n",
    "    outFile = pd.DataFrame(columns=('title','author','publisher','date','text'))\n",
    "    \n",
    "    readFile = pd.read_csv(directory + \"\\\\\" + inFile) \n",
    "    \n",
    "    #read the entries of each row (each row is its own text)\n",
    "    for i in range(len(readFile.index)):\n",
    "        row = readFile[i:(i+1)]\n",
    "    \n",
    "        date = row.iloc[0].date\n",
    "        \n",
    "        if (int(date) in range(start, end+1)):  \n",
    "            d = pd.DataFrame([(row.iloc[0].title,\n",
    "                                row.iloc[0].author,\n",
    "                                row.iloc[0].publisher,\n",
    "                                date,\n",
    "                                row.iloc[0].text)],\n",
    "                                columns=('title','author','publisher','date','text'))\n",
    "            \n",
    "            outFile = outFile.append(d,ignore_index=True)\n",
    "        \n",
    "        count+=1\n",
    "        if (count % 10000 == 0):\n",
    "            print(count)\n",
    "    \n",
    "    outFile.to_csv(outFileName)"
   ]
  },
  {
   "cell_type": "code",
   "execution_count": 3,
   "id": "14dda75a",
   "metadata": {},
   "outputs": [],
   "source": [
    "filterFileByYear(\"eic.csv\",\"eic_uncensored.csv\",1679,1685)"
   ]
  },
  {
   "cell_type": "code",
   "execution_count": null,
   "id": "c98eb255",
   "metadata": {},
   "outputs": [],
   "source": [
    "eic = re.compile(\"east india company|east-india company|eat-india company|east-india-company\")"
   ]
  },
  {
   "cell_type": "code",
   "execution_count": null,
   "id": "a1f88242",
   "metadata": {},
   "outputs": [],
   "source": [
    "monopoly = re.compile('monopoly|monopolization|monopolies|monopolium|monopolion|monopolie|monopolist|monopolizer|monopolize|monopolizes|monopolye|monopolyes')"
   ]
  }
 ],
 "metadata": {
  "kernelspec": {
   "display_name": "Python 3",
   "language": "python",
   "name": "python3"
  },
  "language_info": {
   "codemirror_mode": {
    "name": "ipython",
    "version": 3
   },
   "file_extension": ".py",
   "mimetype": "text/x-python",
   "name": "python",
   "nbconvert_exporter": "python",
   "pygments_lexer": "ipython3",
   "version": "3.8.8"
  }
 },
 "nbformat": 4,
 "nbformat_minor": 5
}
