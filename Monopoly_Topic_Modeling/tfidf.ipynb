{
 "cells": [
  {
   "cell_type": "code",
   "execution_count": 41,
   "id": "2e4241b2",
   "metadata": {},
   "outputs": [],
   "source": [
    "# source: https://www.tidytextmining.com/tfidf.html\n",
    "# https://github.com/juliasilge/janeaustenr/blob/master\n",
    "library(dplyr)\n",
    "library(tidytext)\n",
    "library(forcats)\n",
    "library(ggplot2)\n",
    "library(readtext)\n",
    "library(readr)"
   ]
  },
  {
   "cell_type": "code",
   "execution_count": null,
   "id": "50f70256",
   "metadata": {},
   "outputs": [],
   "source": [
    "tidy <- function(books){\n",
    "    ret <- data.frame(text = unlist(books, use.names = FALSE), \n",
    "                     stringsAsFactors = FALSE)\n",
    "    ret$book <- factor(rep(names(books), sapply(books, length)))\n",
    "    ret$book <- factor(ret$book, levels = unique(ret$book))\n",
    "    structure(ret, class = c(\"tbl_df\", \"tbl\", \"data.frame\"))\n",
    "}"
   ]
  },
  {
   "cell_type": "code",
   "execution_count": 93,
   "id": "5b843d79",
   "metadata": {},
   "outputs": [],
   "source": [
    "directory = \"C:\\\\Users\\\\amycw\\\\Desktop\\\\ecbc research\\\\eic_monopoly_eebo\"\n",
    "# names <- list.files(directory, pattern=\".txt\", recursive=TRUE, full.names=FALSE)\n",
    "books <- list(\n",
    "#         \"A25_P5_112.txt\" = readLines(paste(directory,\"A25_P5_112.txt\",sep=\"\\\\\")),\n",
    "#         \"A25_P5_154.txt\" = readLines(paste(directory,\"A25_P5_154.txt\",sep=\"\\\\\")),\n",
    "#         \"A25_P5_179.txt\" = readLines(paste(directory,\"A25_P5_179.txt\",sep=\"\\\\\")),\n",
    "#         \"A26_P5_163.txt\" = readLines(paste(directory,\"A26_P5_163.txt\",sep=\"\\\\\")),\n",
    "#         \"A29_P5_137.txt\" = readLines(paste(directory,\"A29_P5_137.txt\",sep=\"\\\\\")),\n",
    "#         \"A29_P5_198.txt\" = readLines(paste(directory,\"A29_P5_198.txt\",sep=\"\\\\\")),\n",
    "#         \"A2_P4_1058.txt\" = readLines(paste(directory,\"A2_P4_1058.txt\",sep=\"\\\\\")),\n",
    "#         \"A2_P4_1126.txt\" = readLines(paste(directory,\"A2_P4_1126.txt\",sep=\"\\\\\")),\n",
    "#         \"A2_P4_1179.txt\" = readLines(paste(directory,\"A2_P4_1179.txt\",sep=\"\\\\\")),\n",
    "#         \"A2_P4_1395.txt\" = readLines(paste(directory,\"A2_P4_1395.txt\",sep=\"\\\\\"))\n",
    "        \n",
    "#         \"A2_P4_1978.txt\" = readLines(paste(directory,\"A2_P4_1978.txt\",sep=\"\\\\\")),\n",
    "#         \"A2_P4_2040.txt\" = readLines(paste(directory,\"A2_P4_2040.txt\",sep=\"\\\\\")),\n",
    "#         \"A33_P5_101.txt\" = readLines(paste(directory,\"A33_P5_101.txt\",sep=\"\\\\\")),\n",
    "#         \"A33_P5_118.txt\" = readLines(paste(directory,\"A33_P5_118.txt\",sep=\"\\\\\")),\n",
    "#         \"A34_P5_82.txt\" = readLines(paste(directory,\"A34_P5_82.txt\",sep=\"\\\\\")),\n",
    "#         \"A38_P5_183.txt\" = readLines(paste(directory,\"A38_P5_183.txt\",sep=\"\\\\\")),\n",
    "#         \"A3_P4_1012.txt\" = readLines(paste(directory,\"A3_P4_1012.txt\",sep=\"\\\\\")),\n",
    "#         \"A3_P4_1223.txt\" = readLines(paste(directory,\"A3_P4_1223.txt\",sep=\"\\\\\")),\n",
    "#         \"A3_P4_1230.txt\" = readLines(paste(directory,\"A3_P4_1230.txt\",sep=\"\\\\\")),\n",
    "#         \"A3_P4_1806.txt\" = readLines(paste(directory,\"A3_P4_1806.txt\",sep=\"\\\\\"))\n",
    "    \n",
    "#         \"A3_P4_2047.txt\" = readLines(paste(directory,\"A3_P4_2047.txt\",sep=\"\\\\\")),\n",
    "#         \"A3_P4_2202.txt\" = readLines(paste(directory,\"A3_P4_2202.txt\",sep=\"\\\\\")),\n",
    "#         \"A3_P4_781.txt\" = readLines(paste(directory,\"A3_P4_781.txt\",sep=\"\\\\\")),\n",
    "#         \"A3_P4_801.txt\" = readLines(paste(directory,\"A3_P4_801.txt\",sep=\"\\\\\")),\n",
    "#         \"A46_P5_228.txt\" = readLines(paste(directory,\"A46_P5_228.txt\",sep=\"\\\\\")),\n",
    "#         \"A46_P5_58.txt\" = readLines(paste(directory,\"A46_P5_58.txt\",sep=\"\\\\\")),\n",
    "#         \"A4_P4_1069.txt\" = readLines(paste(directory,\"A4_P4_1069.txt\",sep=\"\\\\\")),\n",
    "#         \"A4_P4_155.txt\" = readLines(paste(directory,\"A4_P4_155.txt\",sep=\"\\\\\")),\n",
    "#         \"A4_P4_1747.txt\" = readLines(paste(directory,\"A4_P4_1747.txt\",sep=\"\\\\\")),\n",
    "#         \"A4_P4_1972.txt\" = readLines(paste(directory,\"A4_P4_1972.txt\",sep=\"\\\\\"))\n",
    "    \n",
    "#         \"A4_P4_2248.txt\" = readLines(paste(directory,\"A4_P4_2248.txt\",sep=\"\\\\\")),\n",
    "#         \"A4_P4_2918.txt\" = readLines(paste(directory,\"A4_P4_2918.txt\",sep=\"\\\\\")),\n",
    "#         \"A55_P5_51.txt\" = readLines(paste(directory,\"A55_P5_51.txt\",sep=\"\\\\\")),\n",
    "#         \"A55_P5_53.txt\" = readLines(paste(directory,\"A55_P5_53.txt\",sep=\"\\\\\")),\n",
    "#         \"A5_P4_1219.txt\" = readLines(paste(directory,\"A5_P4_1219.txt\",sep=\"\\\\\")),\n",
    "#         \"A5_P4_1695.txt\" = readLines(paste(directory,\"A5_P4_1695.txt\",sep=\"\\\\\")),\n",
    "#         \"A5_P4_1696.txt\" = readLines(paste(directory,\"A5_P4_1696.txt\",sep=\"\\\\\")),\n",
    "#         \"A5_P4_1697.txt\" = readLines(paste(directory,\"A5_P4_1697.txt\",sep=\"\\\\\")),\n",
    "#         \"A5_P4_1965.txt\" = readLines(paste(directory,\"A5_P4_1965.txt\",sep=\"\\\\\")),\n",
    "#         \"A5_P4_1976.txt\" = readLines(paste(directory,\"A5_P4_1976.txt\",sep=\"\\\\\"))\n",
    "    \n",
    "#         \"A5_P4_2676.txt\" = readLines(paste(directory,\"A5_P4_2676.txt\",sep=\"\\\\\")),\n",
    "#         \"A5_P4_3070.txt\" = readLines(paste(directory,\"A5_P4_3070.txt\",sep=\"\\\\\")),\n",
    "#         \"A5_P4_814.txt\" = readLines(paste(directory,\"A5_P4_814.txt\",sep=\"\\\\\")),\n",
    "#         \"A5_P4_939.txt\" = readLines(paste(directory,\"A5_P4_939.txt\",sep=\"\\\\\")),\n",
    "#         \"A6_P4_1275.txt\" = readLines(paste(directory,\"A6_P4_1275.txt\",sep=\"\\\\\")),\n",
    "#         \"A6_P4_1381.txt\" = readLines(paste(directory,\"A6_P4_1381.txt\",sep=\"\\\\\")),\n",
    "#         \"A6_P4_231.txt\" = readLines(paste(directory,\"A6_P4_231.txt\",sep=\"\\\\\")),\n",
    "#         \"A6_P4_2311.txt\" = readLines(paste(directory,\"A6_P4_2311.txt\",sep=\"\\\\\")),\n",
    "#         \"A6_P4_306.txt\" = readLines(paste(directory,\"A6_P4_306.txt\",sep=\"\\\\\")),\n",
    "#         \"A7_P4_2397.txt\" = readLines(paste(directory,\"A7_P4_2397.txt\",sep=\"\\\\\"))\n",
    "    \n",
    "        \"A8_P4_1129.txt\" = readLines(paste(directory,\"A8_P4_1129.txt\",sep=\"\\\\\")),\n",
    "        \"A8_P4_3383.txt\" = readLines(paste(directory,\"A8_P4_3383.txt\",sep=\"\\\\\")),\n",
    "        \"A8_P4_666.txt\" = readLines(paste(directory,\"A8_P4_666.txt\",sep=\"\\\\\")),\n",
    "        \"A8_P4_669.txt\" = readLines(paste(directory,\"A8_P4_669.txt\",sep=\"\\\\\")),\n",
    "        \"A92_P5_83.txt\" = readLines(paste(directory,\"A92_P5_83.txt\",sep=\"\\\\\")),\n",
    "        \"A9_P4_1092.txt\" = readLines(paste(directory,\"A9_P4_1092.txt\",sep=\"\\\\\")),\n",
    "        \"A9_P4_1097.txt\" = readLines(paste(directory,\"A9_P4_1097.txt\",sep=\"\\\\\")),\n",
    "        \"A9_P4_1105.txt\" = readLines(paste(directory,\"A9_P4_1105.txt\",sep=\"\\\\\")),\n",
    "        \"A9_P4_1115.txt\" = readLines(paste(directory,\"A9_P4_1115.txt\",sep=\"\\\\\")),\n",
    "        \"B02_P5_84.txt\" = readLines(paste(directory,\"B02_P5_84.txt\",sep=\"\\\\\")),\n",
    "        \"B0_P4_557.txt\" = readLines(paste(directory,\"B0_P4_557.txt\",sep=\"\\\\\"))\n",
    "    )"
   ]
  },
  {
   "cell_type": "code",
   "execution_count": 94,
   "id": "a837f0e5",
   "metadata": {
    "scrolled": false
   },
   "outputs": [
    {
     "name": "stderr",
     "output_type": "stream",
     "text": [
      "Joining, by = \"word\"\n"
     ]
    },
    {
     "data": {
      "image/png": "[encoded data removed]",
      "text/plain": [
       "plot without title"
      ]
     },
     "metadata": {},
     "output_type": "display_data"
    }
   ],
   "source": [
    "book_words <- tidy(books) %>%\n",
    "  unnest_tokens(word, text) %>%\n",
    "  anti_join(stop_words)\n",
    "\n",
    "book_words <- book_words %>%\n",
    "  count(book, word, sort = TRUE) \n",
    "\n",
    "book_tf_idf <- book_words %>%\n",
    "  bind_tf_idf(word, book, n)\n",
    "\n",
    "book_tf_idf %>%\n",
    "  group_by(book) %>%\n",
    "  slice_max(tf_idf, n = 5) %>%\n",
    "  ungroup() %>%\n",
    "  ggplot(aes(tf_idf, fct_reorder(word, tf_idf), fill = book)) +\n",
    "  geom_col(show.legend = FALSE) +\n",
    "  facet_wrap(~book, ncol = 2, scales = \"free\") +\n",
    "  labs(x = \"tf-idf\", y = NULL)"
   ]
  }
 ],
 "metadata": {
  "kernelspec": {
   "display_name": "R",
   "language": "R",
   "name": "ir"
  },
  "language_info": {
   "codemirror_mode": "r",
   "file_extension": ".r",
   "mimetype": "text/x-r-source",
   "name": "R",
   "pygments_lexer": "r",
   "version": "3.6.1"
  }
 },
 "nbformat": 4,
 "nbformat_minor": 5
}
