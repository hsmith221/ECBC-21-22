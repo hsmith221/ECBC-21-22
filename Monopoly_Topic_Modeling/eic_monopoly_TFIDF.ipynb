{
 "cells": [
  {
   "cell_type": "code",
   "execution_count": 31,
   "id": "cfa3c039",
   "metadata": {},
   "outputs": [],
   "source": [
    "import os\n",
    "import re\n",
    "import pandas as pd\n",
    "import string\n",
    "import sys\n",
    "import subprocess\n",
    "directory = r'C:\\Users\\amycw\\Desktop\\ecbc research'\n",
    "eicFolder = directory + \"\\\\\"+'eic_monopoly_eebo'"
   ]
  },
  {
   "cell_type": "code",
   "execution_count": 42,
   "id": "954c0bc3",
   "metadata": {
    "scrolled": false
   },
   "outputs": [],
   "source": [
    "import textwrap\n",
    "for filename in os.listdir(eicFolder):\n",
    "    if (filename.endswith(\".csv\")):\n",
    "        readFile = pd.read_csv(eicFolder + \"\\\\\" + filename)\n",
    "        for i in range(len(readFile.index)):\n",
    "            data = readFile[i:(i+1)]\n",
    "            text = data.iloc[0].text\n",
    "            text = textwrap.wrap(text)\n",
    "            file = open(eicFolder+\"\\\\\"+filename.rsplit('.', 1)[0]+\".txt\", \"w\")\n",
    "            for line in text: \n",
    "                file.write(line+\"\\n\") \n",
    "            file.close() "
   ]
  },
  {
   "cell_type": "code",
   "execution_count": 40,
   "id": "91b124bf",
   "metadata": {},
   "outputs": [],
   "source": [
    "for filename in os.listdir(eicFolder):\n",
    "    if (filename.endswith(\".txt\")):\n",
    "        print(\"\\\"\"+filename+\"\\\" \" + \"= readLines(paste(directory,\"+\"\\\"\"+filename+\"\\\"\"+\",sep=\\\"\\\\\\\\\\\")),\") "
   ]
  },
  {
   "cell_type": "code",
   "execution_count": 26,
   "id": "68c67fb6",
   "metadata": {},
   "outputs": [],
   "source": [
    "import sklearn as sk\n",
    "import numpy as np\n",
    "from sklearn.feature_extraction.text import TfidfVectorizer\n",
    "\n",
    "allEIC = []\n",
    "eicFiles = os.listdir(eicFolder)\n",
    "for filename in eicFiles:\n",
    "    readFile = pd.read_csv(eicFolder + \"\\\\\" + filename)\n",
    "    for i in range(len(readFile.index)):\n",
    "        data = readFile[i:(i+1)]\n",
    "        text = data.iloc[0].text\n",
    "        allEIC.append(text)\n",
    "vector = TfidfVectorizer(stop_words='english')\n",
    "data = vector.fit_transform(allEIC)\n",
    "features = np.array(vector.get_feature_names())\n",
    "def get_top_tfidf(doc, top_n=15):\n",
    "    sortedData = np.argsort(doc.data)[:-(top_n+1):-1]\n",
    "    print(features[doc.indices[sortedData]])\n",
    "    print(\"\\n\")\n",
    "file = 0 \n",
    "for doc in data: \n",
    "    filename = eicFiles[file]\n",
    "    readFile = pd.read_csv(eicFolder + \"\\\\\" + filename)\n",
    "    for i in range(len(readFile.index)):\n",
    "        data = readFile[i:(i+1)]\n",
    "        title = data.iloc[0].title\n",
    "    print(filename + \": \" + title + \"\\n\")\n",
    "    get_top_tfidf(doc,20)\n",
    "    file = file+1"
   ]
  }
 ],
 "metadata": {
  "kernelspec": {
   "display_name": "Python 3",
   "language": "python",
   "name": "python3"
  },
  "language_info": {
   "codemirror_mode": {
    "name": "ipython",
    "version": 3
   },
   "file_extension": ".py",
   "mimetype": "text/x-python",
   "name": "python",
   "nbconvert_exporter": "python",
   "pygments_lexer": "ipython3",
   "version": "3.8.8"
  }
 },
 "nbformat": 4,
 "nbformat_minor": 5
}
