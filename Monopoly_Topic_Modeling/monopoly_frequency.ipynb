{
 "cells": [
  {
   "cell_type": "markdown",
   "id": "2a79e55b",
   "metadata": {},
   "source": [
    "This is code for finding how many times each text in monopolyFolder mentions the word \"monopoly\" in any form and for sorting the relevant files by the frequency of the word monopoly"
   ]
  },
  {
   "cell_type": "code",
   "execution_count": 1,
   "id": "457e8070",
   "metadata": {},
   "outputs": [],
   "source": [
    "import os\n",
    "import re\n",
    "import pandas as pd\n",
    "import string"
   ]
  },
  {
   "cell_type": "code",
   "execution_count": 2,
   "id": "225af8f0",
   "metadata": {},
   "outputs": [],
   "source": [
    "directory = r'C:\\Users\\amycw\\Desktop\\ecbc research'\n",
    "monopolyFolder = directory + \"\\\\\" + 'monopoly_eebo'\n",
    "freqFile = open(r'C:\\Users\\amycw\\Desktop\\ecbc research\\monopoly_frequency.txt', \"a\")\n",
    "for fileName in os.listdir(monopolyFolder):\n",
    "    readFile = pd.read_csv(monopolyFolder + \"\\\\\" + fileName)\n",
    "    num_rows = readFile.index\n",
    "    num_texts = len(num_rows)\n",
    "    for i in range(num_texts):\n",
    "        data = readFile[i:(i+1)]\n",
    "        text = data.iloc[0].text\n",
    "        title = data.iloc[0].title\n",
    "        lexicon = re.compile('monopoly|monopolization|monopolies|monopolium|monopolion|monopolie|monopolist|monopolizer|monopolize|monopolizes|monopolye|monopolyes')\n",
    "        if(re.search(lexicon, text) != None):\n",
    "            freq = len(re.findall(lexicon, text))\n",
    "            freqFile.write(str(freq)+\"; \"+title+\"\\n\")\n",
    "freqFile.close()"
   ]
  },
  {
   "cell_type": "code",
   "execution_count": 5,
   "id": "5a0165f2",
   "metadata": {},
   "outputs": [],
   "source": [
    "def sortByFreq(fileName):\n",
    "    infile = open(fileName)\n",
    "    outfile = open(r'C:\\Users\\amycw\\Desktop\\ecbc research\\sortedMonopolyFrequency.txt', \"a\")\n",
    "    existingFreqs = []\n",
    "    freqAndTitles = {}\n",
    "    for line in infile:\n",
    "        items = line.split(\";\")\n",
    "        if items[0] not in existingFreqs:\n",
    "            freqAndTitles[int(items[0])] = []\n",
    "            existingFreqs.append(items[0])\n",
    "        freqAndTitles[int(items[0])].append(items[1])\n",
    "    infile.close()\n",
    "    for i in sorted (freqAndTitles, reverse=True) :\n",
    "        outfile.write(str(i)+\":\\n\")\n",
    "        for title in freqAndTitles[i]:\n",
    "            outfile.write(\"\\t\"+title+\"\\n\")\n",
    "    outfile.close()\n",
    "sortByFreq(r'C:\\Users\\amycw\\Desktop\\ecbc research\\monopoly_frequency.txt')"
   ]
  }
 ],
 "metadata": {
  "kernelspec": {
   "display_name": "Python 3",
   "language": "python",
   "name": "python3"
  },
  "language_info": {
   "codemirror_mode": {
    "name": "ipython",
    "version": 3
   },
   "file_extension": ".py",
   "mimetype": "text/x-python",
   "name": "python",
   "nbconvert_exporter": "python",
   "pygments_lexer": "ipython3",
   "version": "3.8.8"
  }
 },
 "nbformat": 4,
 "nbformat_minor": 5
}
