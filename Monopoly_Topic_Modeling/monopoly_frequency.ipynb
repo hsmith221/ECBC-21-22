{
 "cells": [
  {
   "cell_type": "markdown",
   "id": "2a79e55b",
   "metadata": {},
   "source": [
    "Author: Amy Weng\n",
    "\n",
    "This code finds how many times each text in monopolyFolder mentions the word \"monopoly\" in any form, the frequency of monopoly texts over the years, and for sorting the relevant files by the frequency of the word monopoly"
   ]
  },
  {
   "cell_type": "code",
   "execution_count": 2,
   "id": "457e8070",
   "metadata": {},
   "outputs": [],
   "source": [
    "import os\n",
    "import re\n",
    "import pandas as pd\n",
    "import string\n",
    "\n",
    "directory = r'C:\\Users\\amycw\\Desktop\\ecbc research'\n",
    "monopolyFolder = directory + \"\\\\\" + 'monopoly_eebo'\n",
    "eicFolder = directory + \"\\\\\"+'eic_monopoly_eebo'"
   ]
  },
  {
   "cell_type": "code",
   "execution_count": 2,
   "id": "225af8f0",
   "metadata": {},
   "outputs": [],
   "source": [
    "freqFile = open(r'C:\\Users\\amycw\\Desktop\\ecbc research\\monopoly_frequency.txt', \"a\")\n",
    "for fileName in os.listdir(monopolyFolder):\n",
    "    readFile = pd.read_csv(monopolyFolder + \"\\\\\" + fileName)\n",
    "    num_rows = readFile.index\n",
    "    num_texts = len(num_rows)\n",
    "    for i in range(num_texts):\n",
    "        data = readFile[i:(i+1)]\n",
    "        text = data.iloc[0].text\n",
    "        title = data.iloc[0].title\n",
    "        lexicon = re.compile('monopoly|monopolization|monopolies|monopolium|monopolion|monopolie|monopolist|monopolizer|monopolize|monopolizes|monopolye|monopolyes')\n",
    "        if(re.search(lexicon, text) != None):\n",
    "            freq = len(re.findall(lexicon, text))\n",
    "            freqFile.write(str(freq)+\"; \"+title+\"\\n\")\n",
    "freqFile.close()"
   ]
  },
  {
   "cell_type": "code",
   "execution_count": 23,
   "id": "be8b75da",
   "metadata": {
    "scrolled": true
   },
   "outputs": [
    {
     "name": "stdout",
     "output_type": "stream",
     "text": [
      "('1696', 8)\n",
      "('1698', 7)\n",
      "('1691', 7)\n",
      "('1695', 5)\n",
      "('1689', 5)\n",
      "('1693', 4)\n",
      "('1697', 3)\n",
      "('1676', 3)\n",
      "('1672', 3)\n",
      "('1700', 2)\n",
      "('1692', 2)\n",
      "('1682', 2)\n",
      "('1681', 2)\n",
      "('1667', 2)\n",
      "('1699', 1)\n",
      "('1694', 1)\n",
      "('1688', 1)\n",
      "('1684', 1)\n",
      "('1680', 1)\n",
      "('1664', 1)\n",
      "('1662', 1)\n"
     ]
    }
   ],
   "source": [
    "datesAndFreq = {}\n",
    "dates = []\n",
    "for fileName in os.listdir(eicFolder):\n",
    "    readFile = pd.read_csv(eicFolder + \"\\\\\" + fileName)\n",
    "    num_rows = readFile.index\n",
    "    num_texts = len(num_rows)\n",
    "    for i in range(num_texts):\n",
    "        data = readFile[i:(i+1)]\n",
    "        text = data.iloc[0].text\n",
    "        title = data.iloc[0].title\n",
    "        if isinstance(data.iloc[0].date,str):\n",
    "            date = data.iloc[0].date\n",
    "            if (date and date.strip()):\n",
    "                date = re.search('\\d{4}', date)\n",
    "                date = str(date.group(0))\n",
    "        else:\n",
    "            date = (data.iloc[0].date).astype(str) \n",
    "        lexicon = re.compile('monopoly|monopolization|monopolies|monopolium|monopolion|monopolie|monopolist|monopolizer|monopolize|monopolizes|monopolye|monopolyes')\n",
    "        freq = len(re.findall(lexicon,text))\n",
    "        if date not in dates: \n",
    "            datesAndFreq[date] = 1\n",
    "            dates.append(date)\n",
    "        else: \n",
    "            datesAndFreq[date] = datesAndFreq[date] + 1 \n",
    "\n",
    "for pair in sorted (datesAndFreq.items(), key=lambda kv:(kv[1], kv[0]), reverse=True):\n",
    "    print(str(pair))"
   ]
  },
  {
   "cell_type": "code",
   "execution_count": 24,
   "id": "a0301f50",
   "metadata": {},
   "outputs": [
    {
     "name": "stdout",
     "output_type": "stream",
     "text": [
      "('1660', 77)\n",
      "('1695', 47)\n",
      "('1680', 40)\n",
      "('1689', 37)\n",
      "('1696', 29)\n",
      "('1682', 29)\n",
      "('1698', 28)\n",
      "('1661', 27)\n",
      "('1693', 26)\n",
      "('1683', 25)\n",
      "('1692', 23)\n",
      "('1690', 23)\n",
      "('1662', 23)\n",
      "('1685', 22)\n",
      "('1670', 18)\n",
      "('1679', 17)\n",
      "('1675', 17)\n",
      "('1663', 17)\n",
      "('1674', 16)\n",
      "('1681', 15)\n",
      "('1697', 14)\n",
      "('1694', 14)\n",
      "('1691', 14)\n",
      "('1687', 14)\n",
      "('1684', 14)\n",
      "('1700', 13)\n",
      "('1667', 13)\n",
      "('1699', 12)\n",
      "('1688', 12)\n",
      "('1677', 12)\n",
      "('1671', 12)\n",
      "('1669', 11)\n",
      "('1676', 10)\n",
      "('1673', 10)\n",
      "('1666', 10)\n",
      "('1672', 9)\n",
      "('1678', 8)\n",
      "('1665', 8)\n",
      "('1664', 7)\n",
      "('1686', 5)\n",
      "('1668', 5)\n",
      "('1712', 2)\n"
     ]
    }
   ],
   "source": [
    "datesAndFreq = {}\n",
    "dates = []\n",
    "for fileName in os.listdir(monopolyFolder):\n",
    "    readFile = pd.read_csv(monopolyFolder + \"\\\\\" + fileName)\n",
    "    num_rows = readFile.index\n",
    "    num_texts = len(num_rows)\n",
    "    for i in range(num_texts):\n",
    "        data = readFile[i:(i+1)]\n",
    "        text = data.iloc[0].text\n",
    "        title = data.iloc[0].title\n",
    "        if isinstance(data.iloc[0].date,str):\n",
    "            date = data.iloc[0].date\n",
    "            if (date and date.strip()):\n",
    "                date = re.search('\\d{4}', date)\n",
    "                date = str(date.group(0))\n",
    "        else:\n",
    "            date = (data.iloc[0].date).astype(str) \n",
    "        lexicon = re.compile('monopoly|monopolization|monopolies|monopolium|monopolion|monopolie|monopolist|monopolizer|monopolize|monopolizes|monopolye|monopolyes')\n",
    "        freq = len(re.findall(lexicon,text))\n",
    "        if date not in dates: \n",
    "            datesAndFreq[date] = 1\n",
    "            dates.append(date)\n",
    "        else: \n",
    "            datesAndFreq[date] = datesAndFreq[date] + 1 \n",
    "\n",
    "for pair in sorted (datesAndFreq.items(), key=lambda kv:(kv[1], kv[0]), reverse=True):\n",
    "    print(str(pair))"
   ]
  },
  {
   "cell_type": "code",
   "execution_count": 5,
   "id": "5a0165f2",
   "metadata": {},
   "outputs": [],
   "source": [
    "def sortByFreq(fileName):\n",
    "    infile = open(fileName)\n",
    "    outfile = open(r'C:\\Users\\amycw\\Desktop\\ecbc research\\sortedMonopolyFrequency.txt', \"a\")\n",
    "    existingFreqs = []\n",
    "    freqAndTitles = {}\n",
    "    for line in infile:\n",
    "        items = line.split(\";\")\n",
    "        if items[0] not in existingFreqs:\n",
    "            freqAndTitles[int(items[0])] = []\n",
    "            existingFreqs.append(items[0])\n",
    "        freqAndTitles[int(items[0])].append(items[1])\n",
    "    infile.close()\n",
    "    for i in sorted (freqAndTitles, reverse=True) :\n",
    "        outfile.write(str(i)+\":\\n\")\n",
    "        for title in freqAndTitles[i]:\n",
    "            outfile.write(\"\\t\"+title+\"\\n\")\n",
    "    outfile.close()\n",
    "sortByFreq(r'C:\\Users\\amycw\\Desktop\\ecbc research\\monopoly_frequency.txt')"
   ]
  }
 ],
 "metadata": {
  "kernelspec": {
   "display_name": "Python 3",
   "language": "python",
   "name": "python3"
  },
  "language_info": {
   "codemirror_mode": {
    "name": "ipython",
    "version": 3
   },
   "file_extension": ".py",
   "mimetype": "text/x-python",
   "name": "python",
   "nbconvert_exporter": "python",
   "pygments_lexer": "ipython3",
   "version": "3.8.8"
  }
 },
 "nbformat": 4,
 "nbformat_minor": 5
}
