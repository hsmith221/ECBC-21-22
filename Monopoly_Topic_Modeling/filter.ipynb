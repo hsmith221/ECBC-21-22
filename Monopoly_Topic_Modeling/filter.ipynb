{
 "cells": [
  {
   "cell_type": "markdown",
   "id": "73d5e287",
   "metadata": {},
   "source": [
    "Author: Amy Weng\n",
    "\n",
    "This file filters through all the clean EEBO CSV files for date ranges and words. \n",
    "\n",
    "Based in part on the 2021 Data+ team's text filtering code: https://github.com/ABeeShake/Ethical-Consumption-Before-Capitalism/blob/main/topic%20modelling/code_actualrunning_awsvm.py"
   ]
  },
  {
   "cell_type": "code",
   "execution_count": 2,
   "id": "847a11ec",
   "metadata": {},
   "outputs": [],
   "source": [
    "import os\n",
    "import re\n",
    "import pandas as pd\n",
    "\n",
    "directory = '/home/rapiduser/Materials/'\n",
    "file = directory + '/restoration.csv'"
   ]
  },
  {
   "cell_type": "code",
   "execution_count": null,
   "id": "766334c1",
   "metadata": {},
   "outputs": [],
   "source": [
    "#code for adding all DATED texts within a certain date range to one CSV file\n",
    "def filterYear(folder,filename,start,end):\n",
    "    count = 0 \n",
    "    \n",
    "    outFileName = directory + \"\\\\\" + filename\n",
    "    outFile = pd.DataFrame(columns=('title','author','publisher','date','text'))\n",
    "    \n",
    "    for cleanFile in os.listdir(folder):\n",
    "        \n",
    "        #open and read each CSV \n",
    "        readFile = pd.read_csv(folder + \"\\\\\" + cleanFile) \n",
    "        \n",
    "        #read the entries of each row (each row is its own text)\n",
    "        for i in range(len(readFile.index)):\n",
    "            row = readFile[i:(i+1)]\n",
    "            \n",
    "            #convert the dates into the same format and exclude non-dated texts \n",
    "            #then check if date is within the given range\n",
    "            if isinstance(row.iloc[0].date,str):\n",
    "                date = (row.iloc[0].date)\n",
    "            else:\n",
    "                date = (row.iloc[0].date).astype(str)\n",
    "            \n",
    "            if ((date !='Date Not Found') & (date !='[\\'Date Not Found\\']')):\n",
    "                if (date and date.strip()):\n",
    "                    datenum = re.search('\\d{4}', date)  \n",
    "                    \n",
    "                    if (datenum != None):\n",
    "                        date = int(str(datenum.group(0)))\n",
    "                        \n",
    "                        if (int(date) in range(start, end+1)):  \n",
    "                            d = pd.DataFrame([(row.iloc[0].title,\n",
    "                                                row.iloc[0].author,\n",
    "                                                row.iloc[0].publisher,\n",
    "                                                date,\n",
    "                                                row.iloc[0].text)],\n",
    "                                                columns=('title','author','publisher','date','text'))\n",
    "                            \n",
    "                            outFile = outFile.append(d,ignore_index=True)\n",
    "            \n",
    "            count+=1\n",
    "            if (count % 10000 == 0):\n",
    "                print(count)\n",
    "    \n",
    "    outFile.to_csv(outFileName)"
   ]
  },
  {
   "cell_type": "code",
   "execution_count": 11,
   "id": "9437e5d2",
   "metadata": {},
   "outputs": [],
   "source": [
    "#code for adding all DATED texts w/ keywords to one CSV file\n",
    "def filterWord(outFile,word):\n",
    "    count = 0 \n",
    "    \n",
    "    outFileName = directory + outFile\n",
    "    outFile = pd.DataFrame(columns=('title','author','publisher','date','text'))\n",
    "    \n",
    "    readFile = pd.read_csv(file)\n",
    "        \n",
    "    for i in range(len(readFile.index)):\n",
    "        row = readFile[i:(i+1)]\n",
    "    \n",
    "        text = row.iloc[0].text\n",
    "    \n",
    "        if (re.search(word, text) != None):\n",
    "            \n",
    "            d = pd.DataFrame([(row.iloc[0].title,\n",
    "                                row.iloc[0].author,\n",
    "                                row.iloc[0].publisher,\n",
    "                                row.iloc[0].date,\n",
    "                                text)],\n",
    "                                columns=('title','author','publisher','date','text'))\n",
    "            \n",
    "            outFile = outFile.append(d,ignore_index=True)\n",
    "            \n",
    "        count+=1\n",
    "        if (count % 10000 == 0):\n",
    "            print(count)\n",
    "    print(\"Total number of texts:\",count)\n",
    "    outFile.to_csv(outFileName)"
   ]
  },
  {
   "cell_type": "code",
   "execution_count": 6,
   "id": "01f14f03",
   "metadata": {},
   "outputs": [],
   "source": [
    "economics = re.compile(\"economy|economic|money|monies|bullion|bullionist|mercantile|fiscal|taxation|exchange|corporation|corporate|company|merchant|joint-stock|merchants|currency|consumption|consume|consuming|consumables|trade|traffic|traffique|commerce|commercial|price|prices|spending|east indies|east india company|east-india company|eat-india company|east-india-company|monopoly|monopolization|monopolies|monopolium|monopolion|monopolie|monopolist|monopolizer|monopolize|monopolizes|monopolye|monopolyes|debt|credit|debtor|creditor|decoctor|bank|banks|usury|interest rate|interest|interest rates|importation|exportation|coin|employment|austerity|goods|treasure|commodities|income|commodity|revenue|land|profitable|unprofitable|industry|work|usurer|estate|property|substance|consumer|free trade\")"
   ]
  },
  {
   "cell_type": "code",
   "execution_count": 12,
   "id": "9293a730",
   "metadata": {},
   "outputs": [
    {
     "name": "stdout",
     "output_type": "stream",
     "text": [
      "10000\n",
      "20000\n",
      "30000\n",
      "Total number of texts: 31905\n"
     ]
    }
   ],
   "source": [
    "filterWord(\"economics.csv\",economics)"
   ]
  },
  {
   "cell_type": "code",
   "execution_count": 3,
   "id": "70155b42",
   "metadata": {},
   "outputs": [],
   "source": [
    "#code for adding all DATED texts within a certain date range to one CSV file\n",
    "def filterFileByYear(inFile, outFile,start,end):\n",
    "\n",
    "    outFileName = directory + outFile\n",
    "    outFile = pd.DataFrame(columns=('title','author','publisher','date','text'))\n",
    "    \n",
    "    readFile = pd.read_csv(directory + inFile) \n",
    "    \n",
    "    #read the entries of each row (each row is its own text)\n",
    "    for i in range(len(readFile.index)):\n",
    "        row = readFile[i:(i+1)]\n",
    "    \n",
    "        date = row.iloc[0].date\n",
    "        \n",
    "        if (int(date) in range(start, end+1)):  \n",
    "            d = pd.DataFrame([(row.iloc[0].title,\n",
    "                                row.iloc[0].author,\n",
    "                                row.iloc[0].publisher,\n",
    "                                date,\n",
    "                                row.iloc[0].text)],\n",
    "                                columns=('title','author','publisher','date','text'))\n",
    "            \n",
    "            outFile = outFile.append(d,ignore_index=True)\n",
    "        \n",
    "    outFile.to_csv(outFileName)\n",
    "    \n",
    "    f = pd.read_csv(outFileName)\n",
    "    print(\"Total number of texts is:\",len(f.index))  "
   ]
  },
  {
   "cell_type": "code",
   "execution_count": 9,
   "id": "14dda75a",
   "metadata": {},
   "outputs": [
    {
     "name": "stdout",
     "output_type": "stream",
     "text": [
      "Total number of texts is: 10460\n"
     ]
    }
   ],
   "source": [
    "# 1st phase \n",
    "filterFileByYear(\"economics.csv\",\"1st phase.csv\",1660,1678)"
   ]
  },
  {
   "cell_type": "code",
   "execution_count": 11,
   "id": "34cfee4c",
   "metadata": {},
   "outputs": [
    {
     "name": "stdout",
     "output_type": "stream",
     "text": [
      "Total number of texts is: 6986\n"
     ]
    }
   ],
   "source": [
    "# 2nd phase \n",
    "filterFileByYear(\"economics.csv\",\"2nd phase.csv\",1679,1685)"
   ]
  },
  {
   "cell_type": "code",
   "execution_count": 4,
   "id": "f7d6fa78",
   "metadata": {},
   "outputs": [
    {
     "name": "stdout",
     "output_type": "stream",
     "text": [
      "Total number of texts is: 6697\n"
     ]
    }
   ],
   "source": [
    "# 3rd phase\n",
    "filterFileByYear(\"economics.csv\",\"3rd phase.csv\",1688,1694)"
   ]
  },
  {
   "cell_type": "code",
   "execution_count": 5,
   "id": "fc1fa932",
   "metadata": {},
   "outputs": [
    {
     "name": "stdout",
     "output_type": "stream",
     "text": [
      "Total number of texts is: 5419\n"
     ]
    }
   ],
   "source": [
    "filterFileByYear(\"economics.csv\",\"post-restoration.csv\",1695,1700)"
   ]
  }
 ],
 "metadata": {
  "kernelspec": {
   "display_name": "Python 3",
   "language": "python",
   "name": "python3"
  },
  "language_info": {
   "codemirror_mode": {
    "name": "ipython",
    "version": 3
   },
   "file_extension": ".py",
   "mimetype": "text/x-python",
   "name": "python",
   "nbconvert_exporter": "python",
   "pygments_lexer": "ipython3",
   "version": "3.8.10"
  }
 },
 "nbformat": 4,
 "nbformat_minor": 5
}
