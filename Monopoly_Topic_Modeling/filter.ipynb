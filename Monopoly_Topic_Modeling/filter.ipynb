{
 "cells": [
  {
   "cell_type": "markdown",
   "id": "73d5e287",
   "metadata": {},
   "source": [
    "Author: Amy Weng\n",
    "\n",
    "This file filters through all the clean EEBO CSV files for date ranges and words. \n",
    "\n",
    "Based in part on the 2021 Data+ team's text filtering code: https://github.com/ABeeShake/Ethical-Consumption-Before-Capitalism/blob/main/topic%20modelling/code_actualrunning_awsvm.py"
   ]
  },
  {
   "cell_type": "code",
   "execution_count": 7,
   "id": "847a11ec",
   "metadata": {},
   "outputs": [],
   "source": [
    "import os\n",
    "import re\n",
    "import pandas as pd\n",
    "\n",
    "directory = '/home/rapiduser/Materials'\n",
    "file = directory + '/restoration.csv'\n",
    "texts = directory + '/Texts/'"
   ]
  },
  {
   "cell_type": "code",
   "execution_count": null,
   "id": "766334c1",
   "metadata": {},
   "outputs": [],
   "source": [
    "#code for adding all DATED texts within a certain date range to one CSV file\n",
    "def filterYear(folder,filename,start,end):\n",
    "    count = 0 \n",
    "    \n",
    "    outFileName = directory + \"\\\\\" + filename\n",
    "    outFile = pd.DataFrame(columns=('title','author','publisher','date','text'))\n",
    "    \n",
    "    for cleanFile in os.listdir(folder):\n",
    "        \n",
    "        #open and read each CSV \n",
    "        readFile = pd.read_csv(folder + \"\\\\\" + cleanFile) \n",
    "        \n",
    "        #read the entries of each row (each row is its own text)\n",
    "        for i in range(len(readFile.index)):\n",
    "            df = readFile[i:(i+1)]\n",
    "            \n",
    "            #convert the dates into the same format and exclude non-dated texts \n",
    "            #then check if date is within the given range\n",
    "            if isinstance(df.iloc[0].date,str):\n",
    "                date = (df.iloc[0].date)\n",
    "            else:\n",
    "                date = (df.iloc[0].date).astype(str)\n",
    "            \n",
    "            if ((date !='Date Not Found') & (date !='[\\'Date Not Found\\']')):\n",
    "                if (date and date.strip()):\n",
    "                    datenum = re.search('\\d{4}', date)  \n",
    "                    \n",
    "                    if (datenum != None):\n",
    "                        date = int(str(datenum.group(0)))\n",
    "                        \n",
    "                        if (int(date) in range(start, end+1)):                              \n",
    "                            \n",
    "                            outFile = outFile.append(df,ignore_index=True)\n",
    "            \n",
    "            count+=1\n",
    "            if (count % 10000 == 0):\n",
    "                print(count)\n",
    "    \n",
    "    outFile.to_csv(outFileName)"
   ]
  },
  {
   "cell_type": "code",
   "execution_count": 14,
   "id": "9437e5d2",
   "metadata": {},
   "outputs": [],
   "source": [
    "#code for adding all DATED texts w/ keywords to one CSV file\n",
    "def filterWord(outFile,word):\n",
    "    \n",
    "    outFileName = texts + outFile\n",
    "    outFile = pd.DataFrame(columns=('title','author','publisher','date','text'))\n",
    "    \n",
    "    readFile = pd.read_csv(file)\n",
    "        \n",
    "    for i in range(len(readFile.index)):\n",
    "        df = readFile[i:(i+1)]\n",
    "    \n",
    "        text = df.iloc[0].text\n",
    "    \n",
    "        if (re.search(word, text) != None):\n",
    "            outFile = outFile.append(df,ignore_index=True)\n",
    "        \n",
    "    outFile.to_csv(outFileName)\n",
    "\n",
    "    f = pd.read_csv(outFileName)\n",
    "    print(\"Total number of texts is:\",len(f.index)) \n",
    "    "
   ]
  },
  {
   "cell_type": "code",
   "execution_count": 10,
   "id": "01f14f03",
   "metadata": {},
   "outputs": [],
   "source": [
    "eic = re.compile('east india company|east-india company|eat-india company|eat india company|east-india-company')"
   ]
  },
  {
   "cell_type": "code",
   "execution_count": 15,
   "id": "9293a730",
   "metadata": {},
   "outputs": [
    {
     "name": "stdout",
     "output_type": "stream",
     "text": [
      "Total number of texts is: 484\n"
     ]
    }
   ],
   "source": [
    "filterWord(\"eic.csv\",eic)"
   ]
  },
  {
   "cell_type": "code",
   "execution_count": 13,
   "id": "70155b42",
   "metadata": {},
   "outputs": [],
   "source": [
    "#code for adding all DATED texts within a certain date range to one CSV file\n",
    "def filterFileByYear(inFile, outFile,start,end):\n",
    "\n",
    "    outFileName = texts + outFile\n",
    "    outFile = pd.DataFrame(columns=('title','author','publisher','date','text'))\n",
    "    \n",
    "    readFile = pd.read_csv(directory + inFile) \n",
    "    \n",
    "    #read the entries of each row (each row is its own text)\n",
    "    for i in range(len(readFile.index)):\n",
    "        df = readFile[i:(i+1)]\n",
    "    \n",
    "        date = df.iloc[0].date\n",
    "        \n",
    "        if (int(date) in range(start, end+1)):  \n",
    "            outFile = outFile.append(df,ignore_index=True)\n",
    "        \n",
    "    outFile.to_csv(outFileName)\n",
    "    \n",
    "    f = pd.read_csv(outFileName)\n",
    "    print(\"Total number of texts is:\",len(f.index))  "
   ]
  },
  {
   "cell_type": "code",
   "execution_count": 9,
   "id": "14dda75a",
   "metadata": {},
   "outputs": [
    {
     "name": "stdout",
     "output_type": "stream",
     "text": [
      "Total number of texts is: 10460\n"
     ]
    }
   ],
   "source": [
    "# 1st phase \n",
    "filterFileByYear(\"economics.csv\",\"1st phase.csv\",1660,1678)"
   ]
  },
  {
   "cell_type": "code",
   "execution_count": 11,
   "id": "34cfee4c",
   "metadata": {},
   "outputs": [
    {
     "name": "stdout",
     "output_type": "stream",
     "text": [
      "Total number of texts is: 6986\n"
     ]
    }
   ],
   "source": [
    "# 2nd phase \n",
    "filterFileByYear(\"economics.csv\",\"2nd phase.csv\",1679,1685)"
   ]
  },
  {
   "cell_type": "code",
   "execution_count": 4,
   "id": "f7d6fa78",
   "metadata": {},
   "outputs": [
    {
     "name": "stdout",
     "output_type": "stream",
     "text": [
      "Total number of texts is: 6697\n"
     ]
    }
   ],
   "source": [
    "# 3rd phase\n",
    "filterFileByYear(\"economics.csv\",\"3rd phase.csv\",1688,1694)"
   ]
  },
  {
   "cell_type": "code",
   "execution_count": 5,
   "id": "fc1fa932",
   "metadata": {},
   "outputs": [
    {
     "name": "stdout",
     "output_type": "stream",
     "text": [
      "Total number of texts is: 5419\n"
     ]
    }
   ],
   "source": [
    "filterFileByYear(\"economics.csv\",\"post-restoration.csv\",1695,1700)"
   ]
  }
 ],
 "metadata": {
  "kernelspec": {
   "display_name": "Python 3",
   "language": "python",
   "name": "python3"
  },
  "language_info": {
   "codemirror_mode": {
    "name": "ipython",
    "version": 3
   },
   "file_extension": ".py",
   "mimetype": "text/x-python",
   "name": "python",
   "nbconvert_exporter": "python",
   "pygments_lexer": "ipython3",
   "version": "3.8.10"
  }
 },
 "nbformat": 4,
 "nbformat_minor": 5
}
