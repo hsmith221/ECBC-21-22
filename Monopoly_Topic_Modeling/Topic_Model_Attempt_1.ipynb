{
 "cells": [
  {
   "cell_type": "markdown",
   "id": "9c030804",
   "metadata": {},
   "source": [
    "# Topic Modeling Attempt #1"
   ]
  },
  {
   "cell_type": "markdown",
   "id": "d2041a49",
   "metadata": {},
   "source": [
    "Author: Heidi Smith\n",
    "\n",
    "This an an inital try at topic modeling using an LDA model on the small scale of monopoly/EIC texts"
   ]
  },
  {
   "cell_type": "code",
   "execution_count": null,
   "id": "0b9e4c81",
   "metadata": {},
   "outputs": [],
   "source": []
  }
 ],
 "metadata": {
  "kernelspec": {
   "display_name": "Python 3",
   "language": "python",
   "name": "python3"
  },
  "language_info": {
   "codemirror_mode": {
    "name": "ipython",
    "version": 3
   },
   "file_extension": ".py",
   "mimetype": "text/x-python",
   "name": "python",
   "nbconvert_exporter": "python",
   "pygments_lexer": "ipython3",
   "version": "3.8.8"
  }
 },
 "nbformat": 4,
 "nbformat_minor": 5
}
