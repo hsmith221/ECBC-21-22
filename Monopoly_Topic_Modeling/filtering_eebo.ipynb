{
 "cells": [
  {
   "cell_type": "markdown",
   "id": "73d5e287",
   "metadata": {},
   "source": [
    "The code in this file filters through the master folder of clean EEBO CSV files to create subfolders of texts. \n",
    "\n",
    "*Based in part on the 2021 Data+ team's text filtering code: https://github.com/ABeeShake/Ethical-Consumption-Before-Capitalism/blob/main/topic%20modelling/code_actualrunning_awsvm.py"
   ]
  },
  {
   "cell_type": "code",
   "execution_count": 8,
   "id": "847a11ec",
   "metadata": {},
   "outputs": [],
   "source": [
    "import os\n",
    "import re\n",
    "import pandas as pd\n",
    "import string\n",
    "\n",
    "directory = r'C:\\Users\\amycw\\Desktop\\ecbc research'\n",
    "eebofolder = directory+\"\\\\\"+'eebo_clean'\n",
    "trial = directory+\"\\\\\"+'trial'\n",
    "restorationFolder = directory+\"\\\\\"+'restoration_files'\n",
    "monopolyFolder = directory + \"\\\\\" + 'monopoly_eebo'"
   ]
  },
  {
   "cell_type": "code",
   "execution_count": 10,
   "id": "d08a67d1",
   "metadata": {},
   "outputs": [
    {
     "name": "stdout",
     "output_type": "stream",
     "text": [
      "Empty DataFrame\n",
      "Columns: []\n",
      "Index: []\n"
     ]
    }
   ],
   "source": [
    "#code for adding all DATED texts to one CSV file\n",
    "outFileName = directory + r'\\dated_eebo.csv'\n",
    "texts = pd.DataFrame()\n",
    "count = 0\n",
    "\n",
    "for cleanFile in os.listdir(trial):\n",
    "    #open and read each CSV \n",
    "    readFile = pd.read_csv(trial + \"\\\\\" + cleanFile) \n",
    "    #read the entries of each row (each row is its own text)\n",
    "    for i in range(len(readFile.index)):\n",
    "        row = readFile[i:(i+1)]\n",
    "        #convert the dates into the same format and exclude non-dated texts \n",
    "        if isinstance(row.iloc[0].date,str):\n",
    "            date = (row.iloc[0].date)\n",
    "        else:\n",
    "            date = (row.iloc[0].date).astype(str)\n",
    "        if ((date !='Date Not Found') & (date !='[\\'Date Not Found\\']')):\n",
    "            texts.append(row)\n",
    "        #track progress (there are over 70k texts)\n",
    "        count+=1\n",
    "        if (count % 10000 == 0):\n",
    "            print(count)\n",
    "print(texts)\n",
    "# texts.to_csv(outFileName)"
   ]
  },
  {
   "cell_type": "code",
   "execution_count": null,
   "id": "c3283629",
   "metadata": {},
   "outputs": [],
   "source": [
    "def getDate(row):\n",
    "    if isinstance(row.iloc[0].date,str):\n",
    "        date = (row.iloc[0].date)\n",
    "    else:\n",
    "        date = (row.iloc[0].date).astype(str)\n",
    "    if (date and date.strip()):\n",
    "            datenum = re.search('\\d{4}', date)\n",
    "    return datenum"
   ]
  },
  {
   "cell_type": "code",
   "execution_count": 46,
   "id": "09e40abb",
   "metadata": {
    "scrolled": true
   },
   "outputs": [],
   "source": [
    "#loop through every single clean csv file in my eebofolder\n",
    "#filtering for texts within the Restoration era 1660-1700 \n",
    "#move all relevant texts to the \"relevant eebo texts\" folder\n",
    "#each relevant eebo text will be its own csv file \n",
    "\n",
    "# results = 31,479 texts (roughly half of the EEBO database)\n",
    "for cleanFile in os.listdir(eebofolder):\n",
    "    readFile = pd.read_csv(eebofolder + \"\\\\\" + cleanFile) \n",
    "    for i in range(len(readFile.index)):\n",
    "        row = readFile[i:(i+1)]\n",
    "        curr_file_name = (cleanFile.rsplit('.', 1)[0]) +'_'+str(i) + ('.csv')\n",
    "        name = restorationFolder + \"\\\\\" + curr_file_name\n",
    "        if isinstance(text.iloc[0].date,str):\n",
    "            date = (text.iloc[0].date)\n",
    "        else:\n",
    "            date = (text.iloc[0].date).astype(str)\n",
    "        if (date!='Date Not Found'):\n",
    "            if (date.isdigit()):\n",
    "                if (int(date) in range(1660,1714)):\n",
    "                    text.to_csv(name, index=False)\n",
    "            else:\n",
    "                datestr = date\n",
    "                if (datestr and datestr.strip()):\n",
    "                    datenum = re.search('\\d{4}', datestr)\n",
    "                    if (datenum != None):\n",
    "                        if (int(str(datenum.group(0))) in range(1660, 1700)):\n",
    "                            text.to_csv(name, index=False)"
   ]
  },
  {
   "cell_type": "code",
   "execution_count": 52,
   "id": "0cf739cf",
   "metadata": {},
   "outputs": [],
   "source": [
    "# Filter through the restoration texts and find which ones mention monopoly\n",
    "# output all the texts to monopolyFolder\n",
    "# result = 785 texts (2% of Restoration era texts in EEBO) mention monopoly in some form\n",
    "# search in the eebo database itself yields 801 results \n",
    "for name in os.listdir(restorationFolder):\n",
    "    readFile = pd.read_csv(restorationFolder + \"\\\\\" + name)\n",
    "    num_rows = readFile.index\n",
    "    num_texts = len(num_rows)\n",
    "    for i in range(num_texts):\n",
    "        data = readFile[i:(i+1)]\n",
    "        text = data.iloc[0].text\n",
    "        lexicon = re.compile('monopoly|monopolization|monopolies|monopolium|monopolion|monopolie|monopolist|monopolizer|monopolize|monopolizes|monopolye|monopolyes')\n",
    "        if (re.search(lexicon, text) != None):\n",
    "            moveFile = monopolyFolder + \"\\\\\" + name\n",
    "            data.to_csv(moveFile, index=False)\n",
    "        else:\n",
    "            continue"
   ]
  }
 ],
 "metadata": {
  "kernelspec": {
   "display_name": "Python 3",
   "language": "python",
   "name": "python3"
  },
  "language_info": {
   "codemirror_mode": {
    "name": "ipython",
    "version": 3
   },
   "file_extension": ".py",
   "mimetype": "text/x-python",
   "name": "python",
   "nbconvert_exporter": "python",
   "pygments_lexer": "ipython3",
   "version": "3.8.8"
  }
 },
 "nbformat": 4,
 "nbformat_minor": 5
}
