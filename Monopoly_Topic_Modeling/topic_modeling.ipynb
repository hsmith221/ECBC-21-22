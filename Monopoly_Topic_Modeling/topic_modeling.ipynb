{
 "cells": [
  {
   "cell_type": "markdown",
   "id": "22dcf014",
   "metadata": {},
   "source": [
    "# Topic Modeling"
   ]
  },
  {
   "cell_type": "markdown",
   "id": "e00aa4ba",
   "metadata": {},
   "source": [
    "By Amy Weng\n",
    "\n",
    "Adapted from Heidi Smith's File (Topic_Model_Attempt_1.ipynb) and from the 2021 Data+ team's code (https://github.com/ABeeShake/Ethical-Consumption-Before-Capitalism/blob/main/topic%20modelling/code_actualrunning_awsvm.py)\n",
    "\n",
    "https://towardsdatascience.com/topic-model-visualization-using-pyldavis-fecd7c18fbf6"
   ]
  },
  {
   "cell_type": "code",
   "execution_count": 2,
   "id": "9b624c32",
   "metadata": {},
   "outputs": [],
   "source": [
    "import gensim\n",
    "from gensim.utils import simple_preprocess\n",
    "import nltk\n",
    "from nltk.corpus import stopwords\n",
    "import pandas as pd\n",
    "import gensim.corpora as corpora\n",
    "from pprint import pprint\n",
    "import os\n",
    "from csv import writer\n",
    "import re"
   ]
  },
  {
   "cell_type": "code",
   "execution_count": 22,
   "id": "dfc8c752",
   "metadata": {},
   "outputs": [],
   "source": [
    "directory = '/home/rapiduser/Materials/'\n",
    "file = directory + 'economics.csv'\n",
    "topicModel = directory + '/topic model/eic_uncensored_0.csv'"
   ]
  },
  {
   "cell_type": "code",
   "execution_count": 20,
   "id": "6fc082ae",
   "metadata": {},
   "outputs": [],
   "source": [
    "# Read in csv\n",
    "df = pd.read_csv(file)"
   ]
  },
  {
   "cell_type": "code",
   "execution_count": 23,
   "id": "c0f5b875",
   "metadata": {},
   "outputs": [
    {
     "name": "stdout",
     "output_type": "stream",
     "text": [
      "30689\n"
     ]
    }
   ],
   "source": [
    "f = pd.read_csv(file)\n",
    "n = len(f.index)\n",
    "print(n)           \n",
    "\n",
    "# for i in range(n):\n",
    "#     df = f[i:(i+1)]\n",
    "\n",
    "#     newFile = ('eic_uncensored.csv'.rsplit('.', 1)[0]) +'_'+str(i) + ('.csv')\n",
    "#     fullname = topicModel+newFile\n",
    "    \n",
    "#     df.to_csv(fullname, index=False)"
   ]
  },
  {
   "cell_type": "code",
   "execution_count": 16,
   "id": "da8ce956",
   "metadata": {},
   "outputs": [],
   "source": [
    "# Remove stopwords/preprocess\n",
    "stop_words = stopwords.words('english')\n",
    "stop_words.extend(['thus', 'thereof', 'thence', 'thee', 'therein', \n",
    "                    'wherein', 'whereby', 'whereas', 'also', 'us', 'upon', \n",
    "                    'would', 'within', 'indeed', 'become', 'viz', 'per', 'anno', \n",
    "                    'whilst', 'thoe', 'ome', 'uch', 'said', 'shall', 'hath',\n",
    "                    'may','made','much','one'])\n",
    "\n",
    "def preprocess(data):\n",
    "    for text in data:\n",
    "        yield(gensim.utils.simple_preprocess(str(text)))\n",
    "        \n",
    "def remove_stopwords(data):\n",
    "    return [[word for word in simple_preprocess(str(doc))\n",
    "            if word not in stop_words] for doc in data]"
   ]
  },
  {
   "cell_type": "code",
   "execution_count": 19,
   "id": "85d56d09",
   "metadata": {},
   "outputs": [],
   "source": [
    "data = df.text.values.tolist()\n",
    "data = list(preprocess(data))\n",
    "data = remove_stopwords(data)\n",
    "\n",
    "# Creation of corpus\n",
    "# Dictionary\n",
    "id2word = corpora.Dictionary(data)\n",
    "# Term Document Frequency\n",
    "corpus = [id2word.doc2bow(text) for text in data]\n",
    "# Train LDA model\n",
    "num_topics = 1\n",
    "\n",
    "# Build model\n",
    "lda_model = gensim.models.LdaMulticore(corpus=corpus,\n",
    "                                    id2word=id2word,\n",
    "                                    num_topics=num_topics)\n"
   ]
  },
  {
   "cell_type": "code",
   "execution_count": 21,
   "id": "b1b75683",
   "metadata": {},
   "outputs": [
    {
     "name": "stdout",
     "output_type": "stream",
     "text": [
      "[(0,\n",
      "  '0.006*\"aid\" + 0.005*\"king\" + 0.005*\"great\" + 0.004*\"time\" + 0.004*\"sir\" + '\n",
      "  '0.003*\"plaintiff\" + 0.003*\"good\" + 0.003*\"make\" + 0.003*\"house\" + '\n",
      "  '0.003*\"two\"')]\n"
     ]
    }
   ],
   "source": [
    "# # Print keyword in each topic\n",
    "pprint(lda_model.print_topics())\n",
    "doc_lda = lda_model[corpus]"
   ]
  },
  {
   "cell_type": "code",
   "execution_count": null,
   "id": "8a2b4b95",
   "metadata": {},
   "outputs": [],
   "source": [
    "medical = re.compile('corruption|consumption|vein|circulation|body|corrupt|consume|wasting|waste|blood|physician|decay|canker|cancer|disease|illness|remedy|cure|sickness|hepatitis|fever|spirit|brain|mind|vital|therapeutic|degeneration|degenerate|plague|smells|putrid|bad|tetrid|breathing|wholesome|healthy|unhealthy|sane|insane|nervous|languish|faculties|enfeeblement|drinks|tuberculosis|constitution|bile|black bile|yellow bile|phlegm|lung|sores|fog|smoke| diagnosis|prognosis |fiber |atrophy |morbid|mortal| mortality|nerves|inanition|defect|distemper|swelling|upset| stomach|cough|exercise| unwholesome|evacuation|fatal|fatality|vessels|hemorrhage|bleeding|bleed| melancholy|diabetes|asthma|vomit|opiate|opium|ulcer|envy|jealousy|spoil|liver|vein|supple|heart|mouth|cured|pox')\n",
    "political = re.compile('commonwealth|politic|political|body politic|government|prince|war|ruler|king|queen|extortion|oppression|restoration|revolution|constitution|navy|military|army|strength|power|might|england|britain|ireland|netherlands|scotland|netherlands|dutch|spanish|germany|holy roman empire|mughal|christian|christianity|god|state|country|parliament|crisis|house of commons|house of lords|lord|crisis|national|governor|public|publicke|low countries|controversy|controversies|authority|empire|bills|treatise|treatises|civilian|protection|pirates|pirate|civil war|massacre|indonesia|india|china|argier|tunis|kingdom|provincial|scandalous|scandal|majesty|subject|christiandom|enemy|turkish|ally|public|patent|trial|law|case|counsel|court|just|unjust|equal|good|evil|justice|natural|rights|virtue|jury|juries|jurisprudence|ethics|abuse|unethical|unlawful|statute|vicious|vice|cruel|prison|extortion|oppression|slave|race|nation|cruelty|grief|punishment|penalty|retribution')\n",
    "\n",
    "economic = re.compile(\"economy|economic|money|monies|bullion|bullionist|mercantile|fiscal|taxation|exchange|corporation|corporate|company|merchant|joint-stock|merchants|currency|consumption|consume|consuming|consumables|trade|traffic|traffique|commerce|commercial|price|prices|spending|east indies|east india company|east-india company|eat-india company|east-india-company|monopoly|monopolization|monopolies|monopolium|monopolion|monopolie|monopolist|monopolizer|monopolize|monopolizes|monopolye|monopolyes|debt|credit|debtor|creditor|decoctor|bank|banks|usury|interest rate|interest|interest rates|importation|exportation|coin|employment|austerity|goods|treasure|commodities|income|commodity|revenue|land|profitable|unprofitable|industry|work|usurer|estate|property|substance|consumer|free trade\")\n",
    "religious = re.compile('Christian|charity|luxury|avarice|greed|vanity|pride|sloth|gluttony|simony|fraud|incest|theft|deceit|lucrum|cessans|stations|station|silk|velvet|damask|cinnamon|pepper|ginger|sumptuary|laws|abnegatio|self-denial|mendicancy|sin|root|evil|render|caesar|heresy|prodigality|prodigal||seed|soil|crop|yield|kingdom|field|sow|sowed|wheat|barn|weeds|enemy|treasure|treasures|rust|steel|heart|gold|silver|copper|belt|belts|worker|staff|journey|thorns|deceit|wealth|rich|riches|green|righteous|righteousness|thrive|leaf|leaves|wise|store|gulp|choice|food|oil|glance|sprout|sky|eagle|endure|crown|generation|secure|trust|security|fortune|sun|radiance|moon|splendor|rich|arrogant|hope in wealth|tower|pleasant|palace|deceive|tempt|free|money|content|material possession|in need|goods|brother|sister|eve|adam|samson|delilah|david|bathsheba|lust|lustful|lustfully|sin|devil|lechery|whore|cuckold|unnatural|natural|obey|disobey|deceive|cheat|cheating|modesty|sermon|christ|heaven|godly|saint|altar|candles|canon|mass|sacrament|cross|pastor|ritual|cleansing|church|salvation|savior|jesus|lord|witness|saved|communion|wine|bread|faith|anathema|anointing|apostle|apocalypse|atonement|baptism|holy|sacred|spirit|bishop|born-again|calvinist|evangelical|protestant|catholic|covenant|conviction|creed|demon|deacon|disciple|disciples|satan|satanic|fellowship|gospel|hallelujah|hell|indulgence|indulgent|justify|justification|lucifer|messiah|manifestation|god|zion|ordained|ordinance|ordinate|congregation|parish|parishioner|prophet|repent|sanctuary|redeem|redeemed|sanctified|sanctify|second|coming|testament|tribulation|trinity|words|bible|word|grace|absolution|adultery|obedience|anoint|antichrist|archangel|armageddon|ascension|atone|vision|biblical|blasphemy|bless|blessing|blessed|chalice|chapel|chaplain|cherub|condemnation|condemn|confession|confess|conscience|consecration|contrite|contrition|damnation|damned|damn|day|divine|doctrine|ecumenical|epistle|eternal|evangelicalism|excommunication|exile|resurrection|forgive|forgiveness|freedom|fundamental|gentile|revelation|heresy|Jehovah|judgment|judaism|supper|liturgy|ministry|missionary|mission|ordination|orthodox|pagan|pagans|paganism|passover|papacy|pope|christianity|abraham|penance|genesis|exodus|leviticus|numbers|deuteronomy|moses|union|pray|prayer|predestination|prophecy|psalm|psalms|providence|purgatory|rapture|reconciliation|reconcile|redemption|reform|reformed|reincarnation|reincarnate|resurrect|roman|rome|sabbath|sacrifice|sacrifices|satanism|save|saved|sinful|nature|creation|create|death|offering|offerings|tongues|soul|commandments|transgression|universal|moral|venial|virgin|perfect|vulgate|worship|scripture|scriptures|priesthood|ten|twelve|annihilate|proverb|proverbs|matthew|mark|luke|john|peter|john|james|samuel|timothy|isaiah|hebrew|hebrews|job|slave|slaves|human|reap|holiness|parable|parables|knowledge|seed|seeds|samaritan|sown|abundance|persecution|deceitful|fruitful|unfruitful|plant|planted|reject|rejected|integrity|rejoice|rejoiced|wealth|wicked|destruction|grievance|desire|desires|entice|enticed|unfaithful|tenant|tenants|guilt|guilty|splendor|curse|almighty|defile|defiled|falsehood|false|lie|lies|confront|confronts|contempt')"
   ]
  }
 ],
 "metadata": {
  "kernelspec": {
   "display_name": "Python 3",
   "language": "python",
   "name": "python3"
  },
  "language_info": {
   "codemirror_mode": {
    "name": "ipython",
    "version": 3
   },
   "file_extension": ".py",
   "mimetype": "text/x-python",
   "name": "python",
   "nbconvert_exporter": "python",
   "pygments_lexer": "ipython3",
   "version": "3.8.10"
  }
 },
 "nbformat": 4,
 "nbformat_minor": 5
}
