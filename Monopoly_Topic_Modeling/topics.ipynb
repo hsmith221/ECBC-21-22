{
 "cells": [
  {
   "cell_type": "markdown",
   "id": "22dcf014",
   "metadata": {},
   "source": [
    "# Topic Modeling"
   ]
  },
  {
   "cell_type": "markdown",
   "id": "e00aa4ba",
   "metadata": {},
   "source": [
    "By Amy Weng\n",
    "\n",
    "Adapted from Heidi Smith's File (Topic_Model_Attempt_1.ipynb)"
   ]
  },
  {
   "cell_type": "code",
   "execution_count": null,
   "id": "9b624c32",
   "metadata": {},
   "outputs": [],
   "source": [
    "import pandas as pd\n",
    "import re\n",
    "\n",
    "import gensim\n",
    "from gensim.utils import simple_preprocess\n",
    "from nltk.corpus import stopwords\n",
    "import gensim.corpora as corpora"
   ]
  },
  {
   "cell_type": "code",
   "execution_count": null,
   "id": "dfc8c752",
   "metadata": {},
   "outputs": [],
   "source": [
    "directory = '/home/rapiduser/Materials/'\n",
    "results = '/home/rapiduser/Materials/results'"
   ]
  },
  {
   "cell_type": "code",
   "execution_count": null,
   "id": "da8ce956",
   "metadata": {},
   "outputs": [],
   "source": [
    "# Remove stopwords/preprocess\n",
    "stop_words = stopwords.words('english')\n",
    "stop_words.extend(['thus', 'thereof', 'thence', 'thee', 'therein', \n",
    "                    'wherein', 'whereby', 'whereas', 'also', 'us', 'upon', \n",
    "                    'would', 'within', 'indeed', 'become', 'viz', 'per', 'anno', \n",
    "                    'whilst', 'thoe', 'ome', 'uch', 'said', 'shall', 'hath',\n",
    "                    'may','made','much','one','mr','how','sun','like','full','one',\n",
    "                    'two','three','four','five','day','say','thou','make','men','man',\n",
    "                    'sam','tom','done','do','have','well','know','heard','hear',\n",
    "                    'saying','come','never','time','think','came','till','might',\n",
    "                    'could','begin','began','took','went','last','matter','seeing',\n",
    "                    'go','many','few','see','take','found','without','little','long',\n",
    "                    'put','brought','bring','another','th','aforesaid','old','son',\n",
    "                    'tell'])\n",
    "\n",
    "def preprocess(data):\n",
    "    for text in data:\n",
    "        yield(gensim.utils.simple_preprocess(str(text)))\n",
    "        \n",
    "def remove_stopwords(data):\n",
    "    return [[word for word in simple_preprocess(str(doc))\n",
    "            if word not in stop_words] for doc in data]"
   ]
  },
  {
   "cell_type": "code",
   "execution_count": null,
   "id": "9ec9bdae",
   "metadata": {},
   "outputs": [],
   "source": [
    "# lexicons\n",
    "publica = \"economy|economic|money|monies|bullion|bullionist|mercantile|fiscal|taxation|exchange|corporation|corporate|company|merchant|joint-stock|merchants|currency|consumption|consume|consuming|consumables|trade|traffic|traffique|commerce|commercial|price|prices|spending|east indies|east india company|east-india company|eat-india company|east-india-company|monopoly|monopolization|monopolies|monopolium|monopolion|monopolie|monopolist|monopolizer|monopolize|monopolizes|monopolye|monopolyes|debt|credit|debtor|creditor|decoctor|bank|banks|usury|interest rate|interest|interest rates|importation|exportation|coin|employment|austerity|goods|treasure|commodities|income|commodity|revenue|land|profitable|unprofitable|industry|work|usurer|estate|property|substance|consumer|free trade|tobacco|coffee|chocolate|tea|interet|india|stock|dutch|ships|factory|netherlands|king|parliament|england|english|indian|indies|silk|spices|nation|adventurers|bantam|cinnamon|pepper|ginger|gold|silver|copper|kingdom|commonwealth|politic|political|body politic|government|prince|war|ruler|queen|extortion|oppression|restoration|revolution|constitution|navy|military|army|strength|power|england|britain|ireland|netherlands|scotland|spanish|germany|holy roman empire|mughal|country|parliament|crisis|commons|lords|lord|crisis|national|governor|public|publicke|low countries|controversy|controversies|authority|empire|bill|bills|treatise|treatises|civilian|protection|pirates|pirate|civil war|massacre|indonesia|india|china|argier|tunis|kingdom|provincial|scandalous|scandal|majesty|subject|christiandom|enemy|turkish|ally|charles|james|william|mary|tory|whig|tories|whigs|stuart\"\n",
    "religio = 'Christian|charity|luxury|avarice|greed|vanity|pride|sloth|gluttony|simony|fraud|incest|theft|deceit|lucrum|cessans|john|stations|station|velvet|damask|sumptuary|religion|popery|papist|abnegatio|self-denial|mendicancy|sin|root|evil|render|caesar|heresy|prodigality|prodigal|truth|hypocrisy|green|righteous|righteousness|thrive|wise|endure|crown|generation|secure|trust|security|fortune|sun|radiance|moon|splendor|rich|arrogant|tower|pleasant|palace|deceive|tempt|brother|sister|eve|adam|samson|delilah|david|bathsheba|lust|lustful|lustfully|sin|devil|lechery|whore|cuckold|unnatural|natural|obey|disobey|deceive|cheat|cheating|modesty|sermon|christ|heaven|godly|saint|altar|candles|canon|mass|sacrament|cross|pastor|ritual|cleansing|church|salvation|savior|wickedness|depravity|jesus|lord|witness|saved|communion|wine|bread|faith|anathema|anointing|apostle|apocalypse|atonement|baptism|holy|sacred|spirit|bishop|born-again|calvinist|evangelical|protestant|catholic|covenant|conviction|creed|demon|deacon|disciple|disciples|satan|satanic|fellowship|gospel|hallelujah|hell|indulgence|indulgent|justify|justification|lucifer|messiah|manifestation|god|zion|ordained|ordinance|ordinate|congregation|parish|parishioner|prophet|repent|sanctuary|redeem|redeemed|sanctified|sanctify|second|coming|testament|tribulation|trinity|words|bible|word|grace|absolution|adultery|obedience|anoint|antichrist|archangel|armageddon|ascension|atone|vision|biblical|blasphemy|bless|blessing|blessed|chalice|chapel|chaplain|cherub|condemnation|condemn|confession|confess|conscience|consecration|contrite|contrition|damnation|damned|damn|day|divine|doctrine|ecumenical|epistle|eternal|evangelicalism|excommunication|exile|resurrection|forgive|forgiveness|freedom|fundamental|gentile|revelation|heresy|Jehovah|judgment|judaism|supper|liturgy|ministry|missionary|mission|ordination|orthodox|pagan|pagans|paganism|passover|papacy|pope|christianity|abraham|penance|genesis|exodus|leviticus|numbers|deuteronomy|moses|union|pray|prayer|predestination|prophecy|psalm|psalms|providence|purgatory|rapture|reconciliation|reconcile|redemption|reform|reformed|reincarnation|reincarnate|resurrect|roman|rome|sabbath|sacrifice|sacrifices|satanism|save|saved|sinful|nature|creation|create|death|offering|offerings|tongues|soul|commandments|transgression|universal|moral|venial|virgin|perfect|vulgate|worship|scripture|scriptures|priesthood|ten|twelve|annihilate|proverb|proverbs|matthew|mark|luke|john|peter|john|james|samuel|timothy|isaiah|hebrew|hebrews|job|slave|slaves|human|reap|holiness|parable|parables|knowledge|samaritan|sown|abundance|persecution|deceitful|reject|rejected|integrity|rejoice|rejoiced|wealth|wicked|destruction|grievance|desire|desires|entice|enticed|unfaithful|tenant|tenants|guilt|guilty|splendor|curse|almighty|defile|defiled|falsehood|false|lie|lies|confront|confronts|contempt'\n",
    "medica = 'corruption|consumption|vein|circulation|circulate|body|corrupt|consume|wasting|waste|blood|physician|decay|canker|cancer|disease|illness|remedy|remedies|cure|sickness|hepatitis|fever|spirit|brain|mind|clotting|clots|zodiac|wintergreen|herbs|herb|vital|therapeutic|degeneration|degenerate|plague|smells|surgeon|surgeons|putrid|bad|tetrid|breathing|wholesome|healthy|unhealthy|sane|insane|nervous|death|deceased|dead|dying|sick|languish|faculties|enfeeblement|drinks|tuberculosis|plague|hysteria|corpora|corpus|malaria|medical|medicine|miasma|sanguine|constitution|bile|hot|cold|dry|moist|vita|sana|bezoar|asthma|leech|leeches|phlegm|lung|sores|fog|smoke|diagnosis|prognosis|fiber|atrophy|morbid|mortal|mortality|nerves|inanition|defect|distemper|swelling|upset|stomach|cough|exercise|unwholesome|evacuation|fatal|fatality|vessels|hemorrhage|bleeding|bleed|melancholy|diabetes|asthma|vomit|opiate|opium|ulcer|envy|jealousy|spoil|liver|vein|supple|heart|mouth|cured|pox|putrid|decay|dissolution|contamination|corruptionem|corruptio|spoiling|destroy|perversion|vitiation|vitiare|impairment|vitium|vice|perverto'\n",
    "\n",
    "pub = re.compile(publica)\n",
    "rel = re.compile(religio)\n",
    "med= re.compile(medica)"
   ]
  },
  {
   "cell_type": "code",
   "execution_count": null,
   "id": "6d623542",
   "metadata": {},
   "outputs": [],
   "source": [
    "def model(df):\n",
    "    data = df.text.values.tolist()\n",
    "    data = list(preprocess(data))\n",
    "    data = remove_stopwords(data)\n",
    "\n",
    "    id2word = corpora.Dictionary(data)\n",
    "    # Term Document Frequency\n",
    "    corpus = [id2word.doc2bow(text) for text in data]\n",
    "    num_topics = 1\n",
    "    lda_model = gensim.models.LdaMulticore(corpus=corpus,\n",
    "                                        id2word=id2word,\n",
    "                                        num_topics=num_topics)\n",
    "    for idx, topic in lda_model.show_topics(formatted=False, num_words= 10):\n",
    "        return ('{}'.format(' '.join([w[0] for w in topic])))\n",
    "\n",
    "def sortByTopics(topics):\n",
    "\n",
    "    p = len(re.findall(pub, topics))/10\n",
    "    r = len(re.findall(rel, topics))/10\n",
    "    m = len(re.findall(med, topics))/10\n",
    "\n",
    "    maxRatio = max(p,r,m)\n",
    "\n",
    "    if maxRatio==0:\n",
    "        return 'altera'  \n",
    "    elif p==maxRatio: \n",
    "        return 'publica'\n",
    "    elif r==maxRatio:\n",
    "        return 'religio'\n",
    "    else:\n",
    "        return 'medica'\n"
   ]
  },
  {
   "cell_type": "code",
   "execution_count": null,
   "id": "a65a9112",
   "metadata": {},
   "outputs": [],
   "source": [
    "f_name = 'eic_uncensored.csv'\n",
    "folder = 'Texts/'\n",
    "myCSV = directory + folder + f_name\n",
    "\n",
    "df_p = pd.DataFrame(columns=('title','author','publisher','date','text'))\n",
    "df_r = pd.DataFrame(columns=('title','author','publisher','date','text'))\n",
    "df_m = pd.DataFrame(columns=('title','author','publisher','date','text'))\n",
    "df_a = pd.DataFrame(columns=('title','author','publisher','date','text'))\n",
    "\n",
    "# Read in csv\n",
    "readFile = pd.read_csv(myCSV)\n",
    "\n",
    "# Iterate over each text (row) in csv\n",
    "for i in range(len(readFile.index)):\n",
    "    \n",
    "    df = readFile[i:(i+1)]\n",
    "    \n",
    "    topics = model(df)\n",
    "    \n",
    "    t = sortByTopics(topics)\n",
    "    \n",
    "    if t=='publica':\n",
    "        df_p = df_p.append(df)\n",
    "    \n",
    "    elif t=='religio':\n",
    "        df_r = df_r.append(df)\n",
    "    \n",
    "    elif t=='medica':\n",
    "        df_m = df_m.append(df)\n",
    "    \n",
    "    else:\n",
    "        df_a = df_a.append(df)\n",
    "    \n",
    "if not df_p.empty:    \n",
    "    df_p.to_csv(directory+'topic model/publica/'+f_name) \n",
    "    print(\"Publica: \",len(df_p))\n",
    "\n",
    "if not df_r.empty:    \n",
    "    df_r.to_csv(directory+'topic model/religio/'+f_name)\n",
    "    print(\"Religio: \",len(df_r))\n",
    "\n",
    "if not df_m.empty:    \n",
    "    df_m.to_csv(directory+'topic model/medica/'+f_name)\n",
    "    print(\"Medica: \",len(df_m))\n",
    "\n",
    "if not df_a.empty:    \n",
    "    df_a.to_csv(directory+'topic model/altera/'+f_name)\n",
    "    print(\"Altera: \",len(df_r))\n"
   ]
  },
  {
   "cell_type": "code",
   "execution_count": null,
   "id": "dfb00ffe",
   "metadata": {},
   "outputs": [],
   "source": [
    "# import pyLDAvis\n",
    "# import pyLDAvis.gensim_models\n",
    "# # Visualize the topics\n",
    "# pyLDAvis.enable_notebook()\n",
    "# LDAvis_prepared = pyLDAvis.gensim_models.prepare(lda_model, corpus, id2word)\n",
    "# pyLDAvis.save_html(LDAvis_prepared, results+'/post-restoration.html')\n",
    "# LDAvis_prepared\n"
   ]
  }
 ],
 "metadata": {
  "kernelspec": {
   "display_name": "Python 3",
   "language": "python",
   "name": "python3"
  },
  "language_info": {
   "codemirror_mode": {
    "name": "ipython",
    "version": 3
   },
   "file_extension": ".py",
   "mimetype": "text/x-python",
   "name": "python",
   "nbconvert_exporter": "python",
   "pygments_lexer": "ipython3",
   "version": "3.8.10"
  }
 },
 "nbformat": 4,
 "nbformat_minor": 5
}
