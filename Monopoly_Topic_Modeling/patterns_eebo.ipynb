{
 "cells": [
  {
   "cell_type": "markdown",
   "id": "73d5e287",
   "metadata": {},
   "source": [
    "This file finds and graphs the frequencies of target words over time.\n",
    "\n",
    "Author: Amy Weng "
   ]
  },
  {
   "cell_type": "code",
   "execution_count": null,
   "id": "847a11ec",
   "metadata": {},
   "outputs": [],
   "source": [
    "import re\n",
    "import pandas as pd\n",
    "import matplotlib.pyplot as plt\n",
    "import numpy as np\n",
    "\n",
    "directory = r'C:\\Users\\amycw\\Desktop\\ecbc research'\n",
    "folder = directory+\"\\\\\"+'eebo_clean'\n",
    "eicfile = directory + \"\\\\\" + 'eic_dated.csv'\n",
    "monopolyfile = directory + \"\\\\\" + 'monopoly_dated.csv'"
   ]
  },
  {
   "cell_type": "code",
   "execution_count": null,
   "id": "ffdaa5cb",
   "metadata": {},
   "outputs": [],
   "source": [
    "def authors(filename, start, end):\n",
    "    authors = {} \n",
    "    readFile = pd.read_csv(filename) \n",
    "    for i in range(len(readFile.index)):\n",
    "        data = readFile[i:(i+1)]\n",
    "        date = data.iloc[0].date\n",
    "        if (int(date) in range(start, end)):\n",
    "            a = data.iloc[0].author\n",
    "            if a not in authors.keys(): \n",
    "                authors[a] = 0\n",
    "            authors[a] += 1\n",
    "    for k,v in sorted (authors.items(), key=lambda kv:(kv[1], kv[0]), reverse=True):\n",
    "        print(k + \": \" + str(v) + \" \")"
   ]
  },
  {
   "cell_type": "code",
   "execution_count": null,
   "id": "70813e84",
   "metadata": {},
   "outputs": [],
   "source": [
    "authors(eicfile,1660,1714)"
   ]
  },
  {
   "cell_type": "code",
   "execution_count": null,
   "id": "bd2f6e67",
   "metadata": {},
   "outputs": [],
   "source": [
    "authors(monopolyfile,1660,1714)"
   ]
  },
  {
   "cell_type": "code",
   "execution_count": null,
   "id": "3098e1bf",
   "metadata": {},
   "outputs": [],
   "source": [
    "def titles(filename, start, end):\n",
    "    titles = {} \n",
    "    readFile = pd.read_csv(filename) \n",
    "    for i in range(len(readFile.index)):\n",
    "        data = readFile[i:(i+1)]\n",
    "        date = data.iloc[0].date\n",
    "        if (int(date) in range(start, end)):\n",
    "            t = data.iloc[0].title\n",
    "            if t not in titles.keys(): \n",
    "                titles[t] = 0\n",
    "            titles[t] += 1\n",
    "    for pair in sorted (titles.items(), key=lambda kv:(kv[1], kv[0]), reverse=True):\n",
    "        print(pair)\n",
    "        print(\"\\n\")"
   ]
  },
  {
   "cell_type": "code",
   "execution_count": null,
   "metadata": {},
   "outputs": [],
   "source": [
    "titles(eicfile, 1660,1714)"
   ]
  },
  {
   "cell_type": "code",
   "execution_count": null,
   "id": "09e40abb",
   "metadata": {
    "scrolled": true
   },
   "outputs": [],
   "source": [
    "dates = []\n",
    "freqs = []\n",
    "def freqOverTime(filename, lexicon, start, end):\n",
    "    freqDates = {}  \n",
    "    count = 0 \n",
    "    readFile = pd.read_csv(filename) \n",
    "    for i in range(len(readFile.index)):\n",
    "        data = readFile[i:(i+1)]\n",
    "        date = data.iloc[0].date\n",
    "        if (int(date) in range(start, end)):\n",
    "            text = data.iloc[0].text\n",
    "            if (re.search(lexicon,text)!=None): \n",
    "                count += 1\n",
    "                dates.append(date)\n",
    "                freqs.append(len(re.findall(lexicon,text)))\n",
    "                if date not in freqDates.keys(): \n",
    "                    freqDates[date] = 0\n",
    "                freqDates[date] += 1\n",
    "    print(\"The total number of texts is \"+str(count))\n",
    "    for pair in sorted (freqDates.items(), key=lambda kv:(kv[1], kv[0]), reverse=True):\n",
    "        print(pair)"
   ]
  },
  {
   "cell_type": "code",
   "execution_count": null,
   "id": "cf58b4a1",
   "metadata": {},
   "outputs": [],
   "source": [
    "eic = re.compile(\"east india company|east-india company|east-india-company\")\n",
    "monopoly = re.compile('monopoly|monopolization|monopolies|monopolium|monopolion|monopolie|monopolist|monopolizer|monopolize|monopolizes|monopolye|monopolyes')\n",
    "lexicon = re.compile('bribe|bribery')\n",
    "\n",
    "medical = re.compile(\"corruption|consumption|body politick|corrupt|consume|wasting|waste|blood|physician|decay|body|canker|cancer|disease|illness|remedy|cure|sickness|hepatitis|fever|spirit|brain|mind|vital|therapeutic|degeneration|degenerate|plague|smells|putrid|bad|tetrid|breathing|wholesome|healthy|unhealthy|sane|insane|nervous|languish|faculties|enfeeblement|drinks|tuberculosis|constitution|bile|black bile|yellow bile|phlegm|lung|sores|fog|smoke|diagnosis|prognosis|fiber|atrophy|morbid|mortal|mortality|nerves|inanition|defect|distemper|swelling|upset|stomach|cough|exercise|unwholesome|evacuation|fatal|fatality|vessels|hemmorrhage|bleeding|bleed|melancholy|diabetes|asthma|vomit|opiate|opium|ulcer|envy|jealousy|spoil|liver|vein|supple|heart|mouth|cured|pox\")\n",
    "economic = re.compile(\"economy|economic|oikonomike|household|price|prices|value|trade|traffic|traffique|money|bullion|exchange|luxury|spending|scarcity|plenty|east indies|corporation|west indies|carribean|india|corporation|company|merchant|merchants|plentitude|currency|calculation|public measure|consumables|superfluous|over-ballancing|over-balancing|impoverishing|gain|commerce|gold|silver|copper|ships|ship|debt|credit|debtor|creditor|decoctor|bank|usury|interest|rates|sugar|tobacco|beer|wool|uncharitable|charity|broker|monopoly|monopolization|monopolies|monopolium|monopolion|monopolie|monopolist| monopolizer|monopolize|monopolizes|monopolye|monopolyes|importation|exportation|silk|coin|unnecessary|necessary|efficient|under-valuation|employment|immodest|immoderate|prodigality|austerity|excess|excessive|vital|artificial|goods|natural|cheap|expensive|victual|treasure|commodities|international|income|commodity|revenue|land|profitable|unprofitable|industry|work|ware|loss|transportation|balance|usurer|estate|corruptible|property|prosperity|substance|disturber|consumer|cloth|drapery|use|non-use|profusion|tea|spices|china|free trade|means|flourish\")\n",
    "political = re.compile(\"commonwealth|politick|politic|political|body politick|body politic|government|prince|war|ruler|king|queen|extortion|oppression|restoration|revolution|constitution|navy|military|army|strength|power|might|england|britain|ireland|netherlands|scotland|netherlands|dutch|spanish|germany|holy roman empire|mughal|christian|christianity|god|state|country|parliament|crisis|common|lords|lord|crisis|national|governor|public|publicke|low countries|controversy|controversies|authority|empire|bills|treatise|treatises|civilian|protection|pirates|pirate|civil war|massacre|indonesia|india|china|argier|tunis|kingdom|provincial|scandalous|scandal|majesty|subject|christiandom|enemy|turkish|ally\")\n",
    "\n",
    "# meed | mede | corrupt | corruption | bribe | bribery | presents | gifts | gifting | graft | gratuity | rewards | benefits | poison | extortion | favor | favour | gentle rewards | good turns | putrid | decay | dissolution | contamination | depravity | wickedness | corruptionem | corruptio | spoiling | seducing | destroy | seduce | perversion | vitiation | vitiare | impairment | vitium | vice | perverto | nabobs | nabob"
   ]
  },
  {
   "cell_type": "code",
   "execution_count": null,
   "id": "f97b3f4b",
   "metadata": {},
   "outputs": [],
   "source": [
    "freqOverTime(eicfile,monopoly,1660,1714)"
   ]
  },
  {
   "cell_type": "code",
   "execution_count": null,
   "id": "fb5c056b",
   "metadata": {
    "scrolled": false
   },
   "outputs": [],
   "source": [
    "def plot(dates,freqs,title,xlabel,ylabel,color):\n",
    "    xData = list(map(int, dates))\n",
    "    yData = list(map(int, freqs))\n",
    "    xyCoords=np.c_[xData,yData]\n",
    "    uniquePoints, counts = np.unique(xyCoords, return_counts=True,axis=0)\n",
    "    plt.scatter(uniquePoints[:,0],uniquePoints[:,1],s=counts*10,c=color,)\n",
    "\n",
    "    fig = plt.gcf()\n",
    "    fig.set_size_inches(15, 15)\n",
    "\n",
    "    plt.xlabel(xlabel, fontsize=20)\n",
    "    plt.ylabel(ylabel, fontsize=20)\n",
    "    plt.title(title,fontsize=20)\n",
    "    plt.show()"
   ]
  },
  {
   "cell_type": "code",
   "execution_count": null,
   "id": "89fb5721",
   "metadata": {},
   "outputs": [],
   "source": [
    "def plot3D(dates, yFreq, zFreq, title, xlabel, ylabel, zlabel,color):\n",
    "    x = list(map(int, dates))\n",
    "    y = list(map(int, yFreq))\n",
    "    z = list(map(int, zFreq))\n",
    "\n",
    "    plt.figure(figsize = (10, 10))\n",
    "    ax = plt.axes(projection =\"3d\")\n",
    "\n",
    "    ax.scatter3D(x, y, z, color = color)\n",
    "    plt.title(title)\n",
    "    ax.set_xlabel(xlabel, fontweight ='bold')\n",
    "    ax.set_ylabel(ylabel, fontweight ='bold')\n",
    "    ax.set_zlabel(zlabel, fontweight ='bold')\n",
    "    plt.show()"
   ]
  }
 ],
 "metadata": {
  "kernelspec": {
   "display_name": "Python 3",
   "language": "python",
   "name": "python3"
  },
  "language_info": {
   "codemirror_mode": {
    "name": "ipython",
    "version": 3
   },
   "file_extension": ".py",
   "mimetype": "text/x-python",
   "name": "python",
   "nbconvert_exporter": "python",
   "pygments_lexer": "ipython3",
   "version": "3.8.8"
  }
 },
 "nbformat": 4,
 "nbformat_minor": 5
}
