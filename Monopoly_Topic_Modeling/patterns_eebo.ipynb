{
 "cells": [
  {
   "cell_type": "markdown",
   "id": "73d5e287",
   "metadata": {},
   "source": [
    "This code file finds and graphs the frequencies of authors, dates, titles, and words over time. \n",
    "\n",
    "Author: Amy Weng "
   ]
  },
  {
   "cell_type": "code",
   "execution_count": 1,
   "id": "847a11ec",
   "metadata": {},
   "outputs": [],
   "source": [
    "import re\n",
    "import pandas as pd\n",
    "import matplotlib.pyplot as plt\n",
    "import numpy as np\n",
    "\n",
    "directory = '/home/rapiduser/Materials/'\n",
    "econFile = directory + '/economics.csv'\n",
    "restorationFile = directory + '/restoration.csv'\n",
    "trial = directory + '/eic_uncensored.csv'"
   ]
  },
  {
   "cell_type": "code",
   "execution_count": null,
   "id": "ffdaa5cb",
   "metadata": {},
   "outputs": [],
   "source": [
    "def frequency(freqs, filename, item, start, end):\n",
    "    readFile = pd.read_csv(filename) \n",
    "    \n",
    "    for i in range(len(readFile.index)):\n",
    "        data = readFile[i:(i+1)]\n",
    "        date = data.iloc[0].date\n",
    "        \n",
    "        if (int(date) in range(start, end+1)):\n",
    "            if (item == \"author\"):\n",
    "                i = data.iloc[0].author\n",
    "            if (item == \"title\"):\n",
    "                i = data.iloc[0].title\n",
    "            if (item == \"date\"):\n",
    "                i = date\n",
    "            if (item == \"publisher\"):\n",
    "                i = data.iloc[0].publisher\n",
    "            \n",
    "            if i not in freqs.keys(): \n",
    "                freqs[i] = 0\n",
    "            \n",
    "            freqs[i] += 1\n",
    "    \n",
    "    if (item == \"date\"):\n",
    "        for year in sorted(freqs):\n",
    "            print(str(year)+\": \"+str(freqs[year]))\n",
    "    else: \n",
    "        for pair in sorted (freqs.items(), key=lambda kv:(kv[1], kv[0]), reverse=True):\n",
    "            print(pair)\n"
   ]
  },
  {
   "cell_type": "code",
   "execution_count": null,
   "metadata": {},
   "outputs": [],
   "source": [
    "freqs = {} \n",
    "frequency(freqs, restorationFile,\"publisher\",1660,1714)"
   ]
  },
  {
   "cell_type": "code",
   "execution_count": null,
   "id": "6c4954ba",
   "metadata": {},
   "outputs": [],
   "source": [
    "del(freqs)"
   ]
  },
  {
   "cell_type": "code",
   "execution_count": 3,
   "id": "bf1b4e36",
   "metadata": {},
   "outputs": [],
   "source": [
    "def organize(filename, start, end):\n",
    "\n",
    "    readFile = pd.read_csv(filename) \n",
    "    \n",
    "    for i in range(len(readFile.index)):\n",
    "        data = readFile[i:(i+1)]\n",
    "        \n",
    "        d = data.iloc[0].date\n",
    "        \n",
    "        if (int(d) in range(start, end+1)):\n",
    "            a = data.iloc[0].author\n",
    "            p = data.iloc[0].publisher\n",
    "            \n",
    "            if d not in dictionary.keys(): \n",
    "                dictionary[d] = {}\n",
    "            \n",
    "            if a not in dictionary[d].keys(): \n",
    "                dictionary[d][a] = {}\n",
    "            \n",
    "            if p not in dictionary[d][a].keys(): \n",
    "                dictionary[d][a][p] = 0\n",
    "            \n",
    "            dictionary[d][a][p] += 1\n",
    "    \n",
    "    for d in sorted(dictionary.keys()):\n",
    "        print(d)\n",
    "        for a in sorted(dictionary[d].keys()):\n",
    "            print(a)\n",
    "            for item in sorted (dictionary[d][a].items(), key=lambda kv:(kv[1], kv[0]), reverse=True):\n",
    "                print(item)\n",
    "        print(\"\\n\")"
   ]
  },
  {
   "cell_type": "code",
   "execution_count": 4,
   "id": "276e5792",
   "metadata": {},
   "outputs": [
    {
     "name": "stdout",
     "output_type": "stream",
     "text": [
      "1679\n",
      "no author\n",
      "('sn', 2)\n",
      "\n",
      "\n",
      "1680\n",
      "a n\n",
      "('printed for author by thomas melbourne ', 1)\n",
      "courten william \n",
      "('sn', 1)\n",
      "england and wales parliament house of commons\n",
      "('sn', 1)\n",
      "('printed for r baldwin', 1)\n",
      "no author\n",
      "('sn', 2)\n",
      "peck samuel\n",
      "('printed by ja for thomas parkhurst at the bible and three crowns at the lower end of cheapside near mercers-chappel', 2)\n",
      "pindar paul sir or -\n",
      "('sn', 1)\n",
      "\n",
      "\n",
      "1681\n",
      "blome richard \n",
      "('printed by h clark for dorman newman ', 1)\n",
      "east india company\n",
      "('sn', 2)\n",
      "h k\n",
      "('sn', 2)\n",
      "no author\n",
      "('printed by hc for tho malthus at the sign of the sun in the poultry', 2)\n",
      "('sn', 1)\n",
      "('printed and are to be sold by e whitlock ', 1)\n",
      "r b -\n",
      "('printed for nath crouch ', 1)\n",
      "\n",
      "\n",
      "1682\n",
      "brown john gent\n",
      "('text creation partnership', 1)\n",
      "east india company\n",
      "('printed by j richardson for samuel tidmarsh ', 2)\n",
      "oldies alexander\n",
      "('printed for charles blount at the catherine-wheel at charing-cross', 1)\n",
      "pollexfen henry sir - argument of a learned counsel upon an action of the case brought by the east-india-company against mr thomas sands an interloper\n",
      "('printed for brabazon aylmer ', 2)\n",
      "\n",
      "\n",
      "1683\n",
      "nederlandsche oost-indische compagnie\n",
      "('printed by paul matthowson by order of the governors of the dutch east-india company and reprinted by langley curtis', 1)\n",
      "s p\n",
      "('printed by am for greg hill', 1)\n",
      "\n",
      "\n",
      "1684\n",
      "davenport francis historiographer\n",
      "('sn', 1)\n",
      "davison thomas b or \n",
      "('printed by jg for robert clavel ', 1)\n",
      "england and wales court of chancery\n",
      "('printed by the assigns of richard and ed atkins esquires for john walthoe and are to be sold at his shop in vine-court middle-temple', 2)\n",
      "no author\n",
      "('printed for john holford ', 1)\n",
      "\n",
      "\n",
      "1685\n",
      "no author\n",
      "('printed for james knapton and sold by rental taylor', 1)\n",
      "r s\n",
      "(\"printed by george croom at the sign of the blue-ball in thames-street over against baynard's-castle\", 1)\n",
      "seller john fl -\n",
      "('sn', 1)\n",
      "spence ferrand\n",
      "('printed by h clark for f pearse at the blew anchor at the west-end of st pals', 1)\n",
      "tachard guy -\n",
      "('printed by tb for j robinson and a churchil and are to be sold by s crouch ', 1)\n",
      "\n",
      "\n"
     ]
    }
   ],
   "source": [
    "dictionary = {}\n",
    "organize(econFile,1679,1685)"
   ]
  },
  {
   "cell_type": "code",
   "execution_count": null,
   "id": "d7652110",
   "metadata": {},
   "outputs": [],
   "source": [
    "def scatter(dates,freqs,title,color,x_label,y_label):\n",
    "    xData = list(map(int, dates))\n",
    "    yData = list(map(int, freqs))\n",
    "    \n",
    "    xyCoords=np.c_[xData,yData]\n",
    "    \n",
    "    uniquePoints, counts = np.unique(xyCoords, return_counts=True,axis=0)\n",
    "    plt.scatter(uniquePoints[:,0],uniquePoints[:,1],s=counts*10,c=color,)\n",
    "\n",
    "    fig = plt.gcf()\n",
    "    fig.set_size_inches(15, 10)\n",
    "\n",
    "    plt.xlabel(x_label, fontsize=20)\n",
    "    plt.ylabel(y_label, fontsize=20)\n",
    "    \n",
    "    plt.title(title,fontsize=25)\n",
    "    \n",
    "    plt.show()"
   ]
  },
  {
   "cell_type": "code",
   "execution_count": null,
   "id": "6ef5d2f0",
   "metadata": {},
   "outputs": [],
   "source": [
    "scatter(freqs.keys(),freqs.values(),\"Economic Publications Per Year\",\"purple\",\"Year\",\"Number of Texts\")"
   ]
  },
  {
   "cell_type": "code",
   "execution_count": null,
   "id": "dbf70e7a",
   "metadata": {},
   "outputs": [],
   "source": [
    "def scatter3D(dates, yFreq, zFreq, title, ylabel, zlabel,color):\n",
    "    x = list(map(int, dates))\n",
    "    y = list(map(int, yFreq))\n",
    "    z = list(map(int, zFreq))\n",
    "\n",
    "    plt.figure(figsize = (10, 10))\n",
    "    ax = plt.axes(projection =\"3d\")\n",
    "\n",
    "    ax.scatter3D(x, y, z, color = color)\n",
    "    \n",
    "    plt.title(title)\n",
    "    \n",
    "    ax.set_xlabel(\"Year\", fontweight ='bold')\n",
    "    ax.set_ylabel(ylabel, fontweight ='bold')\n",
    "    ax.set_zlabel(zlabel, fontweight ='bold')\n",
    "    \n",
    "    plt.show()"
   ]
  },
  {
   "cell_type": "code",
   "execution_count": null,
   "id": "e7184c6d",
   "metadata": {},
   "outputs": [],
   "source": [
    "def bar(xData,yData,title,xlabel,ylabel):\n",
    "    if (xData == \"Year\"):\n",
    "        xData = list(map(int, xData))\n",
    "        yData = list(map(int, yData))\n",
    "    \n",
    "    plt.bar(xData,yData)\n",
    "    \n",
    "    plt.title(title)\n",
    "    \n",
    "    plt.xlabel(xlabel)\n",
    "    plt.ylabel(ylabel)\n",
    "    \n",
    "    plt.show()"
   ]
  },
  {
   "cell_type": "code",
   "execution_count": null,
   "id": "09e40abb",
   "metadata": {
    "scrolled": true
   },
   "outputs": [],
   "source": [
    "dates = []\n",
    "freqs = []\n",
    "freqDates = {}  \n",
    "def freqOverTime(filename, word, start, end):\n",
    "    count = 0 \n",
    "    readFile = pd.read_csv(filename) \n",
    "    for i in range(len(readFile.index)):\n",
    "        data = readFile[i:(i+1)]\n",
    "        date = data.iloc[0].date\n",
    "        if (int(date) in range(start, end)):\n",
    "            text = data.iloc[0].text\n",
    "            if (re.search(word,text)!=None): \n",
    "                count += 1\n",
    "                dates.append(date)\n",
    "                freqs.append(len(re.findall(lexicon,text)))\n",
    "                if date not in freqDates.keys(): \n",
    "                    freqDates[date] = 0\n",
    "                freqDates[date] += 1\n",
    "    print(\"The total number of texts is \"+str(count))\n",
    "    for pair in sorted (freqDates.items(), key=lambda kv:(kv[1], kv[0]), reverse=True):\n",
    "        print(pair)"
   ]
  },
  {
   "cell_type": "code",
   "execution_count": null,
   "id": "cf58b4a1",
   "metadata": {},
   "outputs": [],
   "source": [
    "eic = re.compile(\"east india company|east-india company|east-india-company\")\n",
    "monopoly = re.compile('monopoly|monopolization|monopolies|monopolium|monopolion|monopolie|monopolist|monopolizer|monopolize|monopolizes|monopolye|monopolyes')\n",
    "lexicon = re.compile('pirate|pirates|piracy')\n",
    "\n",
    "medical = re.compile(\"corruption|consumption|body politick|corrupt|consume|wasting|waste|blood|physician|decay|body|canker|cancer|disease|illness|remedy|cure|sickness|hepatitis|fever|spirit|brain|mind|vital|therapeutic|degeneration|degenerate|plague|smells|putrid|bad|tetrid|breathing|wholesome|healthy|unhealthy|sane|insane|nervous|languish|faculties|enfeeblement|drinks|tuberculosis|constitution|bile|black bile|yellow bile|phlegm|lung|sores|fog|smoke|diagnosis|prognosis|fiber|atrophy|morbid|mortal|mortality|nerves|inanition|defect|distemper|swelling|upset|stomach|cough|exercise|unwholesome|evacuation|fatal|fatality|vessels|hemmorrhage|bleeding|bleed|melancholy|diabetes|asthma|vomit|opiate|opium|ulcer|envy|jealousy|spoil|liver|vein|supple|heart|mouth|cured|pox\")\n",
    "economic = re.compile(\"economy|economic|oikonomike|household|price|prices|value|trade|traffic|traffique|money|bullion|exchange|luxury|spending|scarcity|plenty|east indies|corporation|west indies|carribean|india|corporation|company|merchant|merchants|plentitude|currency|calculation|public measure|consumables|superfluous|over-ballancing|over-balancing|impoverishing|gain|commerce|gold|silver|copper|ships|ship|debt|credit|debtor|creditor|decoctor|bank|usury|interest|rates|sugar|tobacco|beer|wool|uncharitable|charity|broker|monopoly|monopolization|monopolies|monopolium|monopolion|monopolie|monopolist| monopolizer|monopolize|monopolizes|monopolye|monopolyes|importation|exportation|silk|coin|unnecessary|necessary|efficient|under-valuation|employment|immodest|immoderate|prodigality|austerity|excess|excessive|vital|artificial|goods|natural|cheap|expensive|victual|treasure|commodities|international|income|commodity|revenue|land|profitable|unprofitable|industry|work|ware|loss|transportation|balance|usurer|estate|corruptible|property|prosperity|substance|disturber|consumer|cloth|drapery|use|non-use|profusion|tea|spices|china|free trade|means|flourish\")\n",
    "political = re.compile(\"commonwealth|politick|politic|political|body politick|body politic|government|prince|war|ruler|king|queen|extortion|oppression|restoration|revolution|constitution|navy|military|army|strength|power|might|england|britain|ireland|netherlands|scotland|netherlands|dutch|spanish|germany|holy roman empire|mughal|christian|christianity|god|state|country|parliament|crisis|common|lords|lord|crisis|national|governor|public|publicke|low countries|controversy|controversies|authority|empire|bills|treatise|treatises|civilian|protection|pirates|pirate|civil war|massacre|indonesia|india|china|argier|tunis|kingdom|provincial|scandalous|scandal|majesty|subject|christiandom|enemy|turkish|ally\")\n",
    "\n",
    "# meed | mede | corrupt | corruption | bribe | bribery | presents | gifts | gifting | graft | gratuity | rewards | benefits | poison | extortion | favor | favour | gentle rewards | good turns | putrid | decay | dissolution | contamination | depravity | wickedness | corruptionem | corruptio | spoiling | seducing | destroy | seduce | perversion | vitiation | vitiare | impairment | vitium | vice | perverto | nabobs | nabob"
   ]
  },
  {
   "cell_type": "code",
   "execution_count": null,
   "id": "f97b3f4b",
   "metadata": {},
   "outputs": [],
   "source": [
    "freqOverTime(econFile,lexicon,1660,1714)"
   ]
  },
  {
   "cell_type": "code",
   "execution_count": null,
   "id": "9a6b5d21",
   "metadata": {},
   "outputs": [],
   "source": [
    "scatter(dates,freqs,\"Pirate and Piracy in EIC texts 1660-1714\",\"purple\")"
   ]
  },
  {
   "cell_type": "code",
   "execution_count": null,
   "id": "4dd60ca0",
   "metadata": {},
   "outputs": [],
   "source": [
    "bar(freqDates.keys(),freqDates.values(),\"Pirate and Piracy in EIC texts 1660-1714\",\"Year\",\"Frequency\")"
   ]
  }
 ],
 "metadata": {
  "kernelspec": {
   "display_name": "Python 3",
   "language": "python",
   "name": "python3"
  },
  "language_info": {
   "codemirror_mode": {
    "name": "ipython",
    "version": 3
   },
   "file_extension": ".py",
   "mimetype": "text/x-python",
   "name": "python",
   "nbconvert_exporter": "python",
   "pygments_lexer": "ipython3",
   "version": "3.8.10"
  }
 },
 "nbformat": 4,
 "nbformat_minor": 5
}
