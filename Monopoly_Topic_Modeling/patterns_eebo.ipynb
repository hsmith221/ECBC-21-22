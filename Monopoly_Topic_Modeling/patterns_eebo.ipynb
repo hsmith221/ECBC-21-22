{
 "cells": [
  {
   "cell_type": "markdown",
   "id": "73d5e287",
   "metadata": {},
   "source": [
    "Author: Amy Weng \n",
    "\n",
    "For examining the frequencies of EIC, monopoly, corruption, consumption, interest, and other target words over time in ALL of EEBO"
   ]
  },
  {
   "cell_type": "code",
   "execution_count": null,
   "id": "847a11ec",
   "metadata": {},
   "outputs": [],
   "source": [
    "import os\n",
    "import re\n",
    "import pandas as pd\n",
    "import matplotlib.pyplot as plt\n",
    "import numpy as np\n",
    "from mpl_toolkits import mplot3d\n",
    "\n",
    "directory = r'C:\\Users\\amycw\\Desktop\\ecbc research'\n",
    "folder = directory+\"\\\\\"+'eebo_clean'"
   ]
  },
  {
   "cell_type": "code",
   "execution_count": null,
   "id": "09e40abb",
   "metadata": {
    "scrolled": true
   },
   "outputs": [],
   "source": [
    "dates = []\n",
    "# d = {} #dict to keep track of books per year \n",
    "MFreqs = []\n",
    "LFreqs = []\n",
    "count=0\n",
    "eic = re.compile(\"east india company|east-india company|east-india-company\")\n",
    "monopoly = re.compile('monopoly|monopolization|monopolies|monopolium|monopolion|monopolie|monopolist|monopolizer|monopolize|monopolizes|monopolye|monopolyes')\n",
    "lexicon = re.compile('bribe|bribery')\n",
    "# meed | mede | corrupt | corruption | bribe | bribery | presents | gifts | gifting | graft | gratuity | rewards | benefits | poison | extortion | favor | favour | gentle rewards | good turns | putrid | decay | dissolution | contamination | depravity | wickedness | corruptionem | corruptio | spoiling | seducing | destroy | seduce | perversion | vitiation | vitiare | impairment | vitium | vice | perverto | nabobs | nabob\n",
    "\n",
    "for cleanFile in os.listdir(folder):\n",
    "    readFile = pd.read_csv(folder + \"\\\\\" + cleanFile) \n",
    "    for i in range(len(readFile.index)):\n",
    "        data = readFile[i:(i+1)]\n",
    "        text = data.iloc[0].text\n",
    "        if isinstance(data.iloc[0].date,str):\n",
    "            date = (data.iloc[0].date)\n",
    "        else:\n",
    "            date = (data.iloc[0].date).astype(str)\n",
    "        if ((date !='Date Not Found') & (date !='[\\'Date Not Found\\']')):\n",
    "            if (date and date.strip()):\n",
    "                datenum = re.search('\\d{4}', date)\n",
    "                if (datenum != None):\n",
    "                    date = str(datenum.group(0))\n",
    "#                     if date not in d.keys():\n",
    "#                         d[date] = 0\n",
    "#                     d[date] += 1\n",
    "                if (re.search(lexicon, text) != None):\n",
    "                    dates.append(date)\n",
    "                    MFreqs.append(len(re.findall(eic,text)))\n",
    "                    LFreqs.append(len(re.findall(lexicon,text)))\n",
    "        count+=1\n",
    "        if (count % 10000 == 0):\n",
    "            print(count)"
   ]
  },
  {
   "cell_type": "code",
   "execution_count": null,
   "id": "4172b84d",
   "metadata": {},
   "outputs": [],
   "source": [
    "after1400Dates = []\n",
    "after1400MFreqs = []\n",
    "after1400LFreqs = []\n",
    "idx = 0\n",
    "for year in dates:\n",
    "    if(int(year) in range(1400,1800)):\n",
    "        after1400Dates.append(year)\n",
    "        after1400MFreqs.append(MFreqs[idx])\n",
    "        after1400LFreqs.append(LFreqs[idx])\n",
    "        idx+=1"
   ]
  },
  {
   "cell_type": "code",
   "execution_count": null,
   "id": "fb5c056b",
   "metadata": {
    "scrolled": false
   },
   "outputs": [],
   "source": [
    "xData = list(map(int, after1400Dates))\n",
    "yData = list(map(int, after1400LFreqs))\n",
    "xyCoords=np.c_[xData,yData]\n",
    "uniquePoints, counts = np.unique(xyCoords, return_counts=True,axis=0)\n",
    "plt.scatter(uniquePoints[:,0],uniquePoints[:,1],s=counts*10,c='orange',)\n",
    "\n",
    "fig = plt.gcf()\n",
    "fig.set_size_inches(15, 15)\n",
    "\n",
    "plt.xlabel('Year', fontsize=20)\n",
    "plt.ylabel('Number of Books', fontsize=20)\n",
    "plt.title('Books Printed Per Year in EEBO',fontsize=20)\n",
    "plt.show()"
   ]
  },
  {
   "cell_type": "code",
   "execution_count": null,
   "id": "89fb5721",
   "metadata": {},
   "outputs": [],
   "source": [
    "x = list(map(int, after1400Dates))\n",
    "y = list(map(int, after1400MFreqs))\n",
    "z = list(map(int, after1400LFreqs))\n",
    "\n",
    "fig = plt.figure(figsize = (10, 10))\n",
    "ax = plt.axes(projection =\"3d\")\n",
    " \n",
    "ax.scatter3D(x, y, z, color = \"orange\")\n",
    "plt.title(\"EIC & Bribery Term Frequency\")\n",
    "ax.set_xlabel('Year', fontweight ='bold')\n",
    "ax.set_ylabel('EIC Frequency', fontweight ='bold')\n",
    "ax.set_zlabel('Bribe/Bribery Frequency', fontweight ='bold')\n",
    "plt.show()"
   ]
  }
 ],
 "metadata": {
  "kernelspec": {
   "display_name": "Python 3",
   "language": "python",
   "name": "python3"
  },
  "language_info": {
   "codemirror_mode": {
    "name": "ipython",
    "version": 3
   },
   "file_extension": ".py",
   "mimetype": "text/x-python",
   "name": "python",
   "nbconvert_exporter": "python",
   "pygments_lexer": "ipython3",
   "version": "3.8.8"
  }
 },
 "nbformat": 4,
 "nbformat_minor": 5
}
