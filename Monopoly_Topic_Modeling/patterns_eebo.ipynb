{
 "cells": [
  {
   "cell_type": "markdown",
   "id": "73d5e287",
   "metadata": {},
   "source": [
    "This code file finds and graphs the frequencies of authors, dates, titles, and words over time. \n",
    "\n",
    "Author: Amy Weng "
   ]
  },
  {
   "cell_type": "code",
   "execution_count": 40,
   "id": "847a11ec",
   "metadata": {},
   "outputs": [],
   "source": [
    "import re\n",
    "import pandas as pd\n",
    "import matplotlib.pyplot as plt\n",
    "import numpy as np\n",
    "\n",
    "directory = r'C:\\Users\\amycw\\Desktop\\ecbc research'\n",
    "econFile = directory + \"\\\\\" + 'economics.csv'\n",
    "restorationFile = directory + \"\\\\\" + 'restoration.csv'"
   ]
  },
  {
   "cell_type": "markdown",
   "id": "8b871866",
   "metadata": {},
   "source": [
    "Task: Examine the lapse of censorship between 1679-85 and after its end in 1695. Are there any trends in frequency and use of “consumption” related terms?\n",
    "\n",
    "Steps: \n",
    "    1. Filter EEBO for texts from 1660-1714 that contain economic terms. (See economic.txt in Text_Files) This is Set 1. \n",
    "        *Apply topic modeling to these texts to get a more accurate dataset (?)\n",
    "\n",
    "    2. List the frequency of authors and titles in each year from 1660 to 1714. Compare titles published between 1660-1678 (Set 1.1) and 1686-1694 (Set 1.4) to those published between 1679-85 (Set 1.2) and 1695-1714 (Set 1.3).\n",
    "        *Account for duplicate titles that are not phrased in the same way. \n",
    "\n",
    "    3. Filter EEBO for texts from 1500-1659. This is Set 2. \n",
    "        *Apply topic modeling again (?) \n",
    "\n",
    "    4. Search through Set 2 for titles to compare with titles in Set 1. Compare with the different subsets of Set 1. \n",
    "\n",
    "Findings: \n",
    "    - EEBO only goes up to the 1690s. We either need to truncate our date range or find another database with texts from the early 18th century. \n",
    "    - Many texts have no author. "
   ]
  },
  {
   "cell_type": "code",
   "execution_count": 44,
   "id": "ffdaa5cb",
   "metadata": {},
   "outputs": [],
   "source": [
    "def frequency(freqs, filename, item, start, end):\n",
    "    readFile = pd.read_csv(filename) \n",
    "    \n",
    "    for i in range(len(readFile.index)):\n",
    "        data = readFile[i:(i+1)]\n",
    "        date = data.iloc[0].date\n",
    "        \n",
    "        if (int(date) in range(start, end+1)):\n",
    "            if (item == \"author\"):\n",
    "                i = data.iloc[0].author\n",
    "            if (item == \"title\"):\n",
    "                i = data.iloc[0].title\n",
    "            if (item == \"date\"):\n",
    "                i = date\n",
    "            \n",
    "            if i not in freqs.keys(): \n",
    "                freqs[i] = 0\n",
    "            \n",
    "            freqs[i] += 1\n",
    "    \n",
    "    if (item == \"date\"):\n",
    "        for year in sorted(freqs):\n",
    "            print(str(year)+\": \"+str(freqs[year]))\n",
    "    else: \n",
    "        for pair in sorted (freqs.items(), key=lambda kv:(kv[1], kv[0]), reverse=True):\n",
    "            print(pair)\n"
   ]
  },
  {
   "cell_type": "code",
   "execution_count": 41,
   "metadata": {},
   "outputs": [
    {
     "name": "stdout",
     "output_type": "stream",
     "text": [
      "1679: 690\n",
      "1680: 946\n",
      "1681: 886\n",
      "1682: 794\n",
      "1683: 677\n",
      "1684: 565\n",
      "1685: 671\n"
     ]
    }
   ],
   "source": [
    "freqs = {} \n",
    "frequency(freqs, econFile,\"date\",1679,1685)"
   ]
  },
  {
   "cell_type": "code",
   "execution_count": null,
   "id": "7e16bcd9",
   "metadata": {},
   "outputs": [],
   "source": [
    "frequency(restorationFile,\"date\",1660,1714)"
   ]
  },
  {
   "cell_type": "code",
   "execution_count": null,
   "id": "6c4954ba",
   "metadata": {},
   "outputs": [],
   "source": [
    "del(freqs)"
   ]
  },
  {
   "cell_type": "code",
   "execution_count": null,
   "id": "bf1b4e36",
   "metadata": {},
   "outputs": [],
   "source": [
    "dictionary = {}\n",
    "\n",
    "def organize(filename, item, start, end):\n",
    "\n",
    "    readFile = pd.read_csv(filename) \n",
    "    \n",
    "    for i in range(len(readFile.index)):\n",
    "        data = readFile[i:(i+1)]\n",
    "        \n",
    "        d = data.iloc[0].date\n",
    "        \n",
    "        if (int(d) in range(start, end+1)):\n",
    "            if (item == \"author\"):\n",
    "                i = data.iloc[0].author\n",
    "            if (item == \"title\"):\n",
    "                i = data.iloc[0].title\n",
    "            \n",
    "            if d not in dictionary.keys(): \n",
    "                dictionary[d] = {}\n",
    "            \n",
    "            if i not in dictionary[d].keys(): \n",
    "                dictionary[d][i] = 0\n",
    "            \n",
    "            dictionary[d][i] += 1\n",
    "    \n",
    "    for d in sorted(dictionary.keys()):\n",
    "        print(d)\n",
    "        for pair in sorted (dictionary[d].items(), key=lambda kv:(kv[1], kv[0]), reverse=True):\n",
    "            print(pair)\n",
    "        print(\"\\n\")"
   ]
  },
  {
   "cell_type": "code",
   "execution_count": null,
   "id": "276e5792",
   "metadata": {},
   "outputs": [],
   "source": [
    "organize(econFile,\"author\",1660,1714)"
   ]
  },
  {
   "cell_type": "code",
   "execution_count": 42,
   "id": "d7652110",
   "metadata": {},
   "outputs": [],
   "source": [
    "def scatter(dates,freqs,title,color,x_label,y_label):\n",
    "    xData = list(map(int, dates))\n",
    "    yData = list(map(int, freqs))\n",
    "    \n",
    "    xyCoords=np.c_[xData,yData]\n",
    "    \n",
    "    uniquePoints, counts = np.unique(xyCoords, return_counts=True,axis=0)\n",
    "    plt.scatter(uniquePoints[:,0],uniquePoints[:,1],s=counts*10,c=color,)\n",
    "\n",
    "    fig = plt.gcf()\n",
    "    fig.set_size_inches(15, 10)\n",
    "\n",
    "    plt.xlabel(x_label, fontsize=20)\n",
    "    plt.ylabel(y_label, fontsize=20)\n",
    "    \n",
    "    plt.title(title,fontsize=25)\n",
    "    \n",
    "    plt.show()"
   ]
  },
  {
   "cell_type": "code",
   "execution_count": 43,
   "id": "6ef5d2f0",
   "metadata": {},
   "outputs": [
    {
     "data": {
      "image/png": "[encoded data removed]",
      "text/plain": [
       "<Figure size 1080x720 with 1 Axes>"
      ]
     },
     "metadata": {
      "needs_background": "light"
     },
     "output_type": "display_data"
    }
   ],
   "source": [
    "scatter(freqs.keys(),freqs.values(),\"Economic Publications Per Year\",\"purple\",\"Year\",\"Number of Texts\")"
   ]
  },
  {
   "cell_type": "code",
   "execution_count": null,
   "id": "dbf70e7a",
   "metadata": {},
   "outputs": [],
   "source": [
    "def scatter3D(dates, yFreq, zFreq, title, ylabel, zlabel,color):\n",
    "    x = list(map(int, dates))\n",
    "    y = list(map(int, yFreq))\n",
    "    z = list(map(int, zFreq))\n",
    "\n",
    "    plt.figure(figsize = (10, 10))\n",
    "    ax = plt.axes(projection =\"3d\")\n",
    "\n",
    "    ax.scatter3D(x, y, z, color = color)\n",
    "    \n",
    "    plt.title(title)\n",
    "    \n",
    "    ax.set_xlabel(\"Year\", fontweight ='bold')\n",
    "    ax.set_ylabel(ylabel, fontweight ='bold')\n",
    "    ax.set_zlabel(zlabel, fontweight ='bold')\n",
    "    \n",
    "    plt.show()"
   ]
  },
  {
   "cell_type": "code",
   "execution_count": null,
   "id": "e7184c6d",
   "metadata": {},
   "outputs": [],
   "source": [
    "def bar(xData,yData,title,xlabel,ylabel):\n",
    "    if (xData == \"Year\"):\n",
    "        xData = list(map(int, xData))\n",
    "        yData = list(map(int, yData))\n",
    "    \n",
    "    plt.bar(xData,yData)\n",
    "    \n",
    "    plt.title(title)\n",
    "    \n",
    "    plt.xlabel(xlabel)\n",
    "    plt.ylabel(ylabel)\n",
    "    \n",
    "    plt.show()"
   ]
  },
  {
   "cell_type": "code",
   "execution_count": null,
   "id": "09e40abb",
   "metadata": {
    "scrolled": true
   },
   "outputs": [],
   "source": [
    "dates = []\n",
    "freqs = []\n",
    "freqDates = {}  \n",
    "def freqOverTime(filename, word, start, end):\n",
    "    count = 0 \n",
    "    readFile = pd.read_csv(filename) \n",
    "    for i in range(len(readFile.index)):\n",
    "        data = readFile[i:(i+1)]\n",
    "        date = data.iloc[0].date\n",
    "        if (int(date) in range(start, end)):\n",
    "            text = data.iloc[0].text\n",
    "            if (re.search(word,text)!=None): \n",
    "                count += 1\n",
    "                dates.append(date)\n",
    "                freqs.append(len(re.findall(lexicon,text)))\n",
    "                if date not in freqDates.keys(): \n",
    "                    freqDates[date] = 0\n",
    "                freqDates[date] += 1\n",
    "    print(\"The total number of texts is \"+str(count))\n",
    "    for pair in sorted (freqDates.items(), key=lambda kv:(kv[1], kv[0]), reverse=True):\n",
    "        print(pair)"
   ]
  },
  {
   "cell_type": "code",
   "execution_count": null,
   "id": "cf58b4a1",
   "metadata": {},
   "outputs": [],
   "source": [
    "eic = re.compile(\"east india company|east-india company|east-india-company\")\n",
    "monopoly = re.compile('monopoly|monopolization|monopolies|monopolium|monopolion|monopolie|monopolist|monopolizer|monopolize|monopolizes|monopolye|monopolyes')\n",
    "lexicon = re.compile('pirate|pirates|piracy')\n",
    "\n",
    "medical = re.compile(\"corruption|consumption|body politick|corrupt|consume|wasting|waste|blood|physician|decay|body|canker|cancer|disease|illness|remedy|cure|sickness|hepatitis|fever|spirit|brain|mind|vital|therapeutic|degeneration|degenerate|plague|smells|putrid|bad|tetrid|breathing|wholesome|healthy|unhealthy|sane|insane|nervous|languish|faculties|enfeeblement|drinks|tuberculosis|constitution|bile|black bile|yellow bile|phlegm|lung|sores|fog|smoke|diagnosis|prognosis|fiber|atrophy|morbid|mortal|mortality|nerves|inanition|defect|distemper|swelling|upset|stomach|cough|exercise|unwholesome|evacuation|fatal|fatality|vessels|hemmorrhage|bleeding|bleed|melancholy|diabetes|asthma|vomit|opiate|opium|ulcer|envy|jealousy|spoil|liver|vein|supple|heart|mouth|cured|pox\")\n",
    "economic = re.compile(\"economy|economic|oikonomike|household|price|prices|value|trade|traffic|traffique|money|bullion|exchange|luxury|spending|scarcity|plenty|east indies|corporation|west indies|carribean|india|corporation|company|merchant|merchants|plentitude|currency|calculation|public measure|consumables|superfluous|over-ballancing|over-balancing|impoverishing|gain|commerce|gold|silver|copper|ships|ship|debt|credit|debtor|creditor|decoctor|bank|usury|interest|rates|sugar|tobacco|beer|wool|uncharitable|charity|broker|monopoly|monopolization|monopolies|monopolium|monopolion|monopolie|monopolist| monopolizer|monopolize|monopolizes|monopolye|monopolyes|importation|exportation|silk|coin|unnecessary|necessary|efficient|under-valuation|employment|immodest|immoderate|prodigality|austerity|excess|excessive|vital|artificial|goods|natural|cheap|expensive|victual|treasure|commodities|international|income|commodity|revenue|land|profitable|unprofitable|industry|work|ware|loss|transportation|balance|usurer|estate|corruptible|property|prosperity|substance|disturber|consumer|cloth|drapery|use|non-use|profusion|tea|spices|china|free trade|means|flourish\")\n",
    "political = re.compile(\"commonwealth|politick|politic|political|body politick|body politic|government|prince|war|ruler|king|queen|extortion|oppression|restoration|revolution|constitution|navy|military|army|strength|power|might|england|britain|ireland|netherlands|scotland|netherlands|dutch|spanish|germany|holy roman empire|mughal|christian|christianity|god|state|country|parliament|crisis|common|lords|lord|crisis|national|governor|public|publicke|low countries|controversy|controversies|authority|empire|bills|treatise|treatises|civilian|protection|pirates|pirate|civil war|massacre|indonesia|india|china|argier|tunis|kingdom|provincial|scandalous|scandal|majesty|subject|christiandom|enemy|turkish|ally\")\n",
    "\n",
    "# meed | mede | corrupt | corruption | bribe | bribery | presents | gifts | gifting | graft | gratuity | rewards | benefits | poison | extortion | favor | favour | gentle rewards | good turns | putrid | decay | dissolution | contamination | depravity | wickedness | corruptionem | corruptio | spoiling | seducing | destroy | seduce | perversion | vitiation | vitiare | impairment | vitium | vice | perverto | nabobs | nabob"
   ]
  },
  {
   "cell_type": "code",
   "execution_count": null,
   "id": "f97b3f4b",
   "metadata": {},
   "outputs": [],
   "source": [
    "freqOverTime(econFile,lexicon,1660,1714)"
   ]
  },
  {
   "cell_type": "code",
   "execution_count": null,
   "id": "9a6b5d21",
   "metadata": {},
   "outputs": [],
   "source": [
    "scatter(dates,freqs,\"Pirate and Piracy in EIC texts 1660-1714\",\"purple\")"
   ]
  },
  {
   "cell_type": "code",
   "execution_count": null,
   "id": "4dd60ca0",
   "metadata": {},
   "outputs": [],
   "source": [
    "bar(freqDates.keys(),freqDates.values(),\"Pirate and Piracy in EIC texts 1660-1714\",\"Year\",\"Frequency\")"
   ]
  }
 ],
 "metadata": {
  "kernelspec": {
   "display_name": "Python 3",
   "language": "python",
   "name": "python3"
  },
  "language_info": {
   "codemirror_mode": {
    "name": "ipython",
    "version": 3
   },
   "file_extension": ".py",
   "mimetype": "text/x-python",
   "name": "python",
   "nbconvert_exporter": "python",
   "pygments_lexer": "ipython3",
   "version": "3.8.8"
  }
 },
 "nbformat": 4,
 "nbformat_minor": 5
}
