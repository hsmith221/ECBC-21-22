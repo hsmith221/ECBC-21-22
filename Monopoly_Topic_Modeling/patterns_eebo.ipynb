{
 "cells": [
  {
   "cell_type": "markdown",
   "id": "73d5e287",
   "metadata": {},
   "source": [
    "This file finds and graphs the frequencies of target words over time.\n",
    "\n",
    "Author: Amy Weng "
   ]
  },
  {
   "cell_type": "code",
   "execution_count": 2,
   "id": "847a11ec",
   "metadata": {},
   "outputs": [],
   "source": [
    "import re\n",
    "import pandas as pd\n",
    "import matplotlib.pyplot as plt\n",
    "import numpy as np\n",
    "\n",
    "directory = r'C:\\Users\\amycw\\Desktop\\ecbc research'\n",
    "folder = directory+\"\\\\\"+'eebo_clean'\n",
    "eicfile = directory + \"\\\\\" + 'eic_dated.csv'\n",
    "monopolyfile = directory + \"\\\\\" + 'monopoly_dated.csv'"
   ]
  },
  {
   "cell_type": "code",
   "execution_count": 1,
   "id": "ffdaa5cb",
   "metadata": {},
   "outputs": [],
   "source": [
    "author = {} \n",
    "def authors(filename, start, end):\n",
    "    readFile = pd.read_csv(filename) \n",
    "    for i in range(len(readFile.index)):\n",
    "        data = readFile[i:(i+1)]\n",
    "        date = data.iloc[0].date\n",
    "        if (int(date) in range(start, end)):\n",
    "            a = data.iloc[0].author\n",
    "            if a not in author.keys(): \n",
    "                author[a] = 0\n",
    "            author[a] += 1\n",
    "    for k,v in sorted (author.items(), key=lambda kv:(kv[1], kv[0]), reverse=True):\n",
    "        print(k + \": \" + str(v) + \" \")"
   ]
  },
  {
   "cell_type": "code",
   "execution_count": null,
   "id": "70813e84",
   "metadata": {},
   "outputs": [],
   "source": [
    "authors(eicfile,1660,1714)"
   ]
  },
  {
   "cell_type": "code",
   "execution_count": 4,
   "metadata": {},
   "outputs": [
    {
     "name": "stdout",
     "output_type": "stream",
     "text": [
      "no author: 12 \n",
      "england and wales parliament: 5 \n",
      "company of scotland trading to africa and the indies: 2 \n",
      "briscoe john fl : 2 \n",
      "william king of england -: 1 \n",
      "whiston james -: 1 \n",
      "verax philanax: 1 \n",
      "tindall william: 1 \n",
      "season nicolas -: 1 \n",
      "scotland: 1 \n",
      "miller william: 1 \n",
      "j s: 1 \n",
      "houghton thomas gent europe's glory: 1 \n",
      "england and wales sovereign - william : 1 \n"
     ]
    }
   ],
   "source": [
    "authors(eicfile,1695,1696)"
   ]
  },
  {
   "cell_type": "code",
   "execution_count": null,
   "id": "bd2f6e67",
   "metadata": {},
   "outputs": [],
   "source": [
    "authors(monopolyfile,1660,1714)"
   ]
  },
  {
   "cell_type": "code",
   "execution_count": 6,
   "id": "3098e1bf",
   "metadata": {},
   "outputs": [],
   "source": [
    "def titles(filename, start, end):\n",
    "    titles = {} \n",
    "    readFile = pd.read_csv(filename) \n",
    "    for i in range(len(readFile.index)):\n",
    "        data = readFile[i:(i+1)]\n",
    "        date = data.iloc[0].date\n",
    "        if (int(date) in range(start, end)):\n",
    "            t = data.iloc[0].title\n",
    "            if t not in titles.keys(): \n",
    "                titles[t] = 0\n",
    "            titles[t] += 1\n",
    "    for pair in sorted (titles.items(), key=lambda kv:(kv[1], kv[0]), reverse=True):\n",
    "        print(pair)\n",
    "        print(\"\\n\")"
   ]
  },
  {
   "cell_type": "code",
   "execution_count": 7,
   "metadata": {},
   "outputs": [
    {
     "name": "stdout",
     "output_type": "stream",
     "text": [
      "('the humble address of the right honourable the lords spiritual temporal and commons in parliament assembled presented to his majesty on the seventeenth of december ', 2)\n",
      "\n",
      "\n",
      "('reasons humbly offered to the consideration of the lords spiritual and temporal on behalf of the bill to restrain the wearing of east-india and persia wrought silks ', 2)\n",
      "\n",
      "\n",
      "('discourse of money ', 2)\n",
      "\n",
      "\n",
      "('considerations requiring greater care for trade in england and some expedients proposed', 2)\n",
      "\n",
      "\n",
      "('by the king a proclamation for apprehending and securing the person of monsieur john robert william r whereas we have been informed that by the examinations and informations upon oath of several persons lately taken before a committee of both our houses of parliament ', 2)\n",
      "\n",
      "\n",
      "('an account of the men of war not including privateers taken from the french since the beginning of the war declared the th of may to the st of october ', 2)\n",
      "\n",
      "\n",
      "('a full and exact collection of all the considerable addresses memorials petitions answers proclamations declarations letters and other public papers relating to the company of scotland trading to africa and the indies since the passing of the act of parliament by which the said company was established in june till november together with a short preface including the act itself as also a table of whole contents', 2)\n",
      "\n",
      "\n",
      "('the present state of persia with a faithful account of the manners religion and government of that people by monsieur season a missionary from the french king adorned with figures done into english', 1)\n",
      "\n",
      "\n",
      "('the humble address of the right honourable lords spiritual and temporal and commons in parliament assembled die veneris december ', 1)\n",
      "\n",
      "\n",
      "('the causes of our present calamities in reference to the trade of the nation fully discovered with the most proper expedient to remedy the same whereby the war it self may become as certainly advantageous as a peace will be destructive humbly presented by james whiston', 1)\n",
      "\n",
      "\n",
      "('the alteration of the coin with a feasible method to do it most humbly proposed to both houses of parliament to which is annexed a projection or scheem of reasonable terms for establishing a firm and general peace in europe by thomas houghton of lyme-street gent', 1)\n",
      "\n",
      "\n",
      "('some remarks upon the bank and other pretended banks with reasons humbly offered to the consideration of the present parliament for establishing a real land-fund or a money and land bank under a regular menagerie with unquestionable controls and checks upon them by philalethes', 1)\n",
      "\n",
      "\n",
      "(\"some remarks on captain dorrill's answer to mr littleton's letter concerning a debt owing to one muttredas in india by the east-india company\", 1)\n",
      "\n",
      "\n",
      "('some considerations upon the late act of the parliament of scotland for constituting an indian company in a letter to a friend', 1)\n",
      "\n",
      "\n",
      "('some account of the transactions of mr william paterson in relation to the bank of england and the orphans fund in a letter to a friend', 1)\n",
      "\n",
      "\n",
      "('remarks with political observations upon divers authors who have lately treated upon the coin of the kingdom', 1)\n",
      "\n",
      "\n",
      "('reasons humbly proposed for asserting and securing the right of the subjects to the freedom of trade until they are excluded from it by act of parliament', 1)\n",
      "\n",
      "\n",
      "('laws etc', 1)\n",
      "\n",
      "\n",
      "(\"england's great interest by encouraging the setting up the royal fishery within the british seas with some political observations out of divers authors treating of the manifold advantages by sea and land from the fishing trade as also an impartial account of the proceedings of the corporation to this time published by approbation and allowance of the company of the royal fishery of england for encouraging the people of these nations to improve the advantages thereof under the countenance and privilege granted to the company and their successors by his late majesty king charles in letters patents under the great seal of england bearing date th day of september in the th year of his said majesty's reign\", 1)\n",
      "\n",
      "\n",
      "('an impartial account of the horrid and detestable conspiracy to assassinate his sacred majesty king william raise a rebellion in england scotland and ireland and to encourage an invasion from france', 1)\n",
      "\n",
      "\n",
      "('a letter from a member of the parliament of scotland to his friend at london concerning their late act for establishing a company of that kingdom trading to africa and the indies', 1)\n",
      "\n",
      "\n",
      "('a discourse of money being an essay on that subject historically and politically handled with reflections on the present evil state of the coin of this kingdom and proposals of a method for the remedy in a letter to a nobleman ', 1)\n",
      "\n",
      "\n",
      "('a curious collection of books and pamphlets being the stock of mr william miller late of london bookseller consisting in hebrew greek latin english french spanish dutch portuguese will be sold by auction on thursday the th instant at eleven a clock in the forenoon in westminster-hall which sale will continue until the number of bundles are sold off by ----', 1)\n",
      "\n",
      "\n",
      "(\"a brief account of the great oppressions and injuries which the managers of the east-india company have acted on the lives liberties and estates of their fellow-subjects as also of their unjust dealings whereby they have exposed the honour and interest of the nation and hazarded the entire loss of that advantageous trade humbly offer' as reasons for establishing a new joint-stock\", 1)\n",
      "\n",
      "\n"
     ]
    }
   ],
   "source": [
    "titles(eicfile, 1695,1696)"
   ]
  },
  {
   "cell_type": "code",
   "execution_count": null,
   "id": "d7652110",
   "metadata": {},
   "outputs": [],
   "source": [
    "def scatter(dates,freqs,title,color):\n",
    "    xData = list(map(int, dates))\n",
    "    yData = list(map(int, freqs))\n",
    "    xyCoords=np.c_[xData,yData]\n",
    "    uniquePoints, counts = np.unique(xyCoords, return_counts=True,axis=0)\n",
    "    plt.scatter(uniquePoints[:,0],uniquePoints[:,1],s=counts*10,c=color,)\n",
    "\n",
    "    fig = plt.gcf()\n",
    "    fig.set_size_inches(10, 10)\n",
    "\n",
    "    plt.xlabel(\"Year\", fontsize=20)\n",
    "    plt.ylabel(\"Frequency\", fontsize=20)\n",
    "    plt.title(title,fontsize=20)\n",
    "    plt.show()"
   ]
  },
  {
   "cell_type": "code",
   "execution_count": null,
   "id": "dbf70e7a",
   "metadata": {},
   "outputs": [],
   "source": [
    "def scatter3D(dates, yFreq, zFreq, title, ylabel, zlabel,color):\n",
    "    x = list(map(int, dates))\n",
    "    y = list(map(int, yFreq))\n",
    "    z = list(map(int, zFreq))\n",
    "\n",
    "    plt.figure(figsize = (10, 10))\n",
    "    ax = plt.axes(projection =\"3d\")\n",
    "\n",
    "    ax.scatter3D(x, y, z, color = color)\n",
    "    plt.title(title)\n",
    "    ax.set_xlabel(\"Year\", fontweight ='bold')\n",
    "    ax.set_ylabel(ylabel, fontweight ='bold')\n",
    "    ax.set_zlabel(zlabel, fontweight ='bold')\n",
    "    plt.show()"
   ]
  },
  {
   "cell_type": "code",
   "execution_count": 8,
   "id": "e7184c6d",
   "metadata": {},
   "outputs": [],
   "source": [
    "def bar(xData,yData,title,xlabel,ylabel):\n",
    "    if (xData == \"Year\"):\n",
    "        xData = list(map(int, xData))\n",
    "        yData = list(map(int, yData))\n",
    "    plt.bar(xData,yData)\n",
    "    plt.title(title)\n",
    "    plt.xlabel(xlabel)\n",
    "    plt.ylabel(ylabel)\n",
    "    plt.show()"
   ]
  },
  {
   "cell_type": "code",
   "execution_count": 9,
   "id": "09e40abb",
   "metadata": {
    "scrolled": true
   },
   "outputs": [],
   "source": [
    "dates = []\n",
    "freqs = []\n",
    "freqDates = {}  \n",
    "def freqOverTime(filename, word, start, end):\n",
    "    count = 0 \n",
    "    readFile = pd.read_csv(filename) \n",
    "    for i in range(len(readFile.index)):\n",
    "        data = readFile[i:(i+1)]\n",
    "        date = data.iloc[0].date\n",
    "        if (int(date) in range(start, end)):\n",
    "            text = data.iloc[0].text\n",
    "            if (re.search(word,text)!=None): \n",
    "                count += 1\n",
    "                dates.append(date)\n",
    "                freqs.append(len(re.findall(lexicon,text)))\n",
    "                if date not in freqDates.keys(): \n",
    "                    freqDates[date] = 0\n",
    "                freqDates[date] += 1\n",
    "    print(\"The total number of texts is \"+str(count))\n",
    "    for pair in sorted (freqDates.items(), key=lambda kv:(kv[1], kv[0]), reverse=True):\n",
    "        print(pair)"
   ]
  },
  {
   "cell_type": "code",
   "execution_count": null,
   "id": "997c1aa1",
   "metadata": {},
   "outputs": [],
   "source": [
    "years = {} \n",
    "def findYears(filename,start,end):\n",
    "    readFile = pd.read_csv(filename) \n",
    "    for i in range(len(readFile.index)):\n",
    "        data = readFile[i:(i+1)]\n",
    "        date = data.iloc[0].date\n",
    "        if (int(date) in range(start, end)):\n",
    "            if date not in years.keys(): \n",
    "                years[date] = 0\n",
    "            years[date] += 1\n",
    "    for pair in sorted (years.items(), key=lambda kv:(kv[1], kv[0]), reverse=True):\n",
    "        print(pair)\n"
   ]
  },
  {
   "cell_type": "code",
   "execution_count": null,
   "id": "a4114e75",
   "metadata": {},
   "outputs": [],
   "source": [
    "findYears(eicfile,1660,1714)"
   ]
  },
  {
   "cell_type": "code",
   "execution_count": 10,
   "id": "cf58b4a1",
   "metadata": {},
   "outputs": [],
   "source": [
    "eic = re.compile(\"east india company|east-india company|east-india-company\")\n",
    "monopoly = re.compile('monopoly|monopolization|monopolies|monopolium|monopolion|monopolie|monopolist|monopolizer|monopolize|monopolizes|monopolye|monopolyes')\n",
    "lexicon = re.compile('pirate|pirates|piracy')\n",
    "\n",
    "medical = re.compile(\"corruption|consumption|body politick|corrupt|consume|wasting|waste|blood|physician|decay|body|canker|cancer|disease|illness|remedy|cure|sickness|hepatitis|fever|spirit|brain|mind|vital|therapeutic|degeneration|degenerate|plague|smells|putrid|bad|tetrid|breathing|wholesome|healthy|unhealthy|sane|insane|nervous|languish|faculties|enfeeblement|drinks|tuberculosis|constitution|bile|black bile|yellow bile|phlegm|lung|sores|fog|smoke|diagnosis|prognosis|fiber|atrophy|morbid|mortal|mortality|nerves|inanition|defect|distemper|swelling|upset|stomach|cough|exercise|unwholesome|evacuation|fatal|fatality|vessels|hemmorrhage|bleeding|bleed|melancholy|diabetes|asthma|vomit|opiate|opium|ulcer|envy|jealousy|spoil|liver|vein|supple|heart|mouth|cured|pox\")\n",
    "economic = re.compile(\"economy|economic|oikonomike|household|price|prices|value|trade|traffic|traffique|money|bullion|exchange|luxury|spending|scarcity|plenty|east indies|corporation|west indies|carribean|india|corporation|company|merchant|merchants|plentitude|currency|calculation|public measure|consumables|superfluous|over-ballancing|over-balancing|impoverishing|gain|commerce|gold|silver|copper|ships|ship|debt|credit|debtor|creditor|decoctor|bank|usury|interest|rates|sugar|tobacco|beer|wool|uncharitable|charity|broker|monopoly|monopolization|monopolies|monopolium|monopolion|monopolie|monopolist| monopolizer|monopolize|monopolizes|monopolye|monopolyes|importation|exportation|silk|coin|unnecessary|necessary|efficient|under-valuation|employment|immodest|immoderate|prodigality|austerity|excess|excessive|vital|artificial|goods|natural|cheap|expensive|victual|treasure|commodities|international|income|commodity|revenue|land|profitable|unprofitable|industry|work|ware|loss|transportation|balance|usurer|estate|corruptible|property|prosperity|substance|disturber|consumer|cloth|drapery|use|non-use|profusion|tea|spices|china|free trade|means|flourish\")\n",
    "political = re.compile(\"commonwealth|politick|politic|political|body politick|body politic|government|prince|war|ruler|king|queen|extortion|oppression|restoration|revolution|constitution|navy|military|army|strength|power|might|england|britain|ireland|netherlands|scotland|netherlands|dutch|spanish|germany|holy roman empire|mughal|christian|christianity|god|state|country|parliament|crisis|common|lords|lord|crisis|national|governor|public|publicke|low countries|controversy|controversies|authority|empire|bills|treatise|treatises|civilian|protection|pirates|pirate|civil war|massacre|indonesia|india|china|argier|tunis|kingdom|provincial|scandalous|scandal|majesty|subject|christiandom|enemy|turkish|ally\")\n",
    "\n",
    "# meed | mede | corrupt | corruption | bribe | bribery | presents | gifts | gifting | graft | gratuity | rewards | benefits | poison | extortion | favor | favour | gentle rewards | good turns | putrid | decay | dissolution | contamination | depravity | wickedness | corruptionem | corruptio | spoiling | seducing | destroy | seduce | perversion | vitiation | vitiare | impairment | vitium | vice | perverto | nabobs | nabob"
   ]
  },
  {
   "cell_type": "code",
   "execution_count": null,
   "id": "f97b3f4b",
   "metadata": {},
   "outputs": [],
   "source": [
    "freqOverTime(eicfile,lexicon,1660,1714)"
   ]
  },
  {
   "cell_type": "code",
   "execution_count": null,
   "id": "9a6b5d21",
   "metadata": {},
   "outputs": [],
   "source": [
    "scatter(dates,freqs,\"Pirate and Piracy in EIC texts 1660-1714\",\"purple\")"
   ]
  },
  {
   "cell_type": "code",
   "execution_count": null,
   "id": "4dd60ca0",
   "metadata": {},
   "outputs": [],
   "source": [
    "bar(freqDates.keys(),freqDates.values(),\"Term frequency of free/private trade in EIC texts 1660-1714\",\"Year\",\"Frequency\")"
   ]
  },
  {
   "cell_type": "code",
   "execution_count": null,
   "id": "52826085",
   "metadata": {},
   "outputs": [],
   "source": [
    "bar(years.keys(),years.values(),\"Number of EIC Texts, 1660-1714\",\"Year\",\"Num Books\")"
   ]
  }
 ],
 "metadata": {
  "kernelspec": {
   "display_name": "Python 3",
   "language": "python",
   "name": "python3"
  },
  "language_info": {
   "codemirror_mode": {
    "name": "ipython",
    "version": 3
   },
   "file_extension": ".py",
   "mimetype": "text/x-python",
   "name": "python",
   "nbconvert_exporter": "python",
   "pygments_lexer": "ipython3",
   "version": "3.8.8"
  }
 },
 "nbformat": 4,
 "nbformat_minor": 5
}
